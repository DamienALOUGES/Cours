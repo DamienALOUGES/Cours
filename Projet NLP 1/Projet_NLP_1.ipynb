{
  "nbformat": 4,
  "nbformat_minor": 0,
  "metadata": {
    "colab": {
      "name": "Projet_NLP_1.ipynb",
      "provenance": [],
      "collapsed_sections": [],
      "toc_visible": true
    },
    "kernelspec": {
      "name": "python3",
      "display_name": "Python 3"
    }
  },
  "cells": [
    {
      "cell_type": "code",
      "metadata": {
        "id": "F0S7vEFJ2Qka",
        "colab": {
          "base_uri": "https://localhost:8080/"
        },
        "outputId": "1c3b3ae8-1070-4dd7-dede-e3bab7659a26"
      },
      "source": [
        "import pandas as pd \n",
        "import math\n",
        "import matplotlib.pyplot as plt\n",
        "import xml.etree.ElementTree as et\n",
        "from lxml import etree\n",
        "import re\n",
        "import string\n",
        "from bs4 import BeautifulSoup\n",
        "import nltk\n",
        "from nltk.tokenize import RegexpTokenizer\n",
        "import re\n",
        "from nltk.stem import WordNetLemmatizer\n",
        "from nltk.corpus import stopwords\n",
        "from sklearn.cluster import KMeans\n",
        "from sklearn.utils.extmath import randomized_svd\n",
        "import umap\n",
        "\n",
        "\n",
        "nltk.download('stopwords')"
      ],
      "execution_count": 35,
      "outputs": [
        {
          "output_type": "stream",
          "text": [
            "[nltk_data] Downloading package stopwords to /root/nltk_data...\n",
            "[nltk_data]   Package stopwords is already up-to-date!\n"
          ],
          "name": "stdout"
        },
        {
          "output_type": "execute_result",
          "data": {
            "text/plain": [
              "True"
            ]
          },
          "metadata": {
            "tags": []
          },
          "execution_count": 35
        }
      ]
    },
    {
      "cell_type": "markdown",
      "metadata": {
        "id": "PMtJxcCC2hcK"
      },
      "source": [
        "# importation des données"
      ]
    },
    {
      "cell_type": "code",
      "metadata": {
        "id": "dY0SgEDJW6px"
      },
      "source": [
        "tree1 = etree.parse(\"corpus_taln_v2.tei.xml\")\n",
        "#tree2 = etree.parse(\"exemple-article.xml\")\n",
        "\n",
        "df_cols = [\"abstract_fr\", \"keywords_fr\", \"intro\", \"titre\", \"date\"]"
      ],
      "execution_count": 4,
      "outputs": []
    },
    {
      "cell_type": "code",
      "metadata": {
        "id": "_ZKvTWXiy5lT"
      },
      "source": [
        "def text_cleaner(string):\n",
        "  if string != None :\n",
        "    string = string.translate(str.maketrans(\"\\n\\t\", \"  \"))\n",
        "  elif string == None:\n",
        "    string = \"None\"\n",
        "  return (string)"
      ],
      "execution_count": 5,
      "outputs": []
    },
    {
      "cell_type": "code",
      "metadata": {
        "id": "M1Zk9DdMDIyA"
      },
      "source": [
        "rows=[]\n",
        "compteur_article = 0\n",
        "\n",
        "root = tree1.getroot()\n",
        "for article in root:\n",
        "  intro = \"\"\n",
        "  abstract_fr = \"\"\n",
        "  keywords_fr = \"\"\n",
        "  titre = \"\"\n",
        "\n",
        "  abstract_fr = article[1][0][0][0].text\n",
        "  keywords_fr = article[1][0][2][0].text\n",
        "\n",
        "  abstract_fr= text_cleaner(abstract_fr)\n",
        "  keywords_fr= text_cleaner(keywords_fr)\n",
        "\n",
        "  try :\n",
        "    intro = article[1][1][0][1].text\n",
        "    intro = text_cleaner(intro)\n",
        "  except :\n",
        "    oui = 0\n",
        "  \n",
        "  titre = article[0][0][0][0].text\n",
        "  titre = text_cleaner(titre)\n",
        "\n",
        "  try : \n",
        "    date= article[0][0][1][2].text\n",
        "    date = text_cleaner(date)\n",
        "  except :\n",
        "    oui = 0\n",
        "\n",
        "  rows.append({\"abstract_fr\": abstract_fr, \"keywords_fr\":keywords_fr, \"intro\": intro, \"titre\": titre, \"date\":date})\n",
        "  compteur_article += 1"
      ],
      "execution_count": 6,
      "outputs": []
    },
    {
      "cell_type": "code",
      "metadata": {
        "colab": {
          "base_uri": "https://localhost:8080/",
          "height": 419
        },
        "id": "_QwoDA2oDI8H",
        "outputId": "3019b76b-5a4e-408b-fd0e-21219a5bc675"
      },
      "source": [
        "df = pd.DataFrame(rows, columns = df_cols)\n",
        "df"
      ],
      "execution_count": 7,
      "outputs": [
        {
          "output_type": "execute_result",
          "data": {
            "text/html": [
              "<div>\n",
              "<style scoped>\n",
              "    .dataframe tbody tr th:only-of-type {\n",
              "        vertical-align: middle;\n",
              "    }\n",
              "\n",
              "    .dataframe tbody tr th {\n",
              "        vertical-align: top;\n",
              "    }\n",
              "\n",
              "    .dataframe thead th {\n",
              "        text-align: right;\n",
              "    }\n",
              "</style>\n",
              "<table border=\"1\" class=\"dataframe\">\n",
              "  <thead>\n",
              "    <tr style=\"text-align: right;\">\n",
              "      <th></th>\n",
              "      <th>abstract_fr</th>\n",
              "      <th>keywords_fr</th>\n",
              "      <th>intro</th>\n",
              "      <th>titre</th>\n",
              "      <th>date</th>\n",
              "    </tr>\n",
              "  </thead>\n",
              "  <tbody>\n",
              "    <tr>\n",
              "      <th>0</th>\n",
              "      <td>Nous considérons dans notre travail la tâche ...</td>\n",
              "      <td>None</td>\n",
              "      <td>Le modèle de la Grammaire Applicative et Cogn...</td>\n",
              "      <td>Éléments de conception d'un système d'interpr...</td>\n",
              "      <td>1997</td>\n",
              "    </tr>\n",
              "    <tr>\n",
              "      <th>1</th>\n",
              "      <td>Nous donnons ici un aperçu du logiciel DECID ...</td>\n",
              "      <td>None</td>\n",
              "      <td>Dans le domaine de l'ingénierie linguistique ...</td>\n",
              "      <td>Informatisation du dictionnaire explicatif et...</td>\n",
              "      <td>1997</td>\n",
              "    </tr>\n",
              "    <tr>\n",
              "      <th>2</th>\n",
              "      <td>Diverses méthodes ont été proposées pour cons...</td>\n",
              "      <td>None</td>\n",
              "      <td></td>\n",
              "      <td>Construction d'une représentation sémantique ...</td>\n",
              "      <td>1997</td>\n",
              "    </tr>\n",
              "    <tr>\n",
              "      <th>3</th>\n",
              "      <td>Le terme de lambda-DRT désigne un ensemble de...</td>\n",
              "      <td>None</td>\n",
              "      <td>La « Théorie des Représentations Discursives ...</td>\n",
              "      <td>Systèmes de types pour la (lambda-)DRT ascend...</td>\n",
              "      <td>1998</td>\n",
              "    </tr>\n",
              "    <tr>\n",
              "      <th>4</th>\n",
              "      <td>Dans cet article, nous comparons deux modèles...</td>\n",
              "      <td>None</td>\n",
              "      <td>TAG est un formalisme initialement développé ...</td>\n",
              "      <td>Une grammaire TAG vue comme une grammaire Sen...</td>\n",
              "      <td>1998</td>\n",
              "    </tr>\n",
              "    <tr>\n",
              "      <th>...</th>\n",
              "      <td>...</td>\n",
              "      <td>...</td>\n",
              "      <td>...</td>\n",
              "      <td>...</td>\n",
              "      <td>...</td>\n",
              "    </tr>\n",
              "    <tr>\n",
              "      <th>1597</th>\n",
              "      <td>Dans cet article, nous présentons une approch...</td>\n",
              "      <td>Curriculum d'apprentissage, transfert d'appre...</td>\n",
              "      <td>L'apprentissage humain est réalisé par étapes...</td>\n",
              "      <td>Curriculum d'apprentissage : reconnaissance d...</td>\n",
              "      <td>2019</td>\n",
              "    </tr>\n",
              "    <tr>\n",
              "      <th>1598</th>\n",
              "      <td>Cet article présente une méthodologie de déte...</td>\n",
              "      <td>ellipse, anglais, corpus, sous-titres, détect...</td>\n",
              "      <td>L'ellipse renvoie à une incomplétude syntaxiq...</td>\n",
              "      <td>Détection des ellipses dans des corpus de sou...</td>\n",
              "      <td>2019</td>\n",
              "    </tr>\n",
              "    <tr>\n",
              "      <th>1599</th>\n",
              "      <td>La génération automatique de poésie est une t...</td>\n",
              "      <td>génération de poésie, réseaux de neurones, fa...</td>\n",
              "      <td>La génération automatique de poésie est une t...</td>\n",
              "      <td>La génération automatique de poésie en français</td>\n",
              "      <td>2019</td>\n",
              "    </tr>\n",
              "    <tr>\n",
              "      <th>1600</th>\n",
              "      <td>Nous proposons une architecture neuronale ave...</td>\n",
              "      <td>Réseaux neuronaux, modélisation de séquences,...</td>\n",
              "      <td>L'étiquetage de séquences est un problème imp...</td>\n",
              "      <td>Modèles neuronaux hybrides pour la modélisati...</td>\n",
              "      <td>2019</td>\n",
              "    </tr>\n",
              "    <tr>\n",
              "      <th>1601</th>\n",
              "      <td>Nous présentons la base PolylexFLE, contenant...</td>\n",
              "      <td>expressions polylexicales vebales, niveau CEC...</td>\n",
              "      <td>Les expressions polylexicales (EP) constituen...</td>\n",
              "      <td>PolylexFLE : une base de données d'expression...</td>\n",
              "      <td>2019</td>\n",
              "    </tr>\n",
              "  </tbody>\n",
              "</table>\n",
              "<p>1602 rows × 5 columns</p>\n",
              "</div>"
            ],
            "text/plain": [
              "                                            abstract_fr  ...  date\n",
              "0      Nous considérons dans notre travail la tâche ...  ...  1997\n",
              "1      Nous donnons ici un aperçu du logiciel DECID ...  ...  1997\n",
              "2      Diverses méthodes ont été proposées pour cons...  ...  1997\n",
              "3      Le terme de lambda-DRT désigne un ensemble de...  ...  1998\n",
              "4      Dans cet article, nous comparons deux modèles...  ...  1998\n",
              "...                                                 ...  ...   ...\n",
              "1597   Dans cet article, nous présentons une approch...  ...  2019\n",
              "1598   Cet article présente une méthodologie de déte...  ...  2019\n",
              "1599   La génération automatique de poésie est une t...  ...  2019\n",
              "1600   Nous proposons une architecture neuronale ave...  ...  2019\n",
              "1601   Nous présentons la base PolylexFLE, contenant...  ...  2019\n",
              "\n",
              "[1602 rows x 5 columns]"
            ]
          },
          "metadata": {
            "tags": []
          },
          "execution_count": 7
        }
      ]
    },
    {
      "cell_type": "code",
      "metadata": {
        "colab": {
          "base_uri": "https://localhost:8080/"
        },
        "id": "iUlxw0O-4j_q",
        "outputId": "b0a0cfcc-6b46-4452-c140-497a512dac66"
      },
      "source": [
        "compteur_article"
      ],
      "execution_count": 8,
      "outputs": [
        {
          "output_type": "execute_result",
          "data": {
            "text/plain": [
              "1602"
            ]
          },
          "metadata": {
            "tags": []
          },
          "execution_count": 8
        }
      ]
    },
    {
      "cell_type": "markdown",
      "metadata": {
        "id": "l31-6xz6od81"
      },
      "source": [
        "# création de keywords en se basant sur les abstracts"
      ]
    },
    {
      "cell_type": "code",
      "metadata": {
        "id": "NQKabte_Xbnj"
      },
      "source": [
        "tokenizer=RegexpTokenizer(\"[\\w]+\")\n",
        "\n",
        "\n",
        "\n",
        "replacement_patterns = [\n",
        "(r'd\\'', 'de '),\n",
        "(r'l\\'', 'le '),\n",
        "(r',', ' '),\n",
        "(r'-', ' ')\n",
        "]\n",
        "\n",
        "class RegexpReplacer(object):\n",
        "   def __init__(self, patterns=replacement_patterns):\n",
        "      self.patterns = [(re.compile(regex), repl) for (regex, repl) in patterns]\n",
        "\n",
        "   def replace(self, text):\n",
        "      s = text\n",
        "      for (pattern, repl) in self.patterns:\n",
        "           s = re.sub(pattern, repl, s)\n",
        "      return s\n",
        "\n",
        "replacer = RegexpReplacer()"
      ],
      "execution_count": 9,
      "outputs": []
    },
    {
      "cell_type": "code",
      "metadata": {
        "id": "PN07fVbwls53"
      },
      "source": [
        "tokenized_abstract = []\n",
        "cleaned_abstract = []\n",
        "for abstract in df['abstract_fr'] :\n",
        "  tokenized_abstract.append((tokenizer.tokenize(replacer.replace(abstract.lower()))))\n",
        "  cleaned_abstract.append(replacer.replace(abstract.lower()))\n",
        "\n",
        "df['tokenized_abstract'] = tokenized_abstract\n",
        "df['cleaned_abstract'] = cleaned_abstract"
      ],
      "execution_count": 10,
      "outputs": []
    },
    {
      "cell_type": "code",
      "metadata": {
        "colab": {
          "base_uri": "https://localhost:8080/",
          "height": 289
        },
        "id": "akoMOu3OlvI9",
        "outputId": "f3129399-c320-46a2-ed26-cb0c0ab3926d"
      },
      "source": [
        "df.head()"
      ],
      "execution_count": 11,
      "outputs": [
        {
          "output_type": "execute_result",
          "data": {
            "text/html": [
              "<div>\n",
              "<style scoped>\n",
              "    .dataframe tbody tr th:only-of-type {\n",
              "        vertical-align: middle;\n",
              "    }\n",
              "\n",
              "    .dataframe tbody tr th {\n",
              "        vertical-align: top;\n",
              "    }\n",
              "\n",
              "    .dataframe thead th {\n",
              "        text-align: right;\n",
              "    }\n",
              "</style>\n",
              "<table border=\"1\" class=\"dataframe\">\n",
              "  <thead>\n",
              "    <tr style=\"text-align: right;\">\n",
              "      <th></th>\n",
              "      <th>abstract_fr</th>\n",
              "      <th>keywords_fr</th>\n",
              "      <th>intro</th>\n",
              "      <th>titre</th>\n",
              "      <th>date</th>\n",
              "      <th>tokenized_abstract</th>\n",
              "      <th>cleaned_abstract</th>\n",
              "    </tr>\n",
              "  </thead>\n",
              "  <tbody>\n",
              "    <tr>\n",
              "      <th>0</th>\n",
              "      <td>Nous considérons dans notre travail la tâche ...</td>\n",
              "      <td>None</td>\n",
              "      <td>Le modèle de la Grammaire Applicative et Cogn...</td>\n",
              "      <td>Éléments de conception d'un système d'interpr...</td>\n",
              "      <td>1997</td>\n",
              "      <td>[nous, considérons, dans, notre, travail, la, ...</td>\n",
              "      <td>nous considérons dans notre travail la tâche ...</td>\n",
              "    </tr>\n",
              "    <tr>\n",
              "      <th>1</th>\n",
              "      <td>Nous donnons ici un aperçu du logiciel DECID ...</td>\n",
              "      <td>None</td>\n",
              "      <td>Dans le domaine de l'ingénierie linguistique ...</td>\n",
              "      <td>Informatisation du dictionnaire explicatif et...</td>\n",
              "      <td>1997</td>\n",
              "      <td>[nous, donnons, ici, un, aperçu, du, logiciel,...</td>\n",
              "      <td>nous donnons ici un aperçu du logiciel decid ...</td>\n",
              "    </tr>\n",
              "    <tr>\n",
              "      <th>2</th>\n",
              "      <td>Diverses méthodes ont été proposées pour cons...</td>\n",
              "      <td>None</td>\n",
              "      <td></td>\n",
              "      <td>Construction d'une représentation sémantique ...</td>\n",
              "      <td>1997</td>\n",
              "      <td>[diverses, méthodes, ont, été, proposées, pour...</td>\n",
              "      <td>diverses méthodes ont été proposées pour cons...</td>\n",
              "    </tr>\n",
              "    <tr>\n",
              "      <th>3</th>\n",
              "      <td>Le terme de lambda-DRT désigne un ensemble de...</td>\n",
              "      <td>None</td>\n",
              "      <td>La « Théorie des Représentations Discursives ...</td>\n",
              "      <td>Systèmes de types pour la (lambda-)DRT ascend...</td>\n",
              "      <td>1998</td>\n",
              "      <td>[le, terme, de, lambda, drt, désigne, un, ense...</td>\n",
              "      <td>le terme de lambda drt désigne un ensemble de...</td>\n",
              "    </tr>\n",
              "    <tr>\n",
              "      <th>4</th>\n",
              "      <td>Dans cet article, nous comparons deux modèles...</td>\n",
              "      <td>None</td>\n",
              "      <td>TAG est un formalisme initialement développé ...</td>\n",
              "      <td>Une grammaire TAG vue comme une grammaire Sen...</td>\n",
              "      <td>1998</td>\n",
              "      <td>[dans, cet, article, nous, comparons, deux, mo...</td>\n",
              "      <td>dans cet article  nous comparons deux modèles...</td>\n",
              "    </tr>\n",
              "  </tbody>\n",
              "</table>\n",
              "</div>"
            ],
            "text/plain": [
              "                                         abstract_fr  ...                                   cleaned_abstract\n",
              "0   Nous considérons dans notre travail la tâche ...  ...   nous considérons dans notre travail la tâche ...\n",
              "1   Nous donnons ici un aperçu du logiciel DECID ...  ...   nous donnons ici un aperçu du logiciel decid ...\n",
              "2   Diverses méthodes ont été proposées pour cons...  ...   diverses méthodes ont été proposées pour cons...\n",
              "3   Le terme de lambda-DRT désigne un ensemble de...  ...   le terme de lambda drt désigne un ensemble de...\n",
              "4   Dans cet article, nous comparons deux modèles...  ...   dans cet article  nous comparons deux modèles...\n",
              "\n",
              "[5 rows x 7 columns]"
            ]
          },
          "metadata": {
            "tags": []
          },
          "execution_count": 11
        }
      ]
    },
    {
      "cell_type": "code",
      "metadata": {
        "colab": {
          "base_uri": "https://localhost:8080/"
        },
        "id": "0Zr4ZChMlxbO",
        "outputId": "0c23c5dc-e058-4ea9-bee2-19567c21eaac"
      },
      "source": [
        "common_word = pd.Series(' '.join(df['cleaned_abstract']).split()).value_counts()[:25]\n",
        "common_word"
      ],
      "execution_count": 12,
      "outputs": [
        {
          "output_type": "execute_result",
          "data": {
            "text/plain": [
              "de         16765\n",
              "le          6506\n",
              "des         5036\n",
              "la          4953\n",
              "les         3866\n",
              "et          3802\n",
              "un          3253\n",
              "à           3127\n",
              "une         3117\n",
              "nous        3021\n",
              "en          2570\n",
              "dans        2363\n",
              "pour        2303\n",
              "sur         1878\n",
              "du          1598\n",
              "est         1321\n",
              "par         1191\n",
              "que         1156\n",
              "qui         1021\n",
              "corpus      1005\n",
              "cet          967\n",
              "article      945\n",
              "sont         821\n",
              "cette        739\n",
              "ces          714\n",
              "dtype: int64"
            ]
          },
          "metadata": {
            "tags": []
          },
          "execution_count": 12
        }
      ]
    },
    {
      "cell_type": "code",
      "metadata": {
        "colab": {
          "base_uri": "https://localhost:8080/"
        },
        "id": "JQ1VKYD_lz72",
        "outputId": "87a22c0a-4df0-4177-f845-d092af7c7c9b"
      },
      "source": [
        "nltk.download('wordnet')\n",
        "lemmatizer_output=WordNetLemmatizer()\n",
        "for index in range(len(df['tokenized_abstract'])) :\n",
        "  df['tokenized_abstract'][index] = [lemmatizer_output.lemmatize(word.lower(), pos='v') for word in df['tokenized_abstract'][index] if word not in common_word] \n"
      ],
      "execution_count": 13,
      "outputs": [
        {
          "output_type": "stream",
          "text": [
            "[nltk_data] Downloading package wordnet to /root/nltk_data...\n",
            "[nltk_data]   Unzipping corpora/wordnet.zip.\n"
          ],
          "name": "stdout"
        }
      ]
    },
    {
      "cell_type": "code",
      "metadata": {
        "colab": {
          "base_uri": "https://localhost:8080/",
          "height": 289
        },
        "id": "I_nyQZikl2cb",
        "outputId": "2de54cdb-beb3-4e51-9138-da754a3c3475"
      },
      "source": [
        "df.head()"
      ],
      "execution_count": 14,
      "outputs": [
        {
          "output_type": "execute_result",
          "data": {
            "text/html": [
              "<div>\n",
              "<style scoped>\n",
              "    .dataframe tbody tr th:only-of-type {\n",
              "        vertical-align: middle;\n",
              "    }\n",
              "\n",
              "    .dataframe tbody tr th {\n",
              "        vertical-align: top;\n",
              "    }\n",
              "\n",
              "    .dataframe thead th {\n",
              "        text-align: right;\n",
              "    }\n",
              "</style>\n",
              "<table border=\"1\" class=\"dataframe\">\n",
              "  <thead>\n",
              "    <tr style=\"text-align: right;\">\n",
              "      <th></th>\n",
              "      <th>abstract_fr</th>\n",
              "      <th>keywords_fr</th>\n",
              "      <th>intro</th>\n",
              "      <th>titre</th>\n",
              "      <th>date</th>\n",
              "      <th>tokenized_abstract</th>\n",
              "      <th>cleaned_abstract</th>\n",
              "    </tr>\n",
              "  </thead>\n",
              "  <tbody>\n",
              "    <tr>\n",
              "      <th>0</th>\n",
              "      <td>Nous considérons dans notre travail la tâche ...</td>\n",
              "      <td>None</td>\n",
              "      <td>Le modèle de la Grammaire Applicative et Cogn...</td>\n",
              "      <td>Éléments de conception d'un système d'interpr...</td>\n",
              "      <td>1997</td>\n",
              "      <td>[considérons, notre, travail, tâche, traitemen...</td>\n",
              "      <td>nous considérons dans notre travail la tâche ...</td>\n",
              "    </tr>\n",
              "    <tr>\n",
              "      <th>1</th>\n",
              "      <td>Nous donnons ici un aperçu du logiciel DECID ...</td>\n",
              "      <td>None</td>\n",
              "      <td>Dans le domaine de l'ingénierie linguistique ...</td>\n",
              "      <td>Informatisation du dictionnaire explicatif et...</td>\n",
              "      <td>1997</td>\n",
              "      <td>[donnons, ici, aperçu, logiciel, decid, dévelo...</td>\n",
              "      <td>nous donnons ici un aperçu du logiciel decid ...</td>\n",
              "    </tr>\n",
              "    <tr>\n",
              "      <th>2</th>\n",
              "      <td>Diverses méthodes ont été proposées pour cons...</td>\n",
              "      <td>None</td>\n",
              "      <td></td>\n",
              "      <td>Construction d'une représentation sémantique ...</td>\n",
              "      <td>1997</td>\n",
              "      <td>[diverses, méthodes, ont, été, proposées, cons...</td>\n",
              "      <td>diverses méthodes ont été proposées pour cons...</td>\n",
              "    </tr>\n",
              "    <tr>\n",
              "      <th>3</th>\n",
              "      <td>Le terme de lambda-DRT désigne un ensemble de...</td>\n",
              "      <td>None</td>\n",
              "      <td>La « Théorie des Représentations Discursives ...</td>\n",
              "      <td>Systèmes de types pour la (lambda-)DRT ascend...</td>\n",
              "      <td>1998</td>\n",
              "      <td>[terme, lambda, drt, désigne, ensemble, méthod...</td>\n",
              "      <td>le terme de lambda drt désigne un ensemble de...</td>\n",
              "    </tr>\n",
              "    <tr>\n",
              "      <th>4</th>\n",
              "      <td>Dans cet article, nous comparons deux modèles...</td>\n",
              "      <td>None</td>\n",
              "      <td>TAG est un formalisme initialement développé ...</td>\n",
              "      <td>Une grammaire TAG vue comme une grammaire Sen...</td>\n",
              "      <td>1998</td>\n",
              "      <td>[comparons, deux, modèles, linguistiques, util...</td>\n",
              "      <td>dans cet article  nous comparons deux modèles...</td>\n",
              "    </tr>\n",
              "  </tbody>\n",
              "</table>\n",
              "</div>"
            ],
            "text/plain": [
              "                                         abstract_fr  ...                                   cleaned_abstract\n",
              "0   Nous considérons dans notre travail la tâche ...  ...   nous considérons dans notre travail la tâche ...\n",
              "1   Nous donnons ici un aperçu du logiciel DECID ...  ...   nous donnons ici un aperçu du logiciel decid ...\n",
              "2   Diverses méthodes ont été proposées pour cons...  ...   diverses méthodes ont été proposées pour cons...\n",
              "3   Le terme de lambda-DRT désigne un ensemble de...  ...   le terme de lambda drt désigne un ensemble de...\n",
              "4   Dans cet article, nous comparons deux modèles...  ...   dans cet article  nous comparons deux modèles...\n",
              "\n",
              "[5 rows x 7 columns]"
            ]
          },
          "metadata": {
            "tags": []
          },
          "execution_count": 14
        }
      ]
    },
    {
      "cell_type": "code",
      "metadata": {
        "colab": {
          "base_uri": "https://localhost:8080/"
        },
        "id": "hjBKqxAQ00Ze",
        "outputId": "23401676-8d71-47f7-e0bf-54c10982943c"
      },
      "source": [
        "# Ici nous supprimons les lignes n'ayant ni abstract ni keyword\n",
        "\n",
        "num_line = []\n",
        "for index in range(0, len(df)):\n",
        "  if (df['abstract_fr'][index] == 'None' or df['abstract_fr'][index] == ' ') and df['keywords_fr'][index] == 'None':\n",
        "    num_line.append(index)\n",
        "\n",
        "print(num_line)\n",
        "num_line.append(1545)\n",
        "df = df.drop(num_line)\n",
        "df.reset_index(inplace = True)\n",
        "len(df)"
      ],
      "execution_count": 15,
      "outputs": [
        {
          "output_type": "stream",
          "text": [
            "[17, 20, 25, 26, 27, 30, 43, 47, 49, 51, 53, 56, 58, 66, 67, 68, 70, 71, 81, 82, 83, 84, 122, 137, 193, 254, 333, 637, 686, 737, 802, 818, 833, 834, 845, 931, 932, 933, 936, 937, 938, 940, 941, 942, 943, 944, 945, 946, 947, 948, 949, 950, 952, 953, 1205, 1291, 1292]\n"
          ],
          "name": "stdout"
        },
        {
          "output_type": "execute_result",
          "data": {
            "text/plain": [
              "1544"
            ]
          },
          "metadata": {
            "tags": []
          },
          "execution_count": 15
        }
      ]
    },
    {
      "cell_type": "code",
      "metadata": {
        "id": "-ilD26D_03Y0"
      },
      "source": [
        "from collections import Counter\n",
        "\n",
        "list_useless = ['algorithme', 'qui', 'que', 'selon', 'mais', 'texte', 'aperçu', 'textes', 'afin', 'donc', 'travail', 'tâche', 'cependant', 'alors', 'droite', 'gauche', 'sous', 'forme', 'partie', 'entre', 'partir', 'a', 'ici', 'plus', 'moins', 'exemple', 'analyse']\n",
        "for i in range (0,150) :\n",
        "  list_useless.append(str(i))\n",
        "\n",
        "new_keywords = []\n",
        "for index in range(0, len(df)):\n",
        "  keywords_list = []\n",
        "  cnt = Counter()\n",
        "  for mot in df['tokenized_abstract'][index]:\n",
        "    if len(mot) > 2:\n",
        "      if mot not in list_useless :\n",
        "        if mot[len(mot)-3] != 'o' and mot[len(mot)-2] != \"n\" and mot[len(mot)-1] != \"s\" :\n",
        "          if mot[len(mot)-3] != 'a' and mot[len(mot)-2] != \"i\" and mot[len(mot)-1] != \"t\" :\n",
        "            cnt[mot] += 1\n",
        "  #print(cnt)\n",
        "  #print(index)\n",
        "  if df['abstract_fr'][index] != 'None' :\n",
        "    word, max_count = cnt.most_common()[0]\n",
        "    for mot in df['tokenized_abstract'][index]:\n",
        "      if cnt[mot] == max_count and mot not in keywords_list:\n",
        "        keywords_list.append(mot)\n",
        "    if df['keywords_fr'][index] == None :\n",
        "      df['keywords_fr'][index] = keywords_list\n",
        "  new_keywords.append(keywords_list)"
      ],
      "execution_count": 16,
      "outputs": []
    },
    {
      "cell_type": "code",
      "metadata": {
        "colab": {
          "base_uri": "https://localhost:8080/",
          "height": 657
        },
        "id": "93HpSS9206A5",
        "outputId": "468c093a-215b-4aae-ddc2-59862956c6da"
      },
      "source": [
        "for index in range(0, len(df)):\n",
        "  keywords_list = []\n",
        "  if df['keywords_fr'][index] != 'None' :\n",
        "    keywords_list = str(df['keywords_fr'][index]).split(',')\n",
        "  new_keywords[index] = new_keywords[index] + keywords_list\n",
        "\n",
        "\n",
        "df['new_keywords'] = new_keywords\n",
        "df"
      ],
      "execution_count": 17,
      "outputs": [
        {
          "output_type": "execute_result",
          "data": {
            "text/html": [
              "<div>\n",
              "<style scoped>\n",
              "    .dataframe tbody tr th:only-of-type {\n",
              "        vertical-align: middle;\n",
              "    }\n",
              "\n",
              "    .dataframe tbody tr th {\n",
              "        vertical-align: top;\n",
              "    }\n",
              "\n",
              "    .dataframe thead th {\n",
              "        text-align: right;\n",
              "    }\n",
              "</style>\n",
              "<table border=\"1\" class=\"dataframe\">\n",
              "  <thead>\n",
              "    <tr style=\"text-align: right;\">\n",
              "      <th></th>\n",
              "      <th>index</th>\n",
              "      <th>abstract_fr</th>\n",
              "      <th>keywords_fr</th>\n",
              "      <th>intro</th>\n",
              "      <th>titre</th>\n",
              "      <th>date</th>\n",
              "      <th>tokenized_abstract</th>\n",
              "      <th>cleaned_abstract</th>\n",
              "      <th>new_keywords</th>\n",
              "    </tr>\n",
              "  </thead>\n",
              "  <tbody>\n",
              "    <tr>\n",
              "      <th>0</th>\n",
              "      <td>0</td>\n",
              "      <td>Nous considérons dans notre travail la tâche ...</td>\n",
              "      <td>None</td>\n",
              "      <td>Le modèle de la Grammaire Applicative et Cogn...</td>\n",
              "      <td>Éléments de conception d'un système d'interpr...</td>\n",
              "      <td>1997</td>\n",
              "      <td>[considérons, notre, travail, tâche, traitemen...</td>\n",
              "      <td>nous considérons dans notre travail la tâche ...</td>\n",
              "      <td>[notre, automatique, relative, système, grande...</td>\n",
              "    </tr>\n",
              "    <tr>\n",
              "      <th>1</th>\n",
              "      <td>1</td>\n",
              "      <td>Nous donnons ici un aperçu du logiciel DECID ...</td>\n",
              "      <td>None</td>\n",
              "      <td>Dans le domaine de l'ingénierie linguistique ...</td>\n",
              "      <td>Informatisation du dictionnaire explicatif et...</td>\n",
              "      <td>1997</td>\n",
              "      <td>[donnons, ici, aperçu, logiciel, decid, dévelo...</td>\n",
              "      <td>nous donnons ici un aperçu du logiciel decid ...</td>\n",
              "      <td>[logiciel, développé, geta, informatiser, réda...</td>\n",
              "    </tr>\n",
              "    <tr>\n",
              "      <th>2</th>\n",
              "      <td>2</td>\n",
              "      <td>Diverses méthodes ont été proposées pour cons...</td>\n",
              "      <td>None</td>\n",
              "      <td></td>\n",
              "      <td>Construction d'une représentation sémantique ...</td>\n",
              "      <td>1997</td>\n",
              "      <td>[diverses, méthodes, ont, été, proposées, cons...</td>\n",
              "      <td>diverses méthodes ont été proposées pour cons...</td>\n",
              "      <td>[syntaxique, construction, représentation, sém...</td>\n",
              "    </tr>\n",
              "    <tr>\n",
              "      <th>3</th>\n",
              "      <td>3</td>\n",
              "      <td>Le terme de lambda-DRT désigne un ensemble de...</td>\n",
              "      <td>None</td>\n",
              "      <td>La « Théorie des Représentations Discursives ...</td>\n",
              "      <td>Systèmes de types pour la (lambda-)DRT ascend...</td>\n",
              "      <td>1998</td>\n",
              "      <td>[terme, lambda, drt, désigne, ensemble, méthod...</td>\n",
              "      <td>le terme de lambda drt désigne un ensemble de...</td>\n",
              "      <td>[terme, lambda, ensemble, construire, mise, oe...</td>\n",
              "    </tr>\n",
              "    <tr>\n",
              "      <th>4</th>\n",
              "      <td>4</td>\n",
              "      <td>Dans cet article, nous comparons deux modèles...</td>\n",
              "      <td>None</td>\n",
              "      <td>TAG est un formalisme initialement développé ...</td>\n",
              "      <td>Une grammaire TAG vue comme une grammaire Sen...</td>\n",
              "      <td>1998</td>\n",
              "      <td>[comparons, deux, modèles, linguistiques, util...</td>\n",
              "      <td>dans cet article  nous comparons deux modèles...</td>\n",
              "      <td>[tag]</td>\n",
              "    </tr>\n",
              "    <tr>\n",
              "      <th>...</th>\n",
              "      <td>...</td>\n",
              "      <td>...</td>\n",
              "      <td>...</td>\n",
              "      <td>...</td>\n",
              "      <td>...</td>\n",
              "      <td>...</td>\n",
              "      <td>...</td>\n",
              "      <td>...</td>\n",
              "      <td>...</td>\n",
              "    </tr>\n",
              "    <tr>\n",
              "      <th>1539</th>\n",
              "      <td>1597</td>\n",
              "      <td>Dans cet article, nous présentons une approch...</td>\n",
              "      <td>Curriculum d'apprentissage, transfert d'appre...</td>\n",
              "      <td>L'apprentissage humain est réalisé par étapes...</td>\n",
              "      <td>Curriculum d'apprentissage : reconnaissance d...</td>\n",
              "      <td>2019</td>\n",
              "      <td>[présentons, approche, bout, bout, extraction,...</td>\n",
              "      <td>dans cet article  nous présentons une approch...</td>\n",
              "      <td>[système,  Curriculum d'apprentissage,  transf...</td>\n",
              "    </tr>\n",
              "    <tr>\n",
              "      <th>1540</th>\n",
              "      <td>1598</td>\n",
              "      <td>Cet article présente une méthodologie de déte...</td>\n",
              "      <td>ellipse, anglais, corpus, sous-titres, détect...</td>\n",
              "      <td>L'ellipse renvoie à une incomplétude syntaxiq...</td>\n",
              "      <td>Détection des ellipses dans des corpus de sou...</td>\n",
              "      <td>2019</td>\n",
              "      <td>[présente, méthodologie, détection, ellipses, ...</td>\n",
              "      <td>cet article présente une méthodologie de déte...</td>\n",
              "      <td>[leur,  ellipse,  anglais,  corpus,  sous-titr...</td>\n",
              "    </tr>\n",
              "    <tr>\n",
              "      <th>1541</th>\n",
              "      <td>1599</td>\n",
              "      <td>La génération automatique de poésie est une t...</td>\n",
              "      <td>génération de poésie, réseaux de neurones, fa...</td>\n",
              "      <td>La génération automatique de poésie est une t...</td>\n",
              "      <td>La génération automatique de poésie en français</td>\n",
              "      <td>2019</td>\n",
              "      <td>[génération, automatique, poésie, tâche, ardue...</td>\n",
              "      <td>la génération automatique de poésie est une t...</td>\n",
              "      <td>[génération,  génération de poésie,  réseaux d...</td>\n",
              "    </tr>\n",
              "    <tr>\n",
              "      <th>1542</th>\n",
              "      <td>1600</td>\n",
              "      <td>Nous proposons une architecture neuronale ave...</td>\n",
              "      <td>Réseaux neuronaux, modélisation de séquences,...</td>\n",
              "      <td>L'étiquetage de séquences est un problème imp...</td>\n",
              "      <td>Modèles neuronaux hybrides pour la modélisati...</td>\n",
              "      <td>2019</td>\n",
              "      <td>[proposons, architecture, neuronale, avec, car...</td>\n",
              "      <td>nous proposons une architecture neuronale ave...</td>\n",
              "      <td>[architecture, avec,  Réseaux neuronaux,  modé...</td>\n",
              "    </tr>\n",
              "    <tr>\n",
              "      <th>1543</th>\n",
              "      <td>1601</td>\n",
              "      <td>Nous présentons la base PolylexFLE, contenant...</td>\n",
              "      <td>expressions polylexicales vebales, niveau CEC...</td>\n",
              "      <td>Les expressions polylexicales (EP) constituen...</td>\n",
              "      <td>PolylexFLE : une base de données d'expression...</td>\n",
              "      <td>2019</td>\n",
              "      <td>[présentons, base, polylexfle, contenant, 4295...</td>\n",
              "      <td>nous présentons la base polylexfle  contenant...</td>\n",
              "      <td>[cecr,  expressions polylexicales vebales,  ni...</td>\n",
              "    </tr>\n",
              "  </tbody>\n",
              "</table>\n",
              "<p>1544 rows × 9 columns</p>\n",
              "</div>"
            ],
            "text/plain": [
              "      index  ...                                       new_keywords\n",
              "0         0  ...  [notre, automatique, relative, système, grande...\n",
              "1         1  ...  [logiciel, développé, geta, informatiser, réda...\n",
              "2         2  ...  [syntaxique, construction, représentation, sém...\n",
              "3         3  ...  [terme, lambda, ensemble, construire, mise, oe...\n",
              "4         4  ...                                              [tag]\n",
              "...     ...  ...                                                ...\n",
              "1539   1597  ...  [système,  Curriculum d'apprentissage,  transf...\n",
              "1540   1598  ...  [leur,  ellipse,  anglais,  corpus,  sous-titr...\n",
              "1541   1599  ...  [génération,  génération de poésie,  réseaux d...\n",
              "1542   1600  ...  [architecture, avec,  Réseaux neuronaux,  modé...\n",
              "1543   1601  ...  [cecr,  expressions polylexicales vebales,  ni...\n",
              "\n",
              "[1544 rows x 9 columns]"
            ]
          },
          "metadata": {
            "tags": []
          },
          "execution_count": 17
        }
      ]
    },
    {
      "cell_type": "markdown",
      "metadata": {
        "id": "-3E98h1Bqi77"
      },
      "source": [
        "# clustering sur les keywords de base"
      ]
    },
    {
      "cell_type": "code",
      "metadata": {
        "id": "Yl2dViaIrdBa"
      },
      "source": [
        "stop_words = stopwords.words('french')\n",
        "\n",
        "#liste de tous les keywords du dataframe\n",
        "list_keywords = []\n",
        "for i in range(len(df)):\n",
        "  if df.keywords_fr[i] != \"None\":\n",
        "    list_keywords.append(df.keywords_fr[i])"
      ],
      "execution_count": 18,
      "outputs": []
    },
    {
      "cell_type": "code",
      "metadata": {
        "colab": {
          "base_uri": "https://localhost:8080/"
        },
        "id": "tvihjws2qZc0",
        "outputId": "a1a11016-3f76-49f9-a997-1ee6a72798a9"
      },
      "source": [
        "from sklearn.feature_extraction.text import TfidfVectorizer\n",
        "\n",
        "# tfidf vectorizer de la librairies sklearn\n",
        "vectorizer = TfidfVectorizer(stop_words=stop_words,max_features=1000, max_df = 0.5, use_idf = True, ngram_range=(1,3))\n",
        "X = vectorizer.fit_transform(list_keywords)\n",
        "print(X.shape)\n",
        "\n",
        "terms = vectorizer.get_feature_names()"
      ],
      "execution_count": 19,
      "outputs": [
        {
          "output_type": "stream",
          "text": [
            "(1474, 1000)\n"
          ],
          "name": "stdout"
        }
      ]
    },
    {
      "cell_type": "code",
      "metadata": {
        "id": "0ouDk61_wB05"
      },
      "source": [
        "#clustering\n",
        "num_clusters = 9\n",
        "km = KMeans(n_clusters=num_clusters)\n",
        "km.fit(X)\n",
        "clusters = km.labels_.tolist()"
      ],
      "execution_count": 20,
      "outputs": []
    },
    {
      "cell_type": "code",
      "metadata": {
        "colab": {
          "base_uri": "https://localhost:8080/"
        },
        "id": "bKpTMZRyyc7_",
        "outputId": "ea053010-1f88-4323-df7b-0727cff857f0"
      },
      "source": [
        "#affichage des thèmes principaux\n",
        "\n",
        "U, Sigma, VT = randomized_svd(X, n_components=9, n_iter=1000, random_state=122)\n",
        "\n",
        "for i, comp in enumerate(VT):\n",
        "        terms_comp = zip(terms, comp)\n",
        "        sorted_terms = sorted(terms_comp, key= lambda x:x[1], reverse=True)[:7]\n",
        "        print(\"themes \"+str(i)+\": \")\n",
        "        for t in sorted_terms:\n",
        "            print(t[0])\n",
        "        print(\" \")"
      ],
      "execution_count": 21,
      "outputs": [
        {
          "output_type": "stream",
          "text": [
            "themes 0: \n",
            "analyse\n",
            "automatique\n",
            "syntaxique\n",
            "analyse syntaxique\n",
            "sémantique\n",
            "corpus\n",
            "traduction\n",
            " \n",
            "themes 1: \n",
            "analyse\n",
            "syntaxique\n",
            "analyse syntaxique\n",
            "grammaire\n",
            "grammaires\n",
            "dépendance\n",
            "morpho syntaxique\n",
            " \n",
            "themes 2: \n",
            "extraction\n",
            "information\n",
            "extraction information\n",
            "entités\n",
            "entités nommées\n",
            "nommées\n",
            "recherche\n",
            " \n",
            "themes 3: \n",
            "sémantique\n",
            "lexicale\n",
            "sémantique lexicale\n",
            "similarité\n",
            "désambiguïsation\n",
            "similarité sémantique\n",
            "distributionnelle\n",
            " \n",
            "themes 4: \n",
            "entités\n",
            "entités nommées\n",
            "nommées\n",
            "reconnaissance\n",
            "sémantique\n",
            "reconnaissance entités nommées\n",
            "reconnaissance entités\n",
            " \n",
            "themes 5: \n",
            "corpus\n",
            "annotation\n",
            "dialogue\n",
            "linguistique\n",
            "apprentissage\n",
            "homme\n",
            "machine\n",
            " \n",
            "themes 6: \n",
            "dialogue\n",
            "homme\n",
            "machine\n",
            "homme machine\n",
            "dialogue homme\n",
            "dialogue homme machine\n",
            "évaluation\n",
            " \n",
            "themes 7: \n",
            "grammaire\n",
            "grammaires\n",
            "syntaxe\n",
            "arbres\n",
            "adjoints\n",
            "syntaxe sémantique\n",
            "arbres adjoints\n",
            " \n",
            "themes 8: \n",
            "apprentissage\n",
            "classification\n",
            "apprentissage automatique\n",
            "automatique\n",
            "grammaires\n",
            "supervisé\n",
            "grammaire\n",
            " \n"
          ],
          "name": "stdout"
        }
      ]
    },
    {
      "cell_type": "code",
      "metadata": {
        "colab": {
          "base_uri": "https://localhost:8080/",
          "height": 320
        },
        "id": "qpNNV215yx8w",
        "outputId": "aa83e161-c35b-45de-a828-95b2b7fab769"
      },
      "source": [
        "X_topics=U*Sigma\n",
        "embedding = umap.UMAP(n_neighbors=100, min_dist=0.5, random_state=12).fit_transform(X_topics)\n",
        "plt.figure(figsize=(7,5))\n",
        "plt.scatter(embedding[:, 0], embedding[:, 1], c = clusters, s = 9, edgecolor='none')\n",
        "plt.show()"
      ],
      "execution_count": 22,
      "outputs": [
        {
          "output_type": "display_data",
          "data": {
            "image/png": "[encoded data removed]",
            "text/plain": [
              "<Figure size 504x360 with 1 Axes>"
            ]
          },
          "metadata": {
            "tags": [],
            "needs_background": "light"
          }
        }
      ]
    },
    {
      "cell_type": "markdown",
      "metadata": {
        "id": "A0kgkey_IRur"
      },
      "source": [
        "\n",
        "# Clustering avec tous les keywords crées"
      ]
    },
    {
      "cell_type": "code",
      "metadata": {
        "colab": {
          "base_uri": "https://localhost:8080/"
        },
        "id": "KnZtRumr-Aoj",
        "outputId": "f80bc12e-9a6a-4ddc-e969-d5988e0d618d"
      },
      "source": [
        "df2 = df.copy()\n",
        "\n",
        "for i  in range(len(df2)):\n",
        "  if df2.keywords_fr[i] == \"None\" :\n",
        "    keyword = \"\"\n",
        "    for j in range (len(df2.new_keywords[i])):\n",
        "      keyword = keyword + df2.new_keywords[i][j] + \", \"\n",
        "    df2.keywords_fr[i] = keyword\n",
        "  else :\n",
        "    keyword = \"\"\n",
        "    for j in range (len(df2.new_keywords[i])):\n",
        "      if df2.new_keywords[i][j] not in df2.keywords_fr[i] :\n",
        "        keyword = keyword + df2.new_keywords[i][j] + \", \"\n",
        "    df2.keywords_fr[i] = df2.keywords_fr[i] + keyword"
      ],
      "execution_count": 23,
      "outputs": [
        {
          "output_type": "stream",
          "text": [
            "/usr/local/lib/python3.6/dist-packages/ipykernel_launcher.py:8: SettingWithCopyWarning: \n",
            "A value is trying to be set on a copy of a slice from a DataFrame\n",
            "\n",
            "See the caveats in the documentation: https://pandas.pydata.org/pandas-docs/stable/user_guide/indexing.html#returning-a-view-versus-a-copy\n",
            "  \n",
            "/usr/local/lib/python3.6/dist-packages/ipykernel_launcher.py:14: SettingWithCopyWarning: \n",
            "A value is trying to be set on a copy of a slice from a DataFrame\n",
            "\n",
            "See the caveats in the documentation: https://pandas.pydata.org/pandas-docs/stable/user_guide/indexing.html#returning-a-view-versus-a-copy\n",
            "  \n"
          ],
          "name": "stderr"
        }
      ]
    },
    {
      "cell_type": "code",
      "metadata": {
        "id": "DyzKYKu70yZq"
      },
      "source": [
        "list_keywords2 = []\n",
        "for i in range(len(df2)):\n",
        "  if df2.keywords_fr[i] != \"None\":\n",
        "    list_keywords2.append(df2.keywords_fr[i])\n",
        " "
      ],
      "execution_count": 24,
      "outputs": []
    },
    {
      "cell_type": "code",
      "metadata": {
        "colab": {
          "base_uri": "https://localhost:8080/"
        },
        "id": "ZpWm7AqM0yVY",
        "outputId": "6a4e4359-ba1f-4e01-e250-273d01a6ee9c"
      },
      "source": [
        "vectorizer = TfidfVectorizer(stop_words=stop_words,max_features=10000, max_df = 0.5, use_idf = True, ngram_range=(1,3))\n",
        "X2 = vectorizer.fit_transform(list_keywords2)\n",
        "print(X2.shape)\n",
        "\n",
        "terms2 = vectorizer.get_feature_names()"
      ],
      "execution_count": 25,
      "outputs": [
        {
          "output_type": "stream",
          "text": [
            "(1544, 10000)\n"
          ],
          "name": "stdout"
        }
      ]
    },
    {
      "cell_type": "code",
      "metadata": {
        "id": "25uxh5LV1lbo"
      },
      "source": [
        "num_clusters = 9\n",
        "km2 = KMeans(n_clusters=num_clusters)\n",
        "km2.fit(X2)\n",
        "clusters2 = km2.labels_.tolist()"
      ],
      "execution_count": 26,
      "outputs": []
    },
    {
      "cell_type": "code",
      "metadata": {
        "colab": {
          "base_uri": "https://localhost:8080/"
        },
        "id": "qD0rU6Gq1pLz",
        "outputId": "f91d92d6-e16c-4144-ba86-17f95842cf6c"
      },
      "source": [
        "U, Sigma, VT = randomized_svd(X2, n_components=9, n_iter=100, random_state=122)\n",
        "\n",
        "for i, comp in enumerate(VT):\n",
        "        terms_comp = zip(terms2, comp)\n",
        "        sorted_terms = sorted(terms_comp, key= lambda x:x[1], reverse=True)[:7]\n",
        "        print(\"themes \"+str(i)+\": \")\n",
        "        for t in sorted_terms:\n",
        "            print(t[0])\n",
        "        print(\" \")"
      ],
      "execution_count": 27,
      "outputs": [
        {
          "output_type": "stream",
          "text": [
            "themes 0: \n",
            "analyse\n",
            "automatique\n",
            "sémantique\n",
            "syntaxique\n",
            "traduction\n",
            "analyse syntaxique\n",
            "corpus\n",
            " \n",
            "themes 1: \n",
            "traduction\n",
            "automatique\n",
            "traduction automatique\n",
            "statistique\n",
            "automatique statistique\n",
            "traduction automatique statistique\n",
            "résumé\n",
            " \n",
            "themes 2: \n",
            "sémantique\n",
            "lexicale\n",
            "sémantique lexicale\n",
            "similarité\n",
            "similarité sémantique\n",
            "distributionnelle\n",
            "désambiguïsation\n",
            " \n",
            "themes 3: \n",
            "extraction\n",
            "information\n",
            "extraction information\n",
            "entités\n",
            "entités nommées\n",
            "nommées\n",
            "recherche\n",
            " \n",
            "themes 4: \n",
            "dialogue\n",
            "homme\n",
            "homme machine\n",
            "machine\n",
            "système\n",
            "dialogue homme\n",
            "dialogue homme machine\n",
            " \n",
            "themes 5: \n",
            "grammaire\n",
            "grammaires\n",
            "extraction\n",
            "information\n",
            "arbres\n",
            "adjoints\n",
            "arbres adjoints\n",
            " \n",
            "themes 6: \n",
            "question\n",
            "réponse\n",
            "système\n",
            "question réponse\n",
            "résumé\n",
            "analyse\n",
            "système question\n",
            " \n",
            "themes 7: \n",
            "système\n",
            "question\n",
            "réponse\n",
            "question réponse\n",
            "entités nommées\n",
            "nommées\n",
            "entités\n",
            " \n",
            "themes 8: \n",
            "résumé\n",
            "résumé automatique\n",
            "automatique\n",
            "reconnaissance\n",
            "textes\n",
            "entités nommées\n",
            "nommées\n",
            " \n"
          ],
          "name": "stdout"
        }
      ]
    },
    {
      "cell_type": "code",
      "metadata": {
        "colab": {
          "base_uri": "https://localhost:8080/",
          "height": 323
        },
        "id": "vztNfgU316Me",
        "outputId": "b7933879-60eb-4230-b17d-0f4baad7da67"
      },
      "source": [
        "X_topics=U*Sigma\n",
        "embedding = umap.UMAP(n_neighbors=100, min_dist=0.5, random_state=12).fit_transform(X_topics)\n",
        "plt.figure(figsize=(7,5))\n",
        "plt.scatter(embedding[:, 0], embedding[:, 1], c = clusters2, s = 9, edgecolor='none')\n",
        "plt.show()"
      ],
      "execution_count": 28,
      "outputs": [
        {
          "output_type": "display_data",
          "data": {
            "image/png": "[encoded data removed]",
            "text/plain": [
              "<Figure size 504x360 with 1 Axes>"
            ]
          },
          "metadata": {
            "tags": [],
            "needs_background": "light"
          }
        }
      ]
    },
    {
      "cell_type": "markdown",
      "metadata": {
        "id": "iRWo65wsrKdx"
      },
      "source": [
        "# Résumé par mot clef"
      ]
    },
    {
      "cell_type": "code",
      "metadata": {
        "colab": {
          "base_uri": "https://localhost:8080/"
        },
        "id": "McYd79xna5NY",
        "outputId": "b4a0e521-e008-437c-ceb9-90f2e339967d"
      },
      "source": [
        "keyword = \"traduction\"\n",
        "\n",
        "text = []\n",
        "for index in range(0, len(df)):\n",
        "  if keyword in df['new_keywords'][index]:\n",
        "    text.append(df['abstract_fr'][index].split(\".\"))\n",
        "  \n",
        "print(len(text))\n"
      ],
      "execution_count": 29,
      "outputs": [
        {
          "output_type": "stream",
          "text": [
            "78\n"
          ],
          "name": "stdout"
        }
      ]
    },
    {
      "cell_type": "code",
      "metadata": {
        "colab": {
          "base_uri": "https://localhost:8080/"
        },
        "id": "vH_eN48pmCFR",
        "outputId": "ea5bd1ec-7b87-480d-cd78-1bc927d97449"
      },
      "source": [
        "replacement_patterns_bis = [\n",
        "(r'd\\'', 'de '),\n",
        "(r'l\\'', 'le '),\n",
        "(r'é', 'e'),\n",
        "(r'à', 'a'),\n",
        "(r'è', 'e'),\n",
        "(r'ù', 'u'),\n",
        "(r'ê', 'e')\n",
        "]\n",
        "\n",
        "replacer = RegexpReplacer(replacement_patterns_bis)\n",
        "\n",
        "sentences = []\n",
        "for sentence in text:\n",
        "  sentence = replacer.replace(str(sentence))\n",
        "  sentence = re.sub(\"[^a-zA-Z]\", ' ', sentence)\n",
        "  sentence = re.sub(\"[\\s+]\", ' ', sentence)\n",
        "  sentences.append(sentence)\n",
        "\n",
        "print(len(sentences))"
      ],
      "execution_count": 30,
      "outputs": [
        {
          "output_type": "stream",
          "text": [
            "78\n"
          ],
          "name": "stdout"
        }
      ]
    },
    {
      "cell_type": "code",
      "metadata": {
        "colab": {
          "base_uri": "https://localhost:8080/"
        },
        "id": "QHhCVHpBrSjc",
        "outputId": "4861cbaf-c5fc-4c1c-f682-b6147574ca45"
      },
      "source": [
        "bagofword = []\n",
        "for sentence in sentences:\n",
        "  bagofword = set(bagofword).union(set(sentence.split(\" \")))\n",
        "\n",
        "print(bagofword)"
      ],
      "execution_count": 31,
      "outputs": [
        {
          "output_type": "stream",
          "text": [
            "{'', 'corpus', 'lineaire', 'Portal', 'modulaire', 'plates', 'croissante', 'focalise', 'generalement', 'possibilites', 'resoudre', 'qu', 'ligne', 'fragments', 'unique', 'tirons', 'bi', 'baselines', 'inconnues', 'vers', 'engendres', 'arbitraire', 'potentiellement', 'Des', 'existantes', 'traditionnelles', 'professionnels', 'Meme', 'd', 'quel', 'serait', 'exploitees', 'archetypal', 'discriminante', 'existants', 'identification', 'divergences', 'jouent', 'superieurs', 'Cetteapplication', 'Langues', 'informels', 'free', 'appelons', 'entra', 'actuelles', 'teuse', 'avec', 'neuronaux', 'European', 'limitations', 'apporter', 'effectuee', 'predictions', 'pu', 'traduction', 'recouvrements', 'fine', 'moment', 'informations', 'apprehender', 'via', 'Chuquet', 'titres', 'materiel', 'motivees', 'le', 'occasion', 'analysons', 'ecrire', 'M', 'meilleure', 'mantics', 'mesures', 'Traitement', 'differents', 'peu', 'manque', 'tunisien', 'realiser', 'traitements', 'representation', 'suivants', 'codage', 'contextes', 'televisees', 'concret', 'adequats', 'specialite', 'projet', 'ais', 'cadre', 'ils', 'dispositif', 'rarement', 'grammaticaux', 'etablissement', 'renferment', 'empruntee', 'meta', 'mettant', 'Automatique', 'jusqu', 'dressons', 'appuyant', 'couple', 'experimentale', 'souhaitee', 'neuronale', 'MT', 'traducteur', 'specialisation', 'evolutions', 'structures', 'terme', 'observation', 'occupes', 'traitement', 'combinent', 'des', 'algorithmes', 'segments', 'desambigu', 'double', 'long', 'comparer', 'Malgre', 'evolution', 'possibilite', 'facilitant', 'orientes', 'car', 'finlandais', 'impliquant', 'proposees', 'efforts', 'peut', 'applicables', 'pronoms', 'journaux', 'on', 'formations', 'respect', 'signification', 'segmentation', 'menes', 'manuelle', 'log', 'diverses', 'Si', 'performance', 'grammaire', 'Indo', 'portant', 'mesure', 'remplie', 'terminologiques', 'finnois', 'approprie', 'frequentes', 'latine', 'guide', 'abord', 'impossible', 'cognats', 'articles', 'prefixes', 'abordons', 'arbres', 'alignement', 'biais', 'elliptiques', 'allemande', 'cela', 'oral', 'simples', 'grand', 'offrent', 'aux', 'averer', 'memes', 'Cette', 'realisees', 'analyses', 'Traduire', 'exploite', 'but', 'italien', 'Word', 'morphologiques', 'resolution', 'combinees', 'revanche', 'sur', 'travers', 'separement', 'internet', 'non', 'interaction', 'lente', 'passe', 'exclusivement', 'ad', 'detaile', 'modifiees', 'ecrits', 'parmi', 'attestation', 'locuteur', 'conditions', 'automatiques', 'En', 'demontrerai', 'Minimal', 'acquisition', 'un', 'compositionnelles', 'exemples', 'demontrons', 'vitesse', 'tag', 'valider', 'dernier', 'OOCP', 'faiblesse', 'traduit', 'indispensable', 'limites', 'respectivement', 'traits', 'cet', 'croyance', 'presse', 'Riches', 'humains', 'introduisons', 'Langage', 'etape', 'croitre', 'structure', 'preliminaire', 'anglaises', 'partir', 'ameliore', 'detail', 'niveau', 'resultat', 'entre', 'riches', 'devient', 'espagnol', 'maximum', 'soumettre', 'nement', 'appuient', 'tre', 'interdictions', 'echanges', 'Analyse', 'assurer', 'b', 'O', 'variabilite', 'comprehension', 'comparons', 'optimisation', 'telles', 'dotees', 'hui', 'appuie', 'ameliorent', 'alignees', 'sont', 'construire', 'compilation', 'conduit', 'dialectes', 'traduite', 'document', 'Automated', 'en', 'contenu', 'definissant', 'humaine', 'numerisees', 'perspective', 'ellipses', 'aider', 'rationnelles', 'performantes', 'presente', 'nouvelle', 'adjoints', 'mot', 'recursive', 'typologies', 'induction', 'celle', 'r', 'localement', 'reperage', 'remarques', 'laquelle', 'traduire', 'tour', 'bien', 'rapportons', 'probabilite', 'specifie', 'autonome', 'finlandaise', 'grands', 'avons', 'homogenes', 'part', 'recherche', 'matrice', 'enrichissement', 'Metrics', 'T', 'anaphores', 'statistiques', 'polysemie', 'ensemble', 'caracterise', 'testons', 'propres', 'Langlais', 'auto', 'langues', 'parseur', 'respectifs', 'effectues', 'jeu', 'segmenter', 'theme', 'lingue', 'connaissance', 'editer', 'liage', 'multilingues', 'applique', 'equivalence', 'corrections', 'qui', 'les', 'ambigu', 'focalisent', 'englobe', 'tres', 'variees', 'alterner', 'Community', 'auxiliaires', 'evidence', 'elements', 'atteindre', 'BTEC', 'produit', 'Contrairement', 'creation', 'contextuelle', 'collocations', 'etudies', 'unification', 'saisir', 'G', 'progres', 'etat', 'successive', 'discursives', 'couples', 'paradigme', 'si', 'ecrit', 'diglossie', 'standard', 'dependantes', 'inspire', 'multiplie', 'empilement', 'decrite', 'compris', 'performante', 'parametrisation', 'dialectologiques', 'entreprise', 'reformulation', 'lu', 'requiert', 'empiriques', 'bases', 'interessant', 'statistique', 'tous', 'TA', 'principale', 'essor', 'savoir', 'repose', 'preedition', 'extraites', 'scenarios', 'defaut', 'etudier', 'exponentiel', 'commercial', 'raisonnement', 'erreur', 'necessaire', 'deux', 'substituees', 'mesurer', 'declencheurs', 'correspondances', 'modules', 'apprentissage', 'discuterai', 'anglais', 'recemment', 'predominantes', 'limitees', 'issues', 'distribuees', 'Fran', 'fins', 'benefique', 'figees', 'Complexes', 'sollicite', 'version', 'disposition', 'lawyer', 'recuperer', 'dialecte', 'produite', 'prepares', 'schemas', 'interet', 'depuis', 'preoccupent', 'technique', 'relevant', 'paires', 'signes', 'obtenir', 'reperer', 'caracteristiques', 'courante', 'integration', 'Pour', 'separee', 'treillis', 'basee', 'automatisation', 'est', 'apports', 'variation', 'nombre', 'y', 'Medicines', 'tenant', 'Nous', 'relations', 'scientifique', 'auxquels', 'varient', 'changent', 'echantillon', 'illustre', 'qualitative', 'etats', 'estimateurs', 'correspondante', 'presentent', 'chomskienne', 'lors', 'langue', 'fondent', 'ressource', 'interesse', 'Mais', 'dialogues', 'lexicaux', 'espaces', 'arbores', 'realise', 'conjointe', 'Plus', 'base', 'construction', 'repondre', 'peuvent', 'phases', 'competences', 'interpretation', 'specialement', 'caracteriser', 'initialisation', 'TED', 'inclut', 'position', 'semin', 'fondes', 'proviennent', 'Wikipedia', 'arabe', 'la', 'Un', 'recours', 'decorreles', 'dominant', 'score', 'dictionnaires', 'originales', 'aligne', 'faiblesses', 'Le', 'ou', 'humaines', 'necessitent', 'generations', 'notions', 'significatifs', 'etant', 'majeurs', 'phase', 'tion', 'absence', 'multilingue', 'alignements', 'correspondance', 'americain', 'techniques', 'anterieurs', 'cascades', 'agit', 'seraient', 'particulier', 'medicaux', 'formalisme', 'TRACE', 'relevons', 'annote', 'fonction', 'probabilites', 'prototypes', 'integrant', 'conclusions', 'substantielles', 'bons', 'echantillonnage', 'Outre', 'justifie', 'envisageable', 'diminuer', 'obtenons', 'utilisateur', 'aligneur', 'basees', 'appariement', 'regions', 'stuctures', 'type', 'normalisee', 'Lexicales', 'situations', 'decoder', 'tirer', 'utiles', 'montre', 'lever', 'nos', 'COSMAT', 'generative', 'dependent', 'distance', 'sans', 'variantes', 'journalistiques', 'liens', 'futurs', 'veut', 'chomskyenne', 'efficace', 'concepts', 'lingues', 'EVALDA', 'ce', 'heterogene', 'fardeau', 'toujours', 'receptionner', 'presentations', 'entites', 'egard', 'fran', 'importantes', 'fournies', 'capable', 'appliquee', 'strictes', 'consequents', 'averent', 'anterieurement', 'pages', 'extraire', 'pour', 'problemes', 'fonctions', 'soient', 'problematiques', 'leurs', 'Laboratoire', 'cerner', 'developpement', 'tout', 'scripturale', 'attribuent', 'revele', 'origine', 'representations', 'marque', 'collaboratif', 'ellipse', 'approches', 'accent', 'lexicale', 'quantitative', 'segment', 'precis', 'neuronales', 'combinaisons', 'contraintes', 'paralleles', 'pivot', 'medical', 'revision', 'auquel', 'interfaces', 'bilingues', 'web', 'quand', 'secondes', 'visee', 'modalite', 'sera', 'LexAr', 'consiste', 'futur', 'produisant', 'reposant', 'Yvon', 'volat', 'continuellement', 'automatiquement', 'telle', 'quelques', 'judicieuse', 'immediate', 'implication', 'sortie', 're', 'caractere', 'Une', 'isoles', 'combinaison', 'donnee', 'ainsi', 'clitiques', 'courts', 'formaliser', 'ressemblance', 'contiennent', 'significativement', 'couvre', 'traitee', 'modalites', 'gratuits', 'appel', 'Or', 'lecteurs', 'ete', 'langagieres', 'complexes', 'etre', 'probabiliste', 'formes', 'mis', 'appeler', 'expertes', 'Documents', 'possede', 'sommes', 'METEOR', 'c', 'dont', 'jour', 'significative', 'lexical', 'preserve', 'n', 'optimale', 'communaute', 'MedSLT', 'offrant', 'prediction', 'syntaxiques', 'point', 'etudiant', 'generation', 'effet', 'faite', 'creee', 'eux', 'nouveau', 'integrent', 'demeure', 'neologismes', 'adaptees', 'textuelle', 'ni', 'limitee', 'demontre', 'morphologique', 'considerons', 'reformuler', 'BLEU', 'specifique', 'favorisent', 'adequation', 'generaliste', 'ci', 'axes', 'heuristiques', 'ebauche', 'valuee', 'tables', 'estime', 'associant', 'scenario', 'mesurees', 'tandis', 'moins', 'comme', 'definition', 'Translate', 'fonctionne', 'attribue', 'obtenus', 'enregistres', 'impact', 'terminons', 'ressources', 'reconstruit', 'spontanes', 'Paillard', 'avantages', 'conventions', 'maniere', 'pipeline', 'besoins', 'toutefois', 'criteres', 'haute', 'protocole', 'inscrit', 'fonctionnement', 'vocabulaire', 'satisfaisante', 'bilingue', 'continu', 'nombreux', 'pourraient', 'occurrences', 'parti', 'description', 'pouvait', 'connu', 'desordres', 'interpolees', 'resume', 'quot', 'ma', 'decouvert', 'consistait', 'deterministes', 'aident', 'Grenoble', 'chinois', 'linguistiques', 'ordinateur', 'liste', 'adaptation', 'salutaire', 'entrees', 'critiquee', 'interlingue', 'consequences', 'direction', 'theories', 'court', 'RALI', 'eventuellement', 'interlocuteur', 'N', 'aborde', 'potentiele', 'guider', 'alternative', 'acceleration', 'analogie', 'excellente', 'coreference', 'minorite', 'separation', 'interessantes', 'permet', 'fait', 'liees', 'developper', 'sens', 'Sens', 'extrayant', 'service', 'prototype', 'che', 'raisonnable', 'probabilistes', 'existence', 'economiques', 'choisir', 'Europarl', 'consequence', 'neammoins', 'originalite', 'gestion', 'linguistes', 'Its', 'definitoires', 'phrase', 'u', 'duplications', 'met', 'modele', 'regard', 'tels', 'revise', 'recherches', 'construit', 'tentant', 'morphologiquement', 'phrastiques', 'temporelles', 'Internet', 'noms', 'objet', 'collocation', 'implantation', 'generale', 'Proceedings', 'autre', 'polarisees', 'heurte', 'et', 'reutilisation', 'se', 'derniere', 'causales', 'abstrait', 'semble', 'pose', 'Avec', 'Alors', 'annotes', 'present', 'operatoire', 'contribue', 'Editing', 'seule', 'definitions', 'competence', 'OCR', 'identifier', 'choix', 'disponibles', 'Inversement', 'bruitee', 'terminologie', 'utilisable', 'verifier', 'monolingues', 'prenons', 'facettes', 'donnent', 'OpenNMT', 'methodologie', 'couverture', 'edite', 'niveaux', 'syntagmes', 'etudes', 'points', 'E', 'problematique', 'basant', 'formule', 'presentons', 'sation', 'predications', 'moteurs', 'developpe', 'evaluees', 'tant', 'jusque', 'formalisation', 'precision', 'experimentaux', 'brutes', 'pret', 'A', 'experiences', 'venant', 'voie', 'reconnaissance', 'pertinentes', 'composes', 'WCE', 'profond', 'annotons', 'guidee', 'volee', 'il', 'TAS', 'declencher', 'C', 'TAL', 'boursiers', 'symetriques', 'afin', 'prend', 'demande', 'thematique', 'syntaxiquement', 'comparant', 'algorithme', 'grandes', 'Xiamen', 'idoine', 'reelle', 'candidates', 'post', 'souhaitons', 'chacune', 'depit', 'realisateurs', 'donnees', 'utilises', 'considerant', 'aires', 'temps', 'analyseur', 'ssees', 'textuelles', 'regles', 'motives', 'mitiges', 'organisations', 'strategie', 'couplage', 'robustes', 'CESTA', 'referents', 'produites', 'derivation', 'selon', 'frequences', 'valeur', 'rapide', 'distingue', 'je', 'incrementale', 'leWeb', 'mal', 'heterogeneite', 'associee', 'combine', 'affichant', 'cinq', 'dernieres', 'rythment', 'estimer', 'utilisent', 'construites', 'autres', 'traduc', 'communications', 'issue', 'question', 'pas', 'interesserons', 'F', 'reduction', 'Suisse', 'saut', 'grande', 'utilite', 'communiques', 'vraisemblance', 'dictionnaire', 'ULC', 'terminologique', 'MHV', 'detection', 'contrastive', 'commerciale', 'manuellement', 'mapping', 'specifiquement', 'confiance', 'travail', 'basent', 'ACCEPT', 'matique', 'coherent', 'formalismes', 'supplementaires', 'requete', 'fort', 'analyse', 'ameliorations', 'voyellation', 'Recursion', 'defi', 'largement', 'europeen', 'importante', 'avocat', 'intensifie', 'identite', 'considerees', 'operation', 'traiter', 'indiquent', 'semantique', 'plusieurs', 'paraphrases', 'Les', 'Deux', 'seulement', 'tient', 'paraissent', 'deuxieme', 'existant', 'quantifions', 'portable', 'ex', 'PE', 'grandement', 'disposer', 'comparables', 'production', 'differentes', 'croyances', 'occurrence', 'evaluer', 'concernent', 'traductionnelles', 'primaire', 'actuels', 'stricte', 'pertinent', 'decrit', 'predication', 'lexicales', 'rechercher', 'heterogenes', 'permis', 'suggere', 'co', 'vue', 'annotations', 'distinguer', 'moderne', 'dependances', 'implique', 'phrastique', 'Lepage', 'dialogue', 'nouvel', 'art', 'continus', 'temoin', 'montrant', 'domaines', 'montrons', 'similarite', 'distinguent', 'coherente', 'concept', 'generee', 'inferieur', 'approche', 'comportant', 'servir', 'oracles', 'edites', 'textes', 'existante', 'pourcentages', 'consister', 'possibles', 'taux', 'cycle', 'limite', 'notre', 'avoir', 'EDGAR', 'assez', 'genre', 'extraits', 'elle', 'compte', 'Principes', 'instances', 'IPTC', 'Moses', 'Aucune', 'decrits', 'place', 'individualiser', 'passons', 'pre', 'scores', 'Parliament', 'superieur', 'mesurons', 'beaucoup', 'menees', 'Powers', 'cependant', 'fin', 'complet', 'XMU', 'seules', 'electroniques', 'obtenue', 'aguacate', 'envisager', 'principales', 'sequences', 'comment', 'erreurs', 'avancees', 'effort', 'profondement', 'transfert', 'detaillons', 'Apres', 'mots', 'inspiree', 'teuses', 'WMT', 'contexte', 'Technolangue', 'Babelfish', 'repandue', 'jargon', 'reliant', 'documents', 'generiques', 'forums', 'etend', 'perspectives', 'vaste', 'modifier', 'artificielle', 'obtenues', 'De', 'Web', 'processus', 'Parametres', 'incluent', 'L', 'gr', 'aper', 'ches', 'objectifs', 'independante', 'premiere', 'beneficier', 'differences', 'constituent', 'longues', 'originale', 'parallele', 'premiers', 'classification', 'meme', 'adapter', 'tenu', 'Talks', 'similaires', 'prouve', 'ench', 'extraction', 'impliquees', 'langage', 'taille', 'alternance', 'fragilite', 'disponible', 'al', 'plus', 'utilisees', 'repondu', 'anglaise', 'TAP', 'contextuelles', 'cible', 'correctement', 'test', 'TALN', 'faisant', 'ideale', 'filtre', 'association', 'presentees', 'attire', 'deja', 'valuation', 'representees', 'reseaux', 'annees', 'generales', 'malgre', 'directement', 'notion', 'aussi', 'universite', 'paragraphe', 'auteur', 'modeles', 'semantiques', 'leur', 'R', 'jugees', 'services', 'provenant', 'dispose', 'stylistiques', 'ner', 'sembler', 'reponse', 'rendre', 'automatiser', 'realises', 'Ainsi', 'fournissent', 'font', 'multi', 'mettons', 'adequate', 'bonne', 'generique', 'transcriptions', 'Emea', 'Texte', 'admettant', 'une', 'vues', 'creer', 'precise', 'exemple', 'graphes', 'Confidence', 'Ce', 'souvent', 'meilleures', 'atlas', 'amelioration', 'generateur', 'etc', 'internationales', 'experimentations', 'evaluation', 'decrivons', 'langages', 'mentionnent', 'parce', 'sensible', 'theorie', 'tester', 'devenu', 'verificateur', 'developpees', 'qualitatif', 'surface', 'mene', 'utilisateurs', 'parties', 'uniquement', 'Unites', 'parametres', 'requetes', 'syntaxique', 'acquerir', 'demontraient', 'applications', 'oeuvre', 'entieres', 'OCRisation', 'hypotheses', 'possible', 'fondee', 'naturelle', 'action', 'litteraire', 'toutes', 'traductions', 'flexibles', 'source', 'orales', 'grandissant', 'hoc', 'surfacique', 'consequent', 'reference', 'hybrides', 'multicodage', 'adaptee', 'Contextes', 'normes', 'intervention', 'l', 'nombreuses', 'transitivite', 'conference', 'trisee', 'ordre', 'discriminant', 'envisagees', 'frames', 'composite', 'hauteur', 'lorsque', 'loin', 'trancher', 'situation', 'validite', 'appliquent', 'configurations', 'classique', 'aide', 'etudions', 'disparate', 'tel', 'campagne', 'participants', 'personnels', 'donc', 'entree', 'interessons', 'campagnes', 'enrichir', 'accessible', 'modelisation', 'plateforme', 'efficacite', 'parole', 'collecte', 'discours', 'texte', 'definitoire', 'compromis', 'du', 'programmation', 'adaptant', 'observe', 'respectueuse', 'conduites', 'suivre', 'notamment', 'implementation', 'formee', 'ecriture', 'D', 'zones', 'equivalents', 'eme', 'combinant', 'Theorie', 'TransSearch', 'procedes', 'selection', 'nouvelles', 'permettant', 'variante', 'codification', 'proposer', 'partie', 'idee', 'premier', 'presque', 'classees', 'ici', 'travaux', 'faibles', 'cette', 'reste', 'seconde', 'utilise', 'examine', 'de', 'proposons', 'parsage', 'LATL', 'donne', 'moteur', 'facilement', 'nominaux', 'reviseurs', 'article', 'introduit', 'fa', 'Bien', 'contraire', 'trop', 'verification', 'applicatif', 'lorsqu', 'sous', 'construits', 'nous', 'avocado', 'focalisant', 'familiere', 'porter', 'volume', 'incertitudes', 'utilisation', 'lemmatisation', 'exterieures', 'chercheurs', 'Lardilleux', 'style', 'alignes', 'brievement', 'p', 'longueur', 'finis', 'operant', 'vise', 'architectures', 'generees', 'independantes', 'naturels', 'termes', 'analysees', 'outre', 'precedentes', 'automatique', 'chacun', 'essai', 'remplacement', 'alors', 'evalue', 'generalisation', 'Fips', 'anbn', 'certains', 'certaines', 'donnant', 'table', 'rapport', 'Traduction', 'masses', 'computationnelles', 'adapte', 'resultant', 'obligatoires', 'sa', 'utiliser', 'forces', 'presenter', 'Il', 'potentiel', 'hors', 'principalement', 'degrade', 'restructuration', 'contigu', 'domaine', 'besoin', 'cours', 'particulierement', 'echappe', 'offrirons', 'Notre', 'succes', 'reduire', 'proposee', 'reecriture', 'Nasiruddin', 'recherchee', 'Comme', 'numerises', 'existe', 'module', 'necessite', 'essentielles', 'concerne', 'premieres', 'proprietes', 'produits', 'celles', 'con', 'verrou', 'comportement', 'concordancier', 'categorisation', 'japonais', 'methodes', 'paire', 'critere', 'methodologies', 'attention', 'locale', 'engendre', 'Je', 'Nos', 'exprimees', 'collaborative', 'calcul', 'aujourde', 'mais', 'tolerance', 'TAO', 'CRC', 'destinees', 'extension', 'profils', 'pertinence', 'memoires', 'LIG', 'Estimation', 'correctes', 'lien', 'connaissances', 'prendre', 'plan', 'particularisation', 'tes', 'difficultes', 'unites', 'emblee', 'series', 'hypothese', 'homme', 'methode', 'entretenant', 'memoire', 'visant', 'different', 'concentree', 'Connaissances', 'egalement', 'plate', 'celui', 'outils', 'connues', 'centrale', 'prefixe', 'quantite', 'cas', 'allant', 'consideree', 'completes', 'panel', 'discutons', 'suggerant', 'questions', 'qualite', 'etude', 'etablir', 'rendue', 'intermediaires', 'relatives', 'ajustements', 'Ils', 'proximite', 'offre', 'pluriculturels', 'Enfin', 'nommees', 'contrainte', 'minimal', 'reel', 'simple', 'synonymie', 'ont', 'compenser', 'Anymalign', 'exact', 'rarete', 'etroit', 'augmentation', 'pronominales', 'prometteuse', 'extensive', 'pistes', 'inconnus', 'complexite', 'mecanisme', 'puis', 'passages', 'Google', 'issus', 'SemCor', 'considere', 'context', 'plupart', 'petit', 'prefixees', 'litterale', 'experience', 'performances', 'editions', 'allemand', 'recycler', 'gains', 'caracteres', 'selectionnes', 'idiomatique', 'ANR', 'biunivoques', 'utilisee', 'associees', 'focalisons', 'preferee', 'precautions', 'granularite', 'Content', 'complement', 'modaux', 'probleme', 'librement', 'train', 'La', 'phenomenes', 'cesse', 'textuels', 'specialites', 'gros', 'decompte', 'correspondant', 'ameliorer', 'original', 'binaire', 'invariablement', 'objets', 'significatif', 'variables', 'polysemiques', 'proche', 'redacteur', 'que', 'ensuite', 'relativement', 'presence', 'forme', 'au', 's', 'objectif', 'robuste', 'logiciel', 'consideres', 'explicitement', 'edition', 'seul', 'decennie', 'dediees', 'abstraite', 'decodage', 'prise', 'evaluons', 'NIST', 'Compte', 'representatifs', 'Sur', 'larges', 'dans', 'integrer', 'connue', 'interferences', 'enquete', 'reformulons', 'notable', 'transmettent', 'chaque', 'hierarchiques', 'mettent', 'meilleur', 'linguistique', 'erronees', 'lire', 'systematique', 'Certains', 'general', 'montrent', 'clustering', 'apprendre', 'accro', 'explorer', 'son', 'detaille', 'pouvoir', 'translitteration', 'represente', 'atelier', 'faites', 'soit', 'aptitude', 'estimation', 'enonces', 'volumes', 'grammaires', 'auteurs', 'Technologie', 'faire', 'influence', 'a', 'Dans', 'Recemment', 'contr', 'constituants', 'necessitant', 'sein', 'pretent', 'riche', 'produire', 'favori', 'decris', 'grain', 't', 'metriques', 'totalement', 'comparaison', 'recente', 'ses', 'isotopies', 'avant', 'pourra', 'preferences', 'relation', 'ilite', 'contenus', 'resultats', 'courriers', 'lies', 'specifiques', 'systemes', 'occupent', 'interlingua', 'utilisant', 'Stroppa', 'litteralite', 'developpons', 'Pak', 'utilisables', 'litterature', 'rapidement', 'transcription', 'assistee', 'outil', 'architecture', 'propose', 'recentes', 'traduits', 'ne', 'inspection', 'Agency', 'Se', 'lexiques', 'definissons', 'metrique', 'lexique', 'types', 'ceux', 'constructions', 'derniers', 'latentes', 'necessairement', 'presentation', 'significatives', 'groupes', 'application', 'classiques', 'sources', 'sites', 'regroupement', 'encore', 'modulation', 'nature', 'machine', 'lexico', 'traducteurs', 'extra', 'optique', 'donnait', 'utilisons', 'Anglais', 'participation', 'principe', 'unite', 'information', 'jamais', 'aient', 'RAP', 'important', 'issu', 'Neufs', 'sujet', 'ailleurs', 'encourageants', 'artificiel', 'agissant', 'par', 'verifie', 'expliquons', 'exploitation', 'programmes', 'ces', 'universelles', 'verbe', 'categories', 'proposes', 'comparee', 'prometteurs', 'consacres', 'Richard', 'posteriori', 'dresse', 'engin', 'Etant', 'interface', 'donnons', 'Maps', 'complexe', 'ayant', 'etrangere', 'dependance', 'eloignee', 'TS', 'aligner', 'renforcer', 'multiple', 'definir', 'extrayons', 'trois', 'pointer', 'systeme', 'construisons', 'elles', 'compositionnalite', 'baisse', 'initialement', 'sachant', 'TransCheck', 'Ces', 'contenant', 'permettent', 'aune', 'pleinement', 'verbes', 'portera', 'professionnel', 'restent', 'Cet', 'moyenne', 'multiples', 'Par', 'existent', 'phrases', 'deployes', 'solution', 'gain', 'Ensuite', 'libre', 'relative', 'demonstration'}\n"
          ],
          "name": "stdout"
        }
      ]
    },
    {
      "cell_type": "code",
      "metadata": {
        "colab": {
          "base_uri": "https://localhost:8080/"
        },
        "id": "X3DVWsCDuU7q",
        "outputId": "cb138a96-1177-465d-8950-115a53f8cbbb"
      },
      "source": [
        "list_numOfWords =[]\n",
        "for sentence in sentences :\n",
        "  numOfWords = dict.fromkeys(bagofword, 0)\n",
        "  by_word = sentence.split(\" \")\n",
        "  for mot in by_word:\n",
        "    numOfWords[mot] = numOfWords[mot] + 1\n",
        "  list_numOfWords.append(numOfWords)\n",
        "\n",
        "print(len(list_numOfWords))\n",
        "print(type(list_numOfWords))\n",
        "print(type(list_numOfWords[0]))"
      ],
      "execution_count": 32,
      "outputs": [
        {
          "output_type": "stream",
          "text": [
            "78\n",
            "<class 'list'>\n",
            "<class 'dict'>\n"
          ],
          "name": "stdout"
        }
      ]
    },
    {
      "cell_type": "code",
      "metadata": {
        "colab": {
          "base_uri": "https://localhost:8080/"
        },
        "id": "-PVc_yhEvmL5",
        "outputId": "bf4eb708-f92a-4826-8e8d-01d6f057cad5"
      },
      "source": [
        "def TF(wordDict, bagOfWords):\n",
        "    tf = {}\n",
        "    count = len(bagOfWords)\n",
        "    for word, cnt in wordDict.items():\n",
        "        tf[word] = cnt / float(count)\n",
        "    return tf\n",
        "\n",
        "print(TF(list_numOfWords[0], sentences[0]))"
      ],
      "execution_count": 33,
      "outputs": [
        {
          "output_type": "stream",
          "text": [
            "{'': 0.03209876543209877, 'corpus': 0.0, 'lineaire': 0.0, 'Portal': 0.0, 'modulaire': 0.0, 'plates': 0.0, 'croissante': 0.0, 'focalise': 0.0, 'generalement': 0.0012345679012345679, 'possibilites': 0.0012345679012345679, 'resoudre': 0.0, 'qu': 0.0012345679012345679, 'ligne': 0.0, 'fragments': 0.0, 'unique': 0.0, 'tirons': 0.0, 'bi': 0.0, 'baselines': 0.0, 'inconnues': 0.0, 'vers': 0.0, 'engendres': 0.0, 'arbitraire': 0.0, 'potentiellement': 0.0, 'Des': 0.0, 'existantes': 0.0, 'traditionnelles': 0.0012345679012345679, 'professionnels': 0.0, 'Meme': 0.0, 'd': 0.0, 'quel': 0.0, 'serait': 0.0, 'exploitees': 0.0, 'archetypal': 0.0, 'discriminante': 0.0, 'existants': 0.0, 'identification': 0.0, 'divergences': 0.0, 'jouent': 0.0, 'superieurs': 0.0, 'Cetteapplication': 0.0, 'Langues': 0.0, 'informels': 0.0, 'free': 0.0, 'appelons': 0.0, 'entra': 0.0, 'actuelles': 0.0, 'teuse': 0.0, 'avec': 0.0, 'neuronaux': 0.0, 'European': 0.0, 'limitations': 0.0, 'apporter': 0.0, 'effectuee': 0.0, 'predictions': 0.0, 'pu': 0.0, 'traduction': 0.006172839506172839, 'recouvrements': 0.0, 'fine': 0.0, 'moment': 0.0, 'informations': 0.0, 'apprehender': 0.0, 'via': 0.0, 'Chuquet': 0.0, 'titres': 0.0, 'materiel': 0.0, 'motivees': 0.0, 'le': 0.0049382716049382715, 'occasion': 0.0, 'analysons': 0.0, 'ecrire': 0.0, 'M': 0.0, 'meilleure': 0.0, 'mantics': 0.0, 'mesures': 0.0, 'Traitement': 0.0, 'differents': 0.0, 'peu': 0.0, 'manque': 0.0, 'tunisien': 0.0, 'realiser': 0.0, 'traitements': 0.0, 'representation': 0.0, 'suivants': 0.0, 'codage': 0.0, 'contextes': 0.0, 'televisees': 0.0, 'concret': 0.0, 'adequats': 0.0, 'specialite': 0.0, 'projet': 0.0, 'ais': 0.0, 'cadre': 0.0, 'ils': 0.0, 'dispositif': 0.0, 'rarement': 0.0, 'grammaticaux': 0.0, 'etablissement': 0.0, 'renferment': 0.0, 'empruntee': 0.0, 'meta': 0.0, 'mettant': 0.0, 'Automatique': 0.0, 'jusqu': 0.0, 'dressons': 0.0, 'appuyant': 0.0, 'couple': 0.0, 'experimentale': 0.0, 'souhaitee': 0.0, 'neuronale': 0.0, 'MT': 0.0, 'traducteur': 0.0, 'specialisation': 0.0, 'evolutions': 0.0, 'structures': 0.0012345679012345679, 'terme': 0.0012345679012345679, 'observation': 0.0, 'occupes': 0.0, 'traitement': 0.0, 'combinent': 0.0, 'des': 0.0049382716049382715, 'algorithmes': 0.0012345679012345679, 'segments': 0.0, 'desambigu': 0.0, 'double': 0.0, 'long': 0.0, 'comparer': 0.0, 'Malgre': 0.0, 'evolution': 0.0, 'possibilite': 0.0, 'facilitant': 0.0, 'orientes': 0.0, 'car': 0.0, 'finlandais': 0.0, 'impliquant': 0.0, 'proposees': 0.0, 'efforts': 0.0, 'peut': 0.0, 'applicables': 0.0, 'pronoms': 0.0, 'journaux': 0.0, 'on': 0.0, 'formations': 0.0, 'respect': 0.0012345679012345679, 'signification': 0.0, 'segmentation': 0.0, 'menes': 0.0, 'manuelle': 0.0, 'log': 0.0, 'diverses': 0.0, 'Si': 0.0, 'performance': 0.0, 'grammaire': 0.0, 'Indo': 0.0, 'portant': 0.0, 'mesure': 0.0, 'remplie': 0.0, 'terminologiques': 0.0012345679012345679, 'finnois': 0.0, 'approprie': 0.0, 'frequentes': 0.0, 'latine': 0.0, 'guide': 0.0, 'abord': 0.0, 'impossible': 0.0, 'cognats': 0.0, 'articles': 0.0, 'prefixes': 0.0, 'abordons': 0.0, 'arbres': 0.0, 'alignement': 0.0012345679012345679, 'biais': 0.0, 'elliptiques': 0.0, 'allemande': 0.0, 'cela': 0.0, 'oral': 0.0, 'simples': 0.0, 'grand': 0.0, 'offrent': 0.0, 'aux': 0.0, 'averer': 0.0, 'memes': 0.0, 'Cette': 0.0, 'realisees': 0.0, 'analyses': 0.0, 'Traduire': 0.0, 'exploite': 0.0, 'but': 0.0, 'italien': 0.0, 'Word': 0.0, 'morphologiques': 0.0, 'resolution': 0.0, 'combinees': 0.0, 'revanche': 0.0, 'sur': 0.0024691358024691358, 'travers': 0.0, 'separement': 0.0, 'internet': 0.0, 'non': 0.0012345679012345679, 'interaction': 0.0, 'lente': 0.0, 'passe': 0.0, 'exclusivement': 0.0, 'ad': 0.0, 'detaile': 0.0, 'modifiees': 0.0, 'ecrits': 0.0, 'parmi': 0.0, 'attestation': 0.0, 'locuteur': 0.0, 'conditions': 0.0, 'automatiques': 0.0, 'En': 0.0012345679012345679, 'demontrerai': 0.0, 'Minimal': 0.0, 'acquisition': 0.0, 'un': 0.003703703703703704, 'compositionnelles': 0.0, 'exemples': 0.0, 'demontrons': 0.0, 'vitesse': 0.0, 'tag': 0.0, 'valider': 0.0, 'dernier': 0.0, 'OOCP': 0.0, 'faiblesse': 0.0, 'traduit': 0.0, 'indispensable': 0.0, 'limites': 0.0, 'respectivement': 0.0, 'traits': 0.0, 'cet': 0.0, 'croyance': 0.0, 'presse': 0.0, 'Riches': 0.0, 'humains': 0.0, 'introduisons': 0.0, 'Langage': 0.0, 'etape': 0.0, 'croitre': 0.0, 'structure': 0.0, 'preliminaire': 0.0, 'anglaises': 0.0, 'partir': 0.0, 'ameliore': 0.0, 'detail': 0.0, 'niveau': 0.0024691358024691358, 'resultat': 0.0, 'entre': 0.0, 'riches': 0.0, 'devient': 0.0, 'espagnol': 0.0, 'maximum': 0.0, 'soumettre': 0.0, 'nement': 0.0, 'appuient': 0.0, 'tre': 0.0, 'interdictions': 0.0, 'echanges': 0.0, 'Analyse': 0.0, 'assurer': 0.0, 'b': 0.0, 'O': 0.0, 'variabilite': 0.0, 'comprehension': 0.0, 'comparons': 0.0, 'optimisation': 0.0, 'telles': 0.0, 'dotees': 0.0, 'hui': 0.0, 'appuie': 0.0, 'ameliorent': 0.0, 'alignees': 0.0, 'sont': 0.0, 'construire': 0.0, 'compilation': 0.0, 'conduit': 0.0, 'dialectes': 0.0, 'traduite': 0.0, 'document': 0.0, 'Automated': 0.0, 'en': 0.0, 'contenu': 0.0, 'definissant': 0.0, 'humaine': 0.0, 'numerisees': 0.0, 'perspective': 0.0, 'ellipses': 0.0, 'aider': 0.0, 'rationnelles': 0.0, 'performantes': 0.0, 'presente': 0.0, 'nouvelle': 0.0, 'adjoints': 0.0, 'mot': 0.0, 'recursive': 0.0, 'typologies': 0.0, 'induction': 0.0, 'celle': 0.0, 'r': 0.0, 'localement': 0.0, 'reperage': 0.0012345679012345679, 'remarques': 0.0, 'laquelle': 0.0, 'traduire': 0.0, 'tour': 0.0, 'bien': 0.0, 'rapportons': 0.0, 'probabilite': 0.0, 'specifie': 0.0, 'autonome': 0.0, 'finlandaise': 0.0, 'grands': 0.0, 'avons': 0.0, 'homogenes': 0.0, 'part': 0.0, 'recherche': 0.0, 'matrice': 0.0, 'enrichissement': 0.0, 'Metrics': 0.0, 'T': 0.0, 'anaphores': 0.0, 'statistiques': 0.0, 'polysemie': 0.0, 'ensemble': 0.0, 'caracterise': 0.0, 'testons': 0.0, 'propres': 0.0, 'Langlais': 0.0, 'auto': 0.0, 'langues': 0.0, 'parseur': 0.0, 'respectifs': 0.0, 'effectues': 0.0, 'jeu': 0.0, 'segmenter': 0.0, 'theme': 0.0, 'lingue': 0.0, 'connaissance': 0.0, 'editer': 0.0, 'liage': 0.0, 'multilingues': 0.0, 'applique': 0.0, 'equivalence': 0.0, 'corrections': 0.0, 'qui': 0.0, 'les': 0.0024691358024691358, 'ambigu': 0.0, 'focalisent': 0.0, 'englobe': 0.0, 'tres': 0.0, 'variees': 0.0, 'alterner': 0.0, 'Community': 0.0, 'auxiliaires': 0.0, 'evidence': 0.0, 'elements': 0.0, 'atteindre': 0.0, 'BTEC': 0.0, 'produit': 0.0, 'Contrairement': 0.0, 'creation': 0.0, 'contextuelle': 0.0, 'collocations': 0.0, 'etudies': 0.0, 'unification': 0.0, 'saisir': 0.0, 'G': 0.0, 'progres': 0.0, 'etat': 0.0, 'successive': 0.0, 'discursives': 0.0, 'couples': 0.0, 'paradigme': 0.0, 'si': 0.0, 'ecrit': 0.0, 'diglossie': 0.0, 'standard': 0.0, 'dependantes': 0.0, 'inspire': 0.0, 'multiplie': 0.0, 'empilement': 0.0, 'decrite': 0.0, 'compris': 0.0, 'performante': 0.0, 'parametrisation': 0.0, 'dialectologiques': 0.0, 'entreprise': 0.0, 'reformulation': 0.0, 'lu': 0.0, 'requiert': 0.0, 'empiriques': 0.0, 'bases': 0.0012345679012345679, 'interessant': 0.0, 'statistique': 0.0, 'tous': 0.0, 'TA': 0.0, 'principale': 0.0, 'essor': 0.0, 'savoir': 0.0, 'repose': 0.0, 'preedition': 0.0, 'extraites': 0.0, 'scenarios': 0.0, 'defaut': 0.0, 'etudier': 0.0, 'exponentiel': 0.0, 'commercial': 0.0, 'raisonnement': 0.0, 'erreur': 0.0, 'necessaire': 0.0, 'deux': 0.0012345679012345679, 'substituees': 0.0, 'mesurer': 0.0, 'declencheurs': 0.0, 'correspondances': 0.0, 'modules': 0.0, 'apprentissage': 0.0, 'discuterai': 0.0, 'anglais': 0.0, 'recemment': 0.0, 'predominantes': 0.0, 'limitees': 0.0, 'issues': 0.0, 'distribuees': 0.0, 'Fran': 0.0, 'fins': 0.0012345679012345679, 'benefique': 0.0, 'figees': 0.0, 'Complexes': 0.0, 'sollicite': 0.0, 'version': 0.0, 'disposition': 0.0, 'lawyer': 0.0, 'recuperer': 0.0, 'dialecte': 0.0, 'produite': 0.0, 'prepares': 0.0, 'schemas': 0.0012345679012345679, 'interet': 0.0, 'depuis': 0.0, 'preoccupent': 0.0, 'technique': 0.0, 'relevant': 0.0, 'paires': 0.0, 'signes': 0.0, 'obtenir': 0.0, 'reperer': 0.0, 'caracteristiques': 0.0, 'courante': 0.0, 'integration': 0.0, 'Pour': 0.0, 'separee': 0.0, 'treillis': 0.0, 'basee': 0.0012345679012345679, 'automatisation': 0.0012345679012345679, 'est': 0.0012345679012345679, 'apports': 0.0, 'variation': 0.0, 'nombre': 0.0, 'y': 0.0, 'Medicines': 0.0, 'tenant': 0.0, 'Nous': 0.0012345679012345679, 'relations': 0.0, 'scientifique': 0.0, 'auxquels': 0.0, 'varient': 0.0, 'changent': 0.0, 'echantillon': 0.0, 'illustre': 0.0, 'qualitative': 0.0, 'etats': 0.0, 'estimateurs': 0.0, 'correspondante': 0.0, 'presentent': 0.0012345679012345679, 'chomskienne': 0.0, 'lors': 0.0, 'langue': 0.0, 'fondent': 0.0, 'ressource': 0.0, 'interesse': 0.0, 'Mais': 0.0, 'dialogues': 0.0, 'lexicaux': 0.0, 'espaces': 0.0, 'arbores': 0.0, 'realise': 0.0, 'conjointe': 0.0, 'Plus': 0.0, 'base': 0.0, 'construction': 0.0, 'repondre': 0.0, 'peuvent': 0.0, 'phases': 0.0, 'competences': 0.0, 'interpretation': 0.0, 'specialement': 0.0, 'caracteriser': 0.0, 'initialisation': 0.0, 'TED': 0.0, 'inclut': 0.0, 'position': 0.0, 'semin': 0.0, 'fondes': 0.0, 'proviennent': 0.0, 'Wikipedia': 0.0, 'arabe': 0.0, 'la': 0.006172839506172839, 'Un': 0.0, 'recours': 0.0, 'decorreles': 0.0, 'dominant': 0.0, 'score': 0.0, 'dictionnaires': 0.0, 'originales': 0.0, 'aligne': 0.0, 'faiblesses': 0.0, 'Le': 0.0, 'ou': 0.0024691358024691358, 'humaines': 0.0, 'necessitent': 0.0, 'generations': 0.0, 'notions': 0.0, 'significatifs': 0.0, 'etant': 0.0, 'majeurs': 0.0, 'phase': 0.0, 'tion': 0.0, 'absence': 0.0, 'multilingue': 0.0, 'alignements': 0.0, 'correspondance': 0.0, 'americain': 0.0, 'techniques': 0.0, 'anterieurs': 0.0, 'cascades': 0.0, 'agit': 0.0, 'seraient': 0.0, 'particulier': 0.0, 'medicaux': 0.0, 'formalisme': 0.0, 'TRACE': 0.0, 'relevons': 0.0, 'annote': 0.0, 'fonction': 0.0, 'probabilites': 0.0, 'prototypes': 0.0, 'integrant': 0.0, 'conclusions': 0.0, 'substantielles': 0.0, 'bons': 0.0, 'echantillonnage': 0.0, 'Outre': 0.0, 'justifie': 0.0, 'envisageable': 0.0, 'diminuer': 0.0, 'obtenons': 0.0, 'utilisateur': 0.0, 'aligneur': 0.0, 'basees': 0.0, 'appariement': 0.0, 'regions': 0.0, 'stuctures': 0.0, 'type': 0.0, 'normalisee': 0.0, 'Lexicales': 0.0, 'situations': 0.0, 'decoder': 0.0, 'tirer': 0.0, 'utiles': 0.0, 'montre': 0.0, 'lever': 0.0, 'nos': 0.0, 'COSMAT': 0.0, 'generative': 0.0, 'dependent': 0.0, 'distance': 0.0, 'sans': 0.0, 'variantes': 0.0, 'journalistiques': 0.0, 'liens': 0.0, 'futurs': 0.0, 'veut': 0.0, 'chomskyenne': 0.0, 'efficace': 0.0, 'concepts': 0.0, 'lingues': 0.0012345679012345679, 'EVALDA': 0.0, 'ce': 0.0, 'heterogene': 0.0, 'fardeau': 0.0, 'toujours': 0.0, 'receptionner': 0.0, 'presentations': 0.0, 'entites': 0.0, 'egard': 0.0, 'fran': 0.0, 'importantes': 0.0, 'fournies': 0.0, 'capable': 0.0, 'appliquee': 0.0, 'strictes': 0.0012345679012345679, 'consequents': 0.0, 'averent': 0.0, 'anterieurement': 0.0, 'pages': 0.0, 'extraire': 0.0, 'pour': 0.0012345679012345679, 'problemes': 0.0, 'fonctions': 0.0, 'soient': 0.0, 'problematiques': 0.0, 'leurs': 0.0, 'Laboratoire': 0.0, 'cerner': 0.0, 'developpement': 0.0, 'tout': 0.0, 'scripturale': 0.0, 'attribuent': 0.0, 'revele': 0.0, 'origine': 0.0, 'representations': 0.0, 'marque': 0.0, 'collaboratif': 0.0, 'ellipse': 0.0, 'approches': 0.0, 'accent': 0.0, 'lexicale': 0.0, 'quantitative': 0.0, 'segment': 0.0, 'precis': 0.0, 'neuronales': 0.0, 'combinaisons': 0.0, 'contraintes': 0.0, 'paralleles': 0.0012345679012345679, 'pivot': 0.0, 'medical': 0.0, 'revision': 0.0, 'auquel': 0.0, 'interfaces': 0.0, 'bilingues': 0.0, 'web': 0.0, 'quand': 0.0, 'secondes': 0.0, 'visee': 0.0, 'modalite': 0.0, 'sera': 0.0, 'LexAr': 0.0, 'consiste': 0.0, 'futur': 0.0, 'produisant': 0.0, 'reposant': 0.0, 'Yvon': 0.0, 'volat': 0.0, 'continuellement': 0.0, 'automatiquement': 0.0, 'telle': 0.0, 'quelques': 0.0, 'judicieuse': 0.0, 'immediate': 0.0, 'implication': 0.0, 'sortie': 0.0, 're': 0.0, 'caractere': 0.0, 'Une': 0.0, 'isoles': 0.0, 'combinaison': 0.0, 'donnee': 0.0, 'ainsi': 0.0012345679012345679, 'clitiques': 0.0, 'courts': 0.0, 'formaliser': 0.0, 'ressemblance': 0.0, 'contiennent': 0.0, 'significativement': 0.0, 'couvre': 0.0, 'traitee': 0.0, 'modalites': 0.0, 'gratuits': 0.0, 'appel': 0.0012345679012345679, 'Or': 0.0, 'lecteurs': 0.0, 'ete': 0.0, 'langagieres': 0.0, 'complexes': 0.0, 'etre': 0.0, 'probabiliste': 0.0, 'formes': 0.0, 'mis': 0.0, 'appeler': 0.0, 'expertes': 0.0, 'Documents': 0.0, 'possede': 0.0, 'sommes': 0.0, 'METEOR': 0.0, 'c': 0.0, 'dont': 0.0, 'jour': 0.0, 'significative': 0.0, 'lexical': 0.0, 'preserve': 0.0, 'n': 0.0, 'optimale': 0.0, 'communaute': 0.0, 'MedSLT': 0.0, 'offrant': 0.0, 'prediction': 0.0, 'syntaxiques': 0.0, 'point': 0.0, 'etudiant': 0.0, 'generation': 0.0, 'effet': 0.0, 'faite': 0.0, 'creee': 0.0, 'eux': 0.0, 'nouveau': 0.0, 'integrent': 0.0, 'demeure': 0.0, 'neologismes': 0.0, 'adaptees': 0.0, 'textuelle': 0.0, 'ni': 0.0, 'limitee': 0.0, 'demontre': 0.0, 'morphologique': 0.0, 'considerons': 0.0, 'reformuler': 0.0, 'BLEU': 0.0, 'specifique': 0.0, 'favorisent': 0.0, 'adequation': 0.0, 'generaliste': 0.0, 'ci': 0.0, 'axes': 0.0, 'heuristiques': 0.0, 'ebauche': 0.0, 'valuee': 0.0, 'tables': 0.0, 'estime': 0.0, 'associant': 0.0, 'scenario': 0.0, 'mesurees': 0.0, 'tandis': 0.0, 'moins': 0.0, 'comme': 0.0, 'definition': 0.0, 'Translate': 0.0, 'fonctionne': 0.0, 'attribue': 0.0, 'obtenus': 0.0, 'enregistres': 0.0, 'impact': 0.0, 'terminons': 0.0, 'ressources': 0.0, 'reconstruit': 0.0, 'spontanes': 0.0, 'Paillard': 0.0, 'avantages': 0.0, 'conventions': 0.0, 'maniere': 0.0, 'pipeline': 0.0, 'besoins': 0.0, 'toutefois': 0.0, 'criteres': 0.0, 'haute': 0.0, 'protocole': 0.0, 'inscrit': 0.0, 'fonctionnement': 0.0, 'vocabulaire': 0.0, 'satisfaisante': 0.0, 'bilingue': 0.0, 'continu': 0.0, 'nombreux': 0.0, 'pourraient': 0.0, 'occurrences': 0.0, 'parti': 0.0, 'description': 0.0, 'pouvait': 0.0, 'connu': 0.0, 'desordres': 0.0, 'interpolees': 0.0, 'resume': 0.0, 'quot': 0.0, 'ma': 0.0, 'decouvert': 0.0, 'consistait': 0.0, 'deterministes': 0.0, 'aident': 0.0, 'Grenoble': 0.0, 'chinois': 0.0, 'linguistiques': 0.0, 'ordinateur': 0.0, 'liste': 0.0012345679012345679, 'adaptation': 0.0, 'salutaire': 0.0, 'entrees': 0.0, 'critiquee': 0.0, 'interlingue': 0.0, 'consequences': 0.0, 'direction': 0.0, 'theories': 0.0, 'court': 0.0, 'RALI': 0.0, 'eventuellement': 0.0, 'interlocuteur': 0.0, 'N': 0.0, 'aborde': 0.0, 'potentiele': 0.0, 'guider': 0.0, 'alternative': 0.0012345679012345679, 'acceleration': 0.0, 'analogie': 0.0, 'excellente': 0.0, 'coreference': 0.0, 'minorite': 0.0, 'separation': 0.0, 'interessantes': 0.0, 'permet': 0.0, 'fait': 0.0, 'liees': 0.0, 'developper': 0.0, 'sens': 0.0, 'Sens': 0.0, 'extrayant': 0.0, 'service': 0.0, 'prototype': 0.0, 'che': 0.0, 'raisonnable': 0.0, 'probabilistes': 0.0, 'existence': 0.0, 'economiques': 0.0, 'choisir': 0.0, 'Europarl': 0.0, 'consequence': 0.0, 'neammoins': 0.0, 'originalite': 0.0, 'gestion': 0.0, 'linguistes': 0.0, 'Its': 0.0, 'definitoires': 0.0, 'phrase': 0.0012345679012345679, 'u': 0.0, 'duplications': 0.0, 'met': 0.0, 'modele': 0.0, 'regard': 0.0, 'tels': 0.0, 'revise': 0.0, 'recherches': 0.0, 'construit': 0.0, 'tentant': 0.0, 'morphologiquement': 0.0, 'phrastiques': 0.0, 'temporelles': 0.0, 'Internet': 0.0, 'noms': 0.0, 'objet': 0.0, 'collocation': 0.0, 'implantation': 0.0, 'generale': 0.0, 'Proceedings': 0.0, 'autre': 0.0, 'polarisees': 0.0, 'heurte': 0.0, 'et': 0.003703703703703704, 'reutilisation': 0.0, 'se': 0.0012345679012345679, 'derniere': 0.0, 'causales': 0.0, 'abstrait': 0.0, 'semble': 0.0, 'pose': 0.0, 'Avec': 0.0, 'Alors': 0.0, 'annotes': 0.0, 'present': 0.0, 'operatoire': 0.0, 'contribue': 0.0, 'Editing': 0.0, 'seule': 0.0, 'definitions': 0.0, 'competence': 0.0, 'OCR': 0.0, 'identifier': 0.0, 'choix': 0.0, 'disponibles': 0.0, 'Inversement': 0.0, 'bruitee': 0.0, 'terminologie': 0.0, 'utilisable': 0.0, 'verifier': 0.0024691358024691358, 'monolingues': 0.0, 'prenons': 0.0, 'facettes': 0.0, 'donnent': 0.0, 'OpenNMT': 0.0, 'methodologie': 0.0, 'couverture': 0.0, 'edite': 0.0, 'niveaux': 0.0, 'syntagmes': 0.0, 'etudes': 0.0, 'points': 0.0, 'E': 0.0, 'problematique': 0.0, 'basant': 0.0, 'formule': 0.0, 'presentons': 0.0, 'sation': 0.0, 'predications': 0.0, 'moteurs': 0.0, 'developpe': 0.0, 'evaluees': 0.0, 'tant': 0.0, 'jusque': 0.0, 'formalisation': 0.0, 'precision': 0.0, 'experimentaux': 0.0, 'brutes': 0.0, 'pret': 0.0, 'A': 0.0012345679012345679, 'experiences': 0.0, 'venant': 0.0, 'voie': 0.0, 'reconnaissance': 0.0, 'pertinentes': 0.0, 'composes': 0.0, 'WCE': 0.0, 'profond': 0.0, 'annotons': 0.0, 'guidee': 0.0, 'volee': 0.0, 'il': 0.0012345679012345679, 'TAS': 0.0, 'declencher': 0.0, 'C': 0.0, 'TAL': 0.0, 'boursiers': 0.0, 'symetriques': 0.0, 'afin': 0.0, 'prend': 0.0, 'demande': 0.0, 'thematique': 0.0, 'syntaxiquement': 0.0, 'comparant': 0.0, 'algorithme': 0.0, 'grandes': 0.0, 'Xiamen': 0.0, 'idoine': 0.0, 'reelle': 0.0, 'candidates': 0.0, 'post': 0.0, 'souhaitons': 0.0, 'chacune': 0.0, 'depit': 0.0, 'realisateurs': 0.0, 'donnees': 0.0, 'utilises': 0.0, 'considerant': 0.0, 'aires': 0.0, 'temps': 0.0, 'analyseur': 0.0, 'ssees': 0.0, 'textuelles': 0.0, 'regles': 0.0, 'motives': 0.0, 'mitiges': 0.0, 'organisations': 0.0, 'strategie': 0.0, 'couplage': 0.0, 'robustes': 0.0, 'CESTA': 0.0, 'referents': 0.0, 'produites': 0.0, 'derivation': 0.0, 'selon': 0.0, 'frequences': 0.0, 'valeur': 0.0, 'rapide': 0.0, 'distingue': 0.0, 'je': 0.0, 'incrementale': 0.0, 'leWeb': 0.0, 'mal': 0.0, 'heterogeneite': 0.0, 'associee': 0.0, 'combine': 0.0, 'affichant': 0.0, 'cinq': 0.0, 'dernieres': 0.0, 'rythment': 0.0, 'estimer': 0.0, 'utilisent': 0.0, 'construites': 0.0, 'autres': 0.0, 'traduc': 0.0, 'communications': 0.0, 'issue': 0.0, 'question': 0.0, 'pas': 0.0, 'interesserons': 0.0, 'F': 0.0, 'reduction': 0.0, 'Suisse': 0.0, 'saut': 0.0, 'grande': 0.0012345679012345679, 'utilite': 0.0, 'communiques': 0.0, 'vraisemblance': 0.0, 'dictionnaire': 0.0, 'ULC': 0.0, 'terminologique': 0.0, 'MHV': 0.0, 'detection': 0.0, 'contrastive': 0.0, 'commerciale': 0.0, 'manuellement': 0.0, 'mapping': 0.0, 'specifiquement': 0.0, 'confiance': 0.0, 'travail': 0.0012345679012345679, 'basent': 0.0012345679012345679, 'ACCEPT': 0.0, 'matique': 0.0, 'coherent': 0.0, 'formalismes': 0.0, 'supplementaires': 0.0, 'requete': 0.0, 'fort': 0.0012345679012345679, 'analyse': 0.0, 'ameliorations': 0.0, 'voyellation': 0.0, 'Recursion': 0.0, 'defi': 0.0, 'largement': 0.0, 'europeen': 0.0, 'importante': 0.0, 'avocat': 0.0, 'intensifie': 0.0, 'identite': 0.0, 'considerees': 0.0, 'operation': 0.0, 'traiter': 0.0, 'indiquent': 0.0, 'semantique': 0.0, 'plusieurs': 0.0, 'paraphrases': 0.0, 'Les': 0.0, 'Deux': 0.0, 'seulement': 0.0, 'tient': 0.0, 'paraissent': 0.0, 'deuxieme': 0.0, 'existant': 0.0, 'quantifions': 0.0, 'portable': 0.0, 'ex': 0.0, 'PE': 0.0, 'grandement': 0.0, 'disposer': 0.0, 'comparables': 0.0, 'production': 0.0, 'differentes': 0.0, 'croyances': 0.0, 'occurrence': 0.0, 'evaluer': 0.0, 'concernent': 0.0, 'traductionnelles': 0.0, 'primaire': 0.0, 'actuels': 0.0, 'stricte': 0.0, 'pertinent': 0.0, 'decrit': 0.0, 'predication': 0.0, 'lexicales': 0.0, 'rechercher': 0.0, 'heterogenes': 0.0, 'permis': 0.0, 'suggere': 0.0, 'co': 0.0, 'vue': 0.0, 'annotations': 0.0, 'distinguer': 0.0, 'moderne': 0.0, 'dependances': 0.0, 'implique': 0.0, 'phrastique': 0.0, 'Lepage': 0.0, 'dialogue': 0.0, 'nouvel': 0.0, 'art': 0.0, 'continus': 0.0, 'temoin': 0.0, 'montrant': 0.0, 'domaines': 0.0, 'montrons': 0.0, 'similarite': 0.0, 'distinguent': 0.0, 'coherente': 0.0, 'concept': 0.0, 'generee': 0.0, 'inferieur': 0.0, 'approche': 0.0, 'comportant': 0.0, 'servir': 0.0, 'oracles': 0.0, 'edites': 0.0, 'textes': 0.0024691358024691358, 'existante': 0.0, 'pourcentages': 0.0, 'consister': 0.0, 'possibles': 0.0, 'taux': 0.0, 'cycle': 0.0, 'limite': 0.0, 'notre': 0.0, 'avoir': 0.0, 'EDGAR': 0.0, 'assez': 0.0, 'genre': 0.0, 'extraits': 0.0, 'elle': 0.0, 'compte': 0.0, 'Principes': 0.0, 'instances': 0.0, 'IPTC': 0.0, 'Moses': 0.0, 'Aucune': 0.0, 'decrits': 0.0, 'place': 0.0, 'individualiser': 0.0, 'passons': 0.0, 'pre': 0.0, 'scores': 0.0, 'Parliament': 0.0, 'superieur': 0.0, 'mesurons': 0.0, 'beaucoup': 0.0, 'menees': 0.0, 'Powers': 0.0, 'cependant': 0.0, 'fin': 0.0, 'complet': 0.0, 'XMU': 0.0, 'seules': 0.0, 'electroniques': 0.0, 'obtenue': 0.0, 'aguacate': 0.0, 'envisager': 0.0, 'principales': 0.0, 'sequences': 0.0, 'comment': 0.0, 'erreurs': 0.0, 'avancees': 0.0, 'effort': 0.0, 'profondement': 0.0, 'transfert': 0.0, 'detaillons': 0.0, 'Apres': 0.0, 'mots': 0.0, 'inspiree': 0.0, 'teuses': 0.0, 'WMT': 0.0, 'contexte': 0.0, 'Technolangue': 0.0, 'Babelfish': 0.0, 'repandue': 0.0, 'jargon': 0.0, 'reliant': 0.0, 'documents': 0.0, 'generiques': 0.0, 'forums': 0.0, 'etend': 0.0, 'perspectives': 0.0, 'vaste': 0.0, 'modifier': 0.0, 'artificielle': 0.0, 'obtenues': 0.0, 'De': 0.0, 'Web': 0.0, 'processus': 0.0, 'Parametres': 0.0, 'incluent': 0.0, 'L': 0.0, 'gr': 0.0, 'aper': 0.0, 'ches': 0.0, 'objectifs': 0.0, 'independante': 0.0, 'premiere': 0.0, 'beneficier': 0.0, 'differences': 0.0, 'constituent': 0.0, 'longues': 0.0, 'originale': 0.0, 'parallele': 0.0, 'premiers': 0.0, 'classification': 0.0, 'meme': 0.0, 'adapter': 0.0, 'tenu': 0.0, 'Talks': 0.0, 'similaires': 0.0, 'prouve': 0.0, 'ench': 0.0, 'extraction': 0.0, 'impliquees': 0.0, 'langage': 0.0, 'taille': 0.0, 'alternance': 0.0, 'fragilite': 0.0, 'disponible': 0.0, 'al': 0.0, 'plus': 0.0024691358024691358, 'utilisees': 0.0, 'repondu': 0.0, 'anglaise': 0.0, 'TAP': 0.0, 'contextuelles': 0.0, 'cible': 0.0, 'correctement': 0.0, 'test': 0.0, 'TALN': 0.0, 'faisant': 0.0012345679012345679, 'ideale': 0.0, 'filtre': 0.0, 'association': 0.0, 'presentees': 0.0, 'attire': 0.0, 'deja': 0.0, 'valuation': 0.0, 'representees': 0.0, 'reseaux': 0.0, 'annees': 0.0, 'generales': 0.0012345679012345679, 'malgre': 0.0, 'directement': 0.0, 'notion': 0.0, 'aussi': 0.0, 'universite': 0.0, 'paragraphe': 0.0012345679012345679, 'auteur': 0.0, 'modeles': 0.0, 'semantiques': 0.0012345679012345679, 'leur': 0.0, 'R': 0.0, 'jugees': 0.0, 'services': 0.0, 'provenant': 0.0, 'dispose': 0.0, 'stylistiques': 0.0, 'ner': 0.0, 'sembler': 0.0, 'reponse': 0.0, 'rendre': 0.0, 'automatiser': 0.0, 'realises': 0.0, 'Ainsi': 0.0, 'fournissent': 0.0, 'font': 0.0, 'multi': 0.0012345679012345679, 'mettons': 0.0, 'adequate': 0.0, 'bonne': 0.0, 'generique': 0.0, 'transcriptions': 0.0, 'Emea': 0.0, 'Texte': 0.0, 'admettant': 0.0, 'une': 0.003703703703703704, 'vues': 0.0, 'creer': 0.0, 'precise': 0.0, 'exemple': 0.0, 'graphes': 0.0, 'Confidence': 0.0, 'Ce': 0.0, 'souvent': 0.0, 'meilleures': 0.0, 'atlas': 0.0, 'amelioration': 0.0, 'generateur': 0.0, 'etc': 0.0, 'internationales': 0.0, 'experimentations': 0.0, 'evaluation': 0.0, 'decrivons': 0.0, 'langages': 0.0, 'mentionnent': 0.0, 'parce': 0.0, 'sensible': 0.0, 'theorie': 0.0, 'tester': 0.0, 'devenu': 0.0, 'verificateur': 0.0, 'developpees': 0.0, 'qualitatif': 0.0, 'surface': 0.0, 'mene': 0.0, 'utilisateurs': 0.0, 'parties': 0.0, 'uniquement': 0.0, 'Unites': 0.0, 'parametres': 0.0, 'requetes': 0.0, 'syntaxique': 0.0, 'acquerir': 0.0, 'demontraient': 0.0, 'applications': 0.0, 'oeuvre': 0.0, 'entieres': 0.0, 'OCRisation': 0.0, 'hypotheses': 0.0, 'possible': 0.0012345679012345679, 'fondee': 0.0, 'naturelle': 0.0, 'action': 0.0, 'litteraire': 0.0, 'toutes': 0.0, 'traductions': 0.0, 'flexibles': 0.0, 'source': 0.0, 'orales': 0.0, 'grandissant': 0.0, 'hoc': 0.0, 'surfacique': 0.0, 'consequent': 0.0, 'reference': 0.0, 'hybrides': 0.0, 'multicodage': 0.0, 'adaptee': 0.0, 'Contextes': 0.0, 'normes': 0.0012345679012345679, 'intervention': 0.0, 'l': 0.0, 'nombreuses': 0.0, 'transitivite': 0.0, 'conference': 0.0, 'trisee': 0.0, 'ordre': 0.0, 'discriminant': 0.0, 'envisagees': 0.0, 'frames': 0.0, 'composite': 0.0, 'hauteur': 0.0, 'lorsque': 0.0, 'loin': 0.0, 'trancher': 0.0, 'situation': 0.0, 'validite': 0.0, 'appliquent': 0.0, 'configurations': 0.0, 'classique': 0.0, 'aide': 0.0, 'etudions': 0.0, 'disparate': 0.0, 'tel': 0.0, 'campagne': 0.0, 'participants': 0.0, 'personnels': 0.0, 'donc': 0.0, 'entree': 0.0, 'interessons': 0.0, 'campagnes': 0.0, 'enrichir': 0.0, 'accessible': 0.0, 'modelisation': 0.0, 'plateforme': 0.0, 'efficacite': 0.0, 'parole': 0.0, 'collecte': 0.0, 'discours': 0.0, 'texte': 0.0012345679012345679, 'definitoire': 0.0, 'compromis': 0.0, 'du': 0.0024691358024691358, 'programmation': 0.0, 'adaptant': 0.0, 'observe': 0.0, 'respectueuse': 0.0, 'conduites': 0.0, 'suivre': 0.0, 'notamment': 0.0, 'implementation': 0.0, 'formee': 0.0, 'ecriture': 0.0, 'D': 0.0, 'zones': 0.0, 'equivalents': 0.0, 'eme': 0.0, 'combinant': 0.0, 'Theorie': 0.0, 'TransSearch': 0.0, 'procedes': 0.0, 'selection': 0.0, 'nouvelles': 0.0, 'permettant': 0.0012345679012345679, 'variante': 0.0, 'codification': 0.0, 'proposer': 0.0, 'partie': 0.0, 'idee': 0.0, 'premier': 0.0, 'presque': 0.0, 'classees': 0.0, 'ici': 0.0012345679012345679, 'travaux': 0.0, 'faibles': 0.0, 'cette': 0.0, 'reste': 0.0, 'seconde': 0.0, 'utilise': 0.0, 'examine': 0.0, 'de': 0.019753086419753086, 'proposons': 0.0012345679012345679, 'parsage': 0.0, 'LATL': 0.0, 'donne': 0.0012345679012345679, 'moteur': 0.0, 'facilement': 0.0, 'nominaux': 0.0, 'reviseurs': 0.0, 'article': 0.0, 'introduit': 0.0, 'fa': 0.0, 'Bien': 0.0, 'contraire': 0.0, 'trop': 0.0, 'verification': 0.0012345679012345679, 'applicatif': 0.0, 'lorsqu': 0.0, 'sous': 0.0012345679012345679, 'construits': 0.0, 'nous': 0.0, 'avocado': 0.0, 'focalisant': 0.0, 'familiere': 0.0, 'porter': 0.0, 'volume': 0.0, 'incertitudes': 0.0, 'utilisation': 0.0, 'lemmatisation': 0.0, 'exterieures': 0.0, 'chercheurs': 0.0, 'Lardilleux': 0.0, 'style': 0.0024691358024691358, 'alignes': 0.0, 'brievement': 0.0, 'p': 0.0, 'longueur': 0.0, 'finis': 0.0, 'operant': 0.0, 'vise': 0.0, 'architectures': 0.0, 'generees': 0.0, 'independantes': 0.0, 'naturels': 0.0, 'termes': 0.0, 'analysees': 0.0, 'outre': 0.0, 'precedentes': 0.0, 'automatique': 0.0, 'chacun': 0.0, 'essai': 0.0, 'remplacement': 0.0, 'alors': 0.0, 'evalue': 0.0, 'generalisation': 0.0, 'Fips': 0.0, 'anbn': 0.0, 'certains': 0.0, 'certaines': 0.0, 'donnant': 0.0, 'table': 0.0, 'rapport': 0.0, 'Traduction': 0.0, 'masses': 0.0, 'computationnelles': 0.0, 'adapte': 0.0, 'resultant': 0.0, 'obligatoires': 0.0, 'sa': 0.0, 'utiliser': 0.0, 'forces': 0.0, 'presenter': 0.0, 'Il': 0.0, 'potentiel': 0.0, 'hors': 0.0, 'principalement': 0.0, 'degrade': 0.0, 'restructuration': 0.0, 'contigu': 0.0, 'domaine': 0.0, 'besoin': 0.0, 'cours': 0.0, 'particulierement': 0.0, 'echappe': 0.0, 'offrirons': 0.0, 'Notre': 0.0, 'succes': 0.0, 'reduire': 0.0, 'proposee': 0.0, 'reecriture': 0.0, 'Nasiruddin': 0.0, 'recherchee': 0.0, 'Comme': 0.0, 'numerises': 0.0, 'existe': 0.0, 'module': 0.0, 'necessite': 0.0, 'essentielles': 0.0, 'concerne': 0.0, 'premieres': 0.0, 'proprietes': 0.0, 'produits': 0.0, 'celles': 0.0, 'con': 0.0, 'verrou': 0.0, 'comportement': 0.0, 'concordancier': 0.0, 'categorisation': 0.0, 'japonais': 0.0, 'methodes': 0.0012345679012345679, 'paire': 0.0, 'critere': 0.0, 'methodologies': 0.0, 'attention': 0.0, 'locale': 0.0, 'engendre': 0.0, 'Je': 0.0, 'Nos': 0.0, 'exprimees': 0.0, 'collaborative': 0.0, 'calcul': 0.0, 'aujourde': 0.0, 'mais': 0.0, 'tolerance': 0.0012345679012345679, 'TAO': 0.0, 'CRC': 0.0, 'destinees': 0.0, 'extension': 0.0, 'profils': 0.0, 'pertinence': 0.0, 'memoires': 0.0, 'LIG': 0.0, 'Estimation': 0.0, 'correctes': 0.0, 'lien': 0.0, 'connaissances': 0.0, 'prendre': 0.0, 'plan': 0.0, 'particularisation': 0.0, 'tes': 0.0, 'difficultes': 0.0, 'unites': 0.0, 'emblee': 0.0, 'series': 0.0, 'hypothese': 0.0, 'homme': 0.0, 'methode': 0.0012345679012345679, 'entretenant': 0.0, 'memoire': 0.0, 'visant': 0.0, 'different': 0.0, 'concentree': 0.0, 'Connaissances': 0.0, 'egalement': 0.0, 'plate': 0.0, 'celui': 0.0, 'outils': 0.0, 'connues': 0.0, 'centrale': 0.0, 'prefixe': 0.0, 'quantite': 0.0, 'cas': 0.0, 'allant': 0.0, 'consideree': 0.0, 'completes': 0.0, 'panel': 0.0, 'discutons': 0.0, 'suggerant': 0.0, 'questions': 0.0, 'qualite': 0.0, 'etude': 0.0, 'etablir': 0.0, 'rendue': 0.0, 'intermediaires': 0.0, 'relatives': 0.0, 'ajustements': 0.0, 'Ils': 0.0, 'proximite': 0.0, 'offre': 0.0, 'pluriculturels': 0.0, 'Enfin': 0.0, 'nommees': 0.0, 'contrainte': 0.0, 'minimal': 0.0, 'reel': 0.0, 'simple': 0.0, 'synonymie': 0.0, 'ont': 0.0, 'compenser': 0.0, 'Anymalign': 0.0, 'exact': 0.0, 'rarete': 0.0, 'etroit': 0.0, 'augmentation': 0.0, 'pronominales': 0.0, 'prometteuse': 0.0, 'extensive': 0.0, 'pistes': 0.0, 'inconnus': 0.0, 'complexite': 0.0, 'mecanisme': 0.0, 'puis': 0.0, 'passages': 0.0, 'Google': 0.0, 'issus': 0.0, 'SemCor': 0.0, 'considere': 0.0, 'context': 0.0, 'plupart': 0.0, 'petit': 0.0, 'prefixees': 0.0, 'litterale': 0.0, 'experience': 0.0, 'performances': 0.0, 'editions': 0.0, 'allemand': 0.0, 'recycler': 0.0, 'gains': 0.0, 'caracteres': 0.0, 'selectionnes': 0.0, 'idiomatique': 0.0, 'ANR': 0.0, 'biunivoques': 0.0, 'utilisee': 0.0, 'associees': 0.0, 'focalisons': 0.0, 'preferee': 0.0, 'precautions': 0.0, 'granularite': 0.0, 'Content': 0.0, 'complement': 0.0, 'modaux': 0.0, 'probleme': 0.0, 'librement': 0.0, 'train': 0.0, 'La': 0.0, 'phenomenes': 0.0, 'cesse': 0.0, 'textuels': 0.0, 'specialites': 0.0, 'gros': 0.0, 'decompte': 0.0, 'correspondant': 0.0, 'ameliorer': 0.0, 'original': 0.0, 'binaire': 0.0, 'invariablement': 0.0, 'objets': 0.0, 'significatif': 0.0, 'variables': 0.0, 'polysemiques': 0.0, 'proche': 0.0, 'redacteur': 0.0, 'que': 0.0, 'ensuite': 0.0, 'relativement': 0.0, 'presence': 0.0, 'forme': 0.0012345679012345679, 'au': 0.0012345679012345679, 's': 0.0, 'objectif': 0.0, 'robuste': 0.0, 'logiciel': 0.0, 'consideres': 0.0, 'explicitement': 0.0, 'edition': 0.0, 'seul': 0.0, 'decennie': 0.0, 'dediees': 0.0, 'abstraite': 0.0, 'decodage': 0.0, 'prise': 0.0, 'evaluons': 0.0, 'NIST': 0.0, 'Compte': 0.0, 'representatifs': 0.0, 'Sur': 0.0, 'larges': 0.0, 'dans': 0.0049382716049382715, 'integrer': 0.0, 'connue': 0.0, 'interferences': 0.0, 'enquete': 0.0, 'reformulons': 0.0, 'notable': 0.0, 'transmettent': 0.0, 'chaque': 0.0, 'hierarchiques': 0.0, 'mettent': 0.0, 'meilleur': 0.0, 'linguistique': 0.0, 'erronees': 0.0, 'lire': 0.0, 'systematique': 0.0, 'Certains': 0.0, 'general': 0.0, 'montrent': 0.0, 'clustering': 0.0, 'apprendre': 0.0, 'accro': 0.0, 'explorer': 0.0, 'son': 0.0, 'detaille': 0.0, 'pouvoir': 0.0, 'translitteration': 0.0, 'represente': 0.0, 'atelier': 0.0, 'faites': 0.0, 'soit': 0.0, 'aptitude': 0.0, 'estimation': 0.0, 'enonces': 0.0, 'volumes': 0.0, 'grammaires': 0.0, 'auteurs': 0.0, 'Technologie': 0.0, 'faire': 0.0, 'influence': 0.0, 'a': 0.0024691358024691358, 'Dans': 0.0, 'Recemment': 0.0, 'contr': 0.0, 'constituants': 0.0, 'necessitant': 0.0, 'sein': 0.0, 'pretent': 0.0, 'riche': 0.0, 'produire': 0.0, 'favori': 0.0, 'decris': 0.0, 'grain': 0.0, 't': 0.0, 'metriques': 0.0, 'totalement': 0.0, 'comparaison': 0.0012345679012345679, 'recente': 0.0, 'ses': 0.0, 'isotopies': 0.0012345679012345679, 'avant': 0.0, 'pourra': 0.0, 'preferences': 0.0, 'relation': 0.0, 'ilite': 0.0, 'contenus': 0.0, 'resultats': 0.0, 'courriers': 0.0, 'lies': 0.0, 'specifiques': 0.0, 'systemes': 0.0, 'occupent': 0.0, 'interlingua': 0.0, 'utilisant': 0.0, 'Stroppa': 0.0, 'litteralite': 0.0012345679012345679, 'developpons': 0.0, 'Pak': 0.0, 'utilisables': 0.0, 'litterature': 0.0, 'rapidement': 0.0, 'transcription': 0.0, 'assistee': 0.0, 'outil': 0.0, 'architecture': 0.0, 'propose': 0.0, 'recentes': 0.0, 'traduits': 0.0, 'ne': 0.0, 'inspection': 0.0, 'Agency': 0.0, 'Se': 0.0, 'lexiques': 0.0, 'definissons': 0.0, 'metrique': 0.0, 'lexique': 0.0, 'types': 0.0, 'ceux': 0.0, 'constructions': 0.0, 'derniers': 0.0, 'latentes': 0.0, 'necessairement': 0.0, 'presentation': 0.0, 'significatives': 0.0, 'groupes': 0.0, 'application': 0.0, 'classiques': 0.0, 'sources': 0.0, 'sites': 0.0, 'regroupement': 0.0, 'encore': 0.0, 'modulation': 0.0, 'nature': 0.0, 'machine': 0.0, 'lexico': 0.0, 'traducteurs': 0.0, 'extra': 0.0, 'optique': 0.0, 'donnait': 0.0, 'utilisons': 0.0, 'Anglais': 0.0, 'participation': 0.0, 'principe': 0.0, 'unite': 0.0, 'information': 0.0, 'jamais': 0.0, 'aient': 0.0, 'RAP': 0.0, 'important': 0.0, 'issu': 0.0, 'Neufs': 0.0, 'sujet': 0.0, 'ailleurs': 0.0, 'encourageants': 0.0, 'artificiel': 0.0, 'agissant': 0.0, 'par': 0.0, 'verifie': 0.0, 'expliquons': 0.0, 'exploitation': 0.0, 'programmes': 0.0, 'ces': 0.0, 'universelles': 0.0, 'verbe': 0.0, 'categories': 0.0, 'proposes': 0.0, 'comparee': 0.0, 'prometteurs': 0.0, 'consacres': 0.0, 'Richard': 0.0, 'posteriori': 0.0, 'dresse': 0.0, 'engin': 0.0, 'Etant': 0.0, 'interface': 0.0, 'donnons': 0.0, 'Maps': 0.0, 'complexe': 0.0, 'ayant': 0.0, 'etrangere': 0.0, 'dependance': 0.0, 'eloignee': 0.0, 'TS': 0.0, 'aligner': 0.0, 'renforcer': 0.0, 'multiple': 0.0, 'definir': 0.0, 'extrayons': 0.0, 'trois': 0.0, 'pointer': 0.0, 'systeme': 0.0, 'construisons': 0.0, 'elles': 0.0012345679012345679, 'compositionnalite': 0.0, 'baisse': 0.0, 'initialement': 0.0, 'sachant': 0.0, 'TransCheck': 0.0, 'Ces': 0.0, 'contenant': 0.0, 'permettent': 0.0, 'aune': 0.0, 'pleinement': 0.0, 'verbes': 0.0, 'portera': 0.0, 'professionnel': 0.0, 'restent': 0.0, 'Cet': 0.0, 'moyenne': 0.0, 'multiples': 0.0, 'Par': 0.0, 'existent': 0.0, 'phrases': 0.0, 'deployes': 0.0, 'solution': 0.0, 'gain': 0.0, 'Ensuite': 0.0, 'libre': 0.0, 'relative': 0.0, 'demonstration': 0.0}\n"
          ],
          "name": "stdout"
        }
      ]
    },
    {
      "cell_type": "code",
      "metadata": {
        "id": "ZJ-BwthmwSWl"
      },
      "source": [
        "def IDF(sentences):\n",
        "    N = len(sentences)\n",
        "    idf = dict.fromkeys(bagofword, 1)\n",
        "    for word in bagofword:\n",
        "      for index in range(0,N):\n",
        "        for word_text in by_word:\n",
        "            if word_text == word:\n",
        "                idf[word] = idf[word] + 1\n",
        "    for word, val in idf.items():\n",
        "        idf[word] = math.log(N / float(val))\n",
        "    return idf\n",
        "\n",
        "idf = IDF(sentences)"
      ],
      "execution_count": 36,
      "outputs": []
    },
    {
      "cell_type": "code",
      "metadata": {
        "colab": {
          "base_uri": "https://localhost:8080/"
        },
        "id": "opqR6jbKyrRz",
        "outputId": "4d143582-e48a-4741-ffdd-6f0509aa0e30"
      },
      "source": [
        "def TFIDF(TF, IDF):\n",
        "    tfidf = {}\n",
        "    for word, val in TF.items():\n",
        "        tfidf[word] = val * IDF[word]\n",
        "    return tfidf\n",
        "\n",
        "print(TFIDF(TF(list_numOfWords[0], sentences[0]), idf))"
      ],
      "execution_count": 37,
      "outputs": [
        {
          "output_type": "stream",
          "text": [
            "{'': -0.10918795143312877, 'corpus': -0.0, 'lineaire': 0.0, 'Portal': 0.0, 'modulaire': 0.0, 'plates': 0.0, 'croissante': 0.0, 'focalise': 0.0, 'generalement': 0.005378652872456286, 'possibilites': 0.005378652872456286, 'resoudre': 0.0, 'qu': 0.005378652872456286, 'ligne': 0.0, 'fragments': 0.0, 'unique': 0.0, 'tirons': 0.0, 'bi': 0.0, 'baselines': 0.0, 'inconnues': 0.0, 'vers': 0.0, 'engendres': 0.0, 'arbitraire': 0.0, 'potentiellement': 0.0, 'Des': 0.0, 'existantes': 0.0, 'traditionnelles': 0.005378652872456286, 'professionnels': 0.0, 'Meme': 0.0, 'd': 0.0, 'quel': 0.0, 'serait': 0.0, 'exploitees': 0.0, 'archetypal': 0.0, 'discriminante': 0.0, 'existants': 0.0, 'identification': 0.0, 'divergences': 0.0, 'jouent': 0.0, 'superieurs': 0.0, 'Cetteapplication': 0.0, 'Langues': 0.0, 'informels': 0.0, 'free': 0.0, 'appelons': 0.0, 'entra': 0.0, 'actuelles': 0.0, 'teuse': 0.0, 'avec': 0.0, 'neuronaux': -0.0, 'European': 0.0, 'limitations': 0.0, 'apporter': 0.0, 'effectuee': 0.0, 'predictions': 0.0, 'pu': 0.0, 'traduction': -0.00431812949789331, 'recouvrements': 0.0, 'fine': 0.0, 'moment': 0.0, 'informations': 0.0, 'apprehender': 0.0, 'via': 0.0, 'Chuquet': 0.0, 'titres': 0.0, 'materiel': 0.0, 'motivees': 0.0, 'le': -0.00544630462940527, 'occasion': 0.0, 'analysons': 0.0, 'ecrire': 0.0, 'M': 0.0, 'meilleure': 0.0, 'mantics': 0.0, 'mesures': 0.0, 'Traitement': 0.0, 'differents': 0.0, 'peu': -0.0, 'manque': 0.0, 'tunisien': 0.0, 'realiser': 0.0, 'traitements': 0.0, 'representation': 0.0, 'suivants': 0.0, 'codage': 0.0, 'contextes': 0.0, 'televisees': 0.0, 'concret': 0.0, 'adequats': 0.0, 'specialite': 0.0, 'projet': 0.0, 'ais': 0.0, 'cadre': 0.0, 'ils': 0.0, 'dispositif': 0.0, 'rarement': 0.0, 'grammaticaux': 0.0, 'etablissement': 0.0, 'renferment': 0.0, 'empruntee': 0.0, 'meta': 0.0, 'mettant': 0.0, 'Automatique': 0.0, 'jusqu': 0.0, 'dressons': 0.0, 'appuyant': 0.0, 'couple': 0.0, 'experimentale': 0.0, 'souhaitee': 0.0, 'neuronale': 0.0, 'MT': 0.0, 'traducteur': 0.0, 'specialisation': 0.0, 'evolutions': 0.0, 'structures': 0.005378652872456286, 'terme': 0.005378652872456286, 'observation': 0.0, 'occupes': 0.0, 'traitement': 0.0, 'combinent': 0.0, 'des': -0.00544630462940527, 'algorithmes': 0.005378652872456286, 'segments': 0.0, 'desambigu': 0.0, 'double': 0.0, 'long': 0.0, 'comparer': 0.0, 'Malgre': 0.0, 'evolution': 0.0, 'possibilite': 0.0, 'facilitant': 0.0, 'orientes': 0.0, 'car': 0.0, 'finlandais': 0.0, 'impliquant': 0.0, 'proposees': 0.0, 'efforts': 0.0, 'peut': 0.0, 'applicables': 0.0, 'pronoms': 0.0, 'journaux': 0.0, 'on': 0.0, 'formations': 0.0, 'respect': 0.005378652872456286, 'signification': 0.0, 'segmentation': 0.0, 'menes': 0.0, 'manuelle': 0.0, 'log': 0.0, 'diverses': 0.0, 'Si': 0.0, 'performance': 0.0, 'grammaire': 0.0, 'Indo': 0.0, 'portant': 0.0, 'mesure': 0.0, 'remplie': 0.0, 'terminologiques': 0.005378652872456286, 'finnois': 0.0, 'approprie': 0.0, 'frequentes': 0.0, 'latine': 0.0, 'guide': 0.0, 'abord': 0.0, 'impossible': 0.0, 'cognats': 0.0, 'articles': 0.0, 'prefixes': 0.0, 'abordons': 0.0, 'arbres': 0.0, 'alignement': 0.005378652872456286, 'biais': 0.0, 'elliptiques': 0.0, 'allemande': 0.0, 'cela': 0.0, 'oral': 0.0, 'simples': 0.0, 'grand': 0.0, 'offrent': 0.0, 'aux': 0.0, 'averer': 0.0, 'memes': 0.0, 'Cette': 0.0, 'realisees': 0.0, 'analyses': 0.0, 'Traduire': 0.0, 'exploite': 0.0, 'but': 0.0, 'italien': 0.0, 'Word': 0.0, 'morphologiques': 0.0, 'resolution': 0.0, 'combinees': -0.0, 'revanche': 0.0, 'sur': 0.010757305744912573, 'travers': 0.0, 'separement': 0.0, 'internet': 0.0, 'non': -1.5727192317814462e-05, 'interaction': 0.0, 'lente': 0.0, 'passe': 0.0, 'exclusivement': 0.0, 'ad': 0.0, 'detaile': 0.0, 'modifiees': 0.0, 'ecrits': 0.0, 'parmi': 0.0, 'attestation': 0.0, 'locuteur': 0.0, 'conditions': 0.0, 'automatiques': 0.0, 'En': 0.005378652872456286, 'demontrerai': 0.0, 'Minimal': 0.0, 'acquisition': 0.0, 'un': 0.01613595861736886, 'compositionnelles': 0.0, 'exemples': 0.0, 'demontrons': 0.0, 'vitesse': 0.0, 'tag': 0.0, 'valider': 0.0, 'dernier': 0.0, 'OOCP': 0.0, 'faiblesse': 0.0, 'traduit': 0.0, 'indispensable': 0.0, 'limites': 0.0, 'respectivement': 0.0, 'traits': 0.0, 'cet': -0.0, 'croyance': 0.0, 'presse': 0.0, 'Riches': 0.0, 'humains': 0.0, 'introduisons': 0.0, 'Langage': 0.0, 'etape': 0.0, 'croitre': 0.0, 'structure': 0.0, 'preliminaire': 0.0, 'anglaises': 0.0, 'partir': 0.0, 'ameliore': 0.0, 'detail': 0.0, 'niveau': 0.010757305744912573, 'resultat': 0.0, 'entre': -0.0, 'riches': 0.0, 'devient': 0.0, 'espagnol': 0.0, 'maximum': 0.0, 'soumettre': 0.0, 'nement': 0.0, 'appuient': 0.0, 'tre': 0.0, 'interdictions': 0.0, 'echanges': 0.0, 'Analyse': 0.0, 'assurer': 0.0, 'b': 0.0, 'O': 0.0, 'variabilite': 0.0, 'comprehension': 0.0, 'comparons': 0.0, 'optimisation': 0.0, 'telles': 0.0, 'dotees': -0.0, 'hui': 0.0, 'appuie': 0.0, 'ameliorent': 0.0, 'alignees': 0.0, 'sont': -0.0, 'construire': 0.0, 'compilation': 0.0, 'conduit': 0.0, 'dialectes': 0.0, 'traduite': 0.0, 'document': 0.0, 'Automated': 0.0, 'en': -0.0, 'contenu': 0.0, 'definissant': 0.0, 'humaine': 0.0, 'numerisees': 0.0, 'perspective': 0.0, 'ellipses': 0.0, 'aider': 0.0, 'rationnelles': 0.0, 'performantes': 0.0, 'presente': 0.0, 'nouvelle': 0.0, 'adjoints': 0.0, 'mot': 0.0, 'recursive': 0.0, 'typologies': 0.0, 'induction': 0.0, 'celle': 0.0, 'r': 0.0, 'localement': 0.0, 'reperage': 0.005378652872456286, 'remarques': 0.0, 'laquelle': 0.0, 'traduire': 0.0, 'tour': 0.0, 'bien': 0.0, 'rapportons': 0.0, 'probabilite': 0.0, 'specifie': 0.0, 'autonome': 0.0, 'finlandaise': 0.0, 'grands': 0.0, 'avons': 0.0, 'homogenes': 0.0, 'part': 0.0, 'recherche': 0.0, 'matrice': 0.0, 'enrichissement': 0.0, 'Metrics': 0.0, 'T': 0.0, 'anaphores': 0.0, 'statistiques': 0.0, 'polysemie': 0.0, 'ensemble': 0.0, 'caracterise': 0.0, 'testons': 0.0, 'propres': 0.0, 'Langlais': 0.0, 'auto': 0.0, 'langues': -0.0, 'parseur': 0.0, 'respectifs': 0.0, 'effectues': 0.0, 'jeu': 0.0, 'segmenter': 0.0, 'theme': 0.0, 'lingue': 0.0, 'connaissance': 0.0, 'editer': 0.0, 'liage': 0.0, 'multilingues': 0.0, 'applique': 0.0, 'equivalence': 0.0, 'corrections': 0.0, 'qui': 0.0, 'les': -3.1454384635628924e-05, 'ambigu': 0.0, 'focalisent': 0.0, 'englobe': 0.0, 'tres': 0.0, 'variees': 0.0, 'alterner': 0.0, 'Community': 0.0, 'auxiliaires': 0.0, 'evidence': 0.0, 'elements': -0.0, 'atteindre': 0.0, 'BTEC': 0.0, 'produit': 0.0, 'Contrairement': 0.0, 'creation': 0.0, 'contextuelle': 0.0, 'collocations': 0.0, 'etudies': 0.0, 'unification': 0.0, 'saisir': 0.0, 'G': 0.0, 'progres': 0.0, 'etat': 0.0, 'successive': 0.0, 'discursives': 0.0, 'couples': 0.0, 'paradigme': 0.0, 'si': 0.0, 'ecrit': 0.0, 'diglossie': 0.0, 'standard': 0.0, 'dependantes': 0.0, 'inspire': 0.0, 'multiplie': 0.0, 'empilement': 0.0, 'decrite': 0.0, 'compris': 0.0, 'performante': 0.0, 'parametrisation': 0.0, 'dialectologiques': 0.0, 'entreprise': 0.0, 'reformulation': 0.0, 'lu': 0.0, 'requiert': 0.0, 'empiriques': 0.0, 'bases': 0.005378652872456286, 'interessant': 0.0, 'statistique': 0.0, 'tous': 0.0, 'TA': 0.0, 'principale': 0.0, 'essor': 0.0, 'savoir': 0.0, 'repose': 0.0, 'preedition': 0.0, 'extraites': 0.0, 'scenarios': 0.0, 'defaut': -0.0, 'etudier': 0.0, 'exponentiel': 0.0, 'commercial': 0.0, 'raisonnement': 0.0, 'erreur': 0.0, 'necessaire': 0.0, 'deux': -0.0008636258995786621, 'substituees': 0.0, 'mesurer': 0.0, 'declencheurs': 0.0, 'correspondances': 0.0, 'modules': 0.0, 'apprentissage': -0.0, 'discuterai': 0.0, 'anglais': 0.0, 'recemment': 0.0, 'predominantes': 0.0, 'limitees': 0.0, 'issues': 0.0, 'distribuees': 0.0, 'Fran': 0.0, 'fins': 0.005378652872456286, 'benefique': 0.0, 'figees': 0.0, 'Complexes': 0.0, 'sollicite': 0.0, 'version': 0.0, 'disposition': 0.0, 'lawyer': 0.0, 'recuperer': 0.0, 'dialecte': 0.0, 'produite': 0.0, 'prepares': 0.0, 'schemas': 0.005378652872456286, 'interet': 0.0, 'depuis': 0.0, 'preoccupent': 0.0, 'technique': 0.0, 'relevant': 0.0, 'paires': -0.0, 'signes': 0.0, 'obtenir': -0.0, 'reperer': 0.0, 'caracteristiques': 0.0, 'courante': 0.0, 'integration': 0.0, 'Pour': 0.0, 'separee': 0.0, 'treillis': 0.0, 'basee': 0.005378652872456286, 'automatisation': 0.005378652872456286, 'est': -1.5727192317814462e-05, 'apports': 0.0, 'variation': 0.0, 'nombre': 0.0, 'y': 0.0, 'Medicines': 0.0, 'tenant': 0.0, 'Nous': -0.0008636258995786621, 'relations': 0.0, 'scientifique': 0.0, 'auxquels': 0.0, 'varient': 0.0, 'changent': 0.0, 'echantillon': 0.0, 'illustre': 0.0, 'qualitative': 0.0, 'etats': 0.0, 'estimateurs': 0.0, 'correspondante': 0.0, 'presentent': 0.005378652872456286, 'chomskienne': 0.0, 'lors': 0.0, 'langue': 0.0, 'fondent': 0.0, 'ressource': 0.0, 'interesse': 0.0, 'Mais': 0.0, 'dialogues': 0.0, 'lexicaux': 0.0, 'espaces': 0.0, 'arbores': 0.0, 'realise': 0.0, 'conjointe': 0.0, 'Plus': 0.0, 'base': 0.0, 'construction': 0.0, 'repondre': 0.0, 'peuvent': 0.0, 'phases': 0.0, 'competences': 0.0, 'interpretation': 0.0, 'specialement': 0.0, 'caracteriser': 0.0, 'initialisation': 0.0, 'TED': 0.0, 'inclut': 0.0, 'position': 0.0, 'semin': 0.0, 'fondes': 0.0, 'proviennent': 0.0, 'Wikipedia': 0.0, 'arabe': 0.0, 'la': -0.00431812949789331, 'Un': 0.0, 'recours': 0.0, 'decorreles': 0.0, 'dominant': 0.0, 'score': 0.0, 'dictionnaires': 0.0, 'originales': 0.0, 'aligne': 0.0, 'faiblesses': 0.0, 'Le': 0.0, 'ou': -3.1454384635628924e-05, 'humaines': 0.0, 'necessitent': 0.0, 'generations': 0.0, 'notions': 0.0, 'significatifs': 0.0, 'etant': 0.0, 'majeurs': 0.0, 'phase': 0.0, 'tion': 0.0, 'absence': 0.0, 'multilingue': 0.0, 'alignements': 0.0, 'correspondance': 0.0, 'americain': 0.0, 'techniques': 0.0, 'anterieurs': 0.0, 'cascades': 0.0, 'agit': -0.0, 'seraient': 0.0, 'particulier': 0.0, 'medicaux': 0.0, 'formalisme': 0.0, 'TRACE': 0.0, 'relevons': 0.0, 'annote': 0.0, 'fonction': 0.0, 'probabilites': 0.0, 'prototypes': 0.0, 'integrant': 0.0, 'conclusions': 0.0, 'substantielles': 0.0, 'bons': 0.0, 'echantillonnage': 0.0, 'Outre': 0.0, 'justifie': 0.0, 'envisageable': 0.0, 'diminuer': 0.0, 'obtenons': 0.0, 'utilisateur': 0.0, 'aligneur': 0.0, 'basees': 0.0, 'appariement': 0.0, 'regions': 0.0, 'stuctures': 0.0, 'type': 0.0, 'normalisee': 0.0, 'Lexicales': 0.0, 'situations': 0.0, 'decoder': 0.0, 'tirer': 0.0, 'utiles': 0.0, 'montre': 0.0, 'lever': 0.0, 'nos': 0.0, 'COSMAT': 0.0, 'generative': 0.0, 'dependent': 0.0, 'distance': 0.0, 'sans': 0.0, 'variantes': 0.0, 'journalistiques': 0.0, 'liens': 0.0, 'futurs': 0.0, 'veut': 0.0, 'chomskyenne': 0.0, 'efficace': 0.0, 'concepts': 0.0, 'lingues': 0.005378652872456286, 'EVALDA': 0.0, 'ce': 0.0, 'heterogene': 0.0, 'fardeau': 0.0, 'toujours': 0.0, 'receptionner': 0.0, 'presentations': 0.0, 'entites': 0.0, 'egard': 0.0, 'fran': 0.0, 'importantes': 0.0, 'fournies': 0.0, 'capable': 0.0, 'appliquee': 0.0, 'strictes': 0.005378652872456286, 'consequents': 0.0, 'averent': 0.0, 'anterieurement': 0.0, 'pages': 0.0, 'extraire': 0.0, 'pour': -0.0013615761573513175, 'problemes': 0.0, 'fonctions': 0.0, 'soient': 0.0, 'problematiques': 0.0, 'leurs': 0.0, 'Laboratoire': 0.0, 'cerner': 0.0, 'developpement': 0.0, 'tout': 0.0, 'scripturale': 0.0, 'attribuent': 0.0, 'revele': 0.0, 'origine': 0.0, 'representations': 0.0, 'marque': 0.0, 'collaboratif': 0.0, 'ellipse': 0.0, 'approches': 0.0, 'accent': 0.0, 'lexicale': 0.0, 'quantitative': 0.0, 'segment': 0.0, 'precis': 0.0, 'neuronales': 0.0, 'combinaisons': 0.0, 'contraintes': 0.0, 'paralleles': 0.005378652872456286, 'pivot': 0.0, 'medical': 0.0, 'revision': 0.0, 'auquel': 0.0, 'interfaces': 0.0, 'bilingues': 0.0, 'web': 0.0, 'quand': 0.0, 'secondes': 0.0, 'visee': 0.0, 'modalite': 0.0, 'sera': 0.0, 'LexAr': 0.0, 'consiste': 0.0, 'futur': 0.0, 'produisant': 0.0, 'reposant': 0.0, 'Yvon': 0.0, 'volat': 0.0, 'continuellement': 0.0, 'automatiquement': 0.0, 'telle': 0.0, 'quelques': 0.0, 'judicieuse': 0.0, 'immediate': 0.0, 'implication': 0.0, 'sortie': 0.0, 're': 0.0, 'caractere': 0.0, 'Une': 0.0, 'isoles': 0.0, 'combinaison': 0.0, 'donnee': 0.0, 'ainsi': 0.005378652872456286, 'clitiques': 0.0, 'courts': 0.0, 'formaliser': 0.0, 'ressemblance': 0.0, 'contiennent': 0.0, 'significativement': 0.0, 'couvre': 0.0, 'traitee': 0.0, 'modalites': 0.0, 'gratuits': 0.0, 'appel': 0.005378652872456286, 'Or': 0.0, 'lecteurs': 0.0, 'ete': 0.0, 'langagieres': 0.0, 'complexes': 0.0, 'etre': 0.0, 'probabiliste': 0.0, 'formes': 0.0, 'mis': 0.0, 'appeler': 0.0, 'expertes': 0.0, 'Documents': 0.0, 'possede': 0.0, 'sommes': 0.0, 'METEOR': 0.0, 'c': 0.0, 'dont': 0.0, 'jour': 0.0, 'significative': 0.0, 'lexical': 0.0, 'preserve': 0.0, 'n': 0.0, 'optimale': 0.0, 'communaute': 0.0, 'MedSLT': 0.0, 'offrant': 0.0, 'prediction': 0.0, 'syntaxiques': 0.0, 'point': 0.0, 'etudiant': 0.0, 'generation': 0.0, 'effet': 0.0, 'faite': 0.0, 'creee': 0.0, 'eux': 0.0, 'nouveau': 0.0, 'integrent': 0.0, 'demeure': 0.0, 'neologismes': 0.0, 'adaptees': 0.0, 'textuelle': 0.0, 'ni': 0.0, 'limitee': 0.0, 'demontre': 0.0, 'morphologique': 0.0, 'considerons': 0.0, 'reformuler': 0.0, 'BLEU': 0.0, 'specifique': 0.0, 'favorisent': 0.0, 'adequation': 0.0, 'generaliste': 0.0, 'ci': 0.0, 'axes': 0.0, 'heuristiques': 0.0, 'ebauche': 0.0, 'valuee': 0.0, 'tables': 0.0, 'estime': 0.0, 'associant': 0.0, 'scenario': 0.0, 'mesurees': 0.0, 'tandis': 0.0, 'moins': 0.0, 'comme': 0.0, 'definition': 0.0, 'Translate': 0.0, 'fonctionne': 0.0, 'attribue': 0.0, 'obtenus': 0.0, 'enregistres': 0.0, 'impact': -0.0, 'terminons': 0.0, 'ressources': 0.0, 'reconstruit': 0.0, 'spontanes': 0.0, 'Paillard': 0.0, 'avantages': 0.0, 'conventions': 0.0, 'maniere': 0.0, 'pipeline': 0.0, 'besoins': 0.0, 'toutefois': 0.0, 'criteres': 0.0, 'haute': 0.0, 'protocole': 0.0, 'inscrit': 0.0, 'fonctionnement': 0.0, 'vocabulaire': 0.0, 'satisfaisante': 0.0, 'bilingue': 0.0, 'continu': 0.0, 'nombreux': 0.0, 'pourraient': 0.0, 'occurrences': 0.0, 'parti': 0.0, 'description': 0.0, 'pouvait': 0.0, 'connu': 0.0, 'desordres': 0.0, 'interpolees': 0.0, 'resume': 0.0, 'quot': -0.0, 'ma': 0.0, 'decouvert': 0.0, 'consistait': 0.0, 'deterministes': 0.0, 'aident': 0.0, 'Grenoble': 0.0, 'chinois': 0.0, 'linguistiques': 0.0, 'ordinateur': 0.0, 'liste': 0.005378652872456286, 'adaptation': 0.0, 'salutaire': 0.0, 'entrees': 0.0, 'critiquee': 0.0, 'interlingue': 0.0, 'consequences': 0.0, 'direction': 0.0, 'theories': 0.0, 'court': 0.0, 'RALI': 0.0, 'eventuellement': 0.0, 'interlocuteur': 0.0, 'N': 0.0, 'aborde': 0.0, 'potentiele': 0.0, 'guider': 0.0, 'alternative': 0.005378652872456286, 'acceleration': 0.0, 'analogie': 0.0, 'excellente': 0.0, 'coreference': 0.0, 'minorite': 0.0, 'separation': 0.0, 'interessantes': 0.0, 'permet': 0.0, 'fait': 0.0, 'liees': 0.0, 'developper': 0.0, 'sens': 0.0, 'Sens': 0.0, 'extrayant': 0.0, 'service': 0.0, 'prototype': 0.0, 'che': -0.0, 'raisonnable': 0.0, 'probabilistes': 0.0, 'existence': 0.0, 'economiques': 0.0, 'choisir': 0.0, 'Europarl': 0.0, 'consequence': 0.0, 'neammoins': 0.0, 'originalite': 0.0, 'gestion': 0.0, 'linguistes': 0.0, 'Its': 0.0, 'definitoires': 0.0, 'phrase': 0.005378652872456286, 'u': 0.0, 'duplications': 0.0, 'met': 0.0, 'modele': 0.0, 'regard': 0.0, 'tels': 0.0, 'revise': 0.0, 'recherches': 0.0, 'construit': 0.0, 'tentant': 0.0, 'morphologiquement': 0.0, 'phrastiques': 0.0, 'temporelles': 0.0, 'Internet': 0.0, 'noms': 0.0, 'objet': 0.0, 'collocation': 0.0, 'implantation': 0.0, 'generale': 0.0, 'Proceedings': 0.0, 'autre': 0.0, 'polarisees': 0.0, 'heurte': 0.0, 'et': -0.0025908776987359867, 'reutilisation': 0.0, 'se': 0.005378652872456286, 'derniere': 0.0, 'causales': 0.0, 'abstrait': 0.0, 'semble': 0.0, 'pose': 0.0, 'Avec': 0.0, 'Alors': 0.0, 'annotes': 0.0, 'present': 0.0, 'operatoire': 0.0, 'contribue': 0.0, 'Editing': 0.0, 'seule': 0.0, 'definitions': 0.0, 'competence': 0.0, 'OCR': 0.0, 'identifier': 0.0, 'choix': 0.0, 'disponibles': 0.0, 'Inversement': 0.0, 'bruitee': 0.0, 'terminologie': 0.0, 'utilisable': 0.0, 'verifier': 0.010757305744912573, 'monolingues': 0.0, 'prenons': -0.0, 'facettes': 0.0, 'donnent': 0.0, 'OpenNMT': 0.0, 'methodologie': 0.0, 'couverture': 0.0, 'edite': 0.0, 'niveaux': 0.0, 'syntagmes': 0.0, 'etudes': 0.0, 'points': 0.0, 'E': 0.0, 'problematique': 0.0, 'basant': 0.0, 'formule': 0.0, 'presentons': 0.0, 'sation': 0.0, 'predications': 0.0, 'moteurs': 0.0, 'developpe': 0.0, 'evaluees': 0.0, 'tant': 0.0, 'jusque': 0.0, 'formalisation': 0.0, 'precision': 0.0, 'experimentaux': 0.0, 'brutes': 0.0, 'pret': 0.0, 'A': 0.005378652872456286, 'experiences': 0.0, 'venant': 0.0, 'voie': 0.0, 'reconnaissance': 0.0, 'pertinentes': 0.0, 'composes': 0.0, 'WCE': 0.0, 'profond': 0.0, 'annotons': 0.0, 'guidee': 0.0, 'volee': 0.0, 'il': -1.5727192317814462e-05, 'TAS': 0.0, 'declencher': 0.0, 'C': 0.0, 'TAL': 0.0, 'boursiers': 0.0, 'symetriques': 0.0, 'afin': -0.0, 'prend': 0.0, 'demande': 0.0, 'thematique': 0.0, 'syntaxiquement': 0.0, 'comparant': 0.0, 'algorithme': 0.0, 'grandes': 0.0, 'Xiamen': 0.0, 'idoine': 0.0, 'reelle': 0.0, 'candidates': 0.0, 'post': 0.0, 'souhaitons': -0.0, 'chacune': 0.0, 'depit': 0.0, 'realisateurs': 0.0, 'donnees': -0.0, 'utilises': 0.0, 'considerant': 0.0, 'aires': 0.0, 'temps': 0.0, 'analyseur': 0.0, 'ssees': 0.0, 'textuelles': 0.0, 'regles': 0.0, 'motives': 0.0, 'mitiges': 0.0, 'organisations': 0.0, 'strategie': 0.0, 'couplage': 0.0, 'robustes': 0.0, 'CESTA': 0.0, 'referents': 0.0, 'produites': 0.0, 'derivation': 0.0, 'selon': 0.0, 'frequences': 0.0, 'valeur': 0.0, 'rapide': 0.0, 'distingue': 0.0, 'je': 0.0, 'incrementale': 0.0, 'leWeb': 0.0, 'mal': 0.0, 'heterogeneite': 0.0, 'associee': 0.0, 'combine': 0.0, 'affichant': 0.0, 'cinq': 0.0, 'dernieres': 0.0, 'rythment': 0.0, 'estimer': 0.0, 'utilisent': 0.0, 'construites': 0.0, 'autres': 0.0, 'traduc': 0.0, 'communications': 0.0, 'issue': 0.0, 'question': 0.0, 'pas': 0.0, 'interesserons': 0.0, 'F': 0.0, 'reduction': 0.0, 'Suisse': 0.0, 'saut': 0.0, 'grande': 0.005378652872456286, 'utilite': 0.0, 'communiques': 0.0, 'vraisemblance': 0.0, 'dictionnaire': 0.0, 'ULC': 0.0, 'terminologique': 0.0, 'MHV': 0.0, 'detection': 0.0, 'contrastive': 0.0, 'commerciale': 0.0, 'manuellement': 0.0, 'mapping': 0.0, 'specifiquement': 0.0, 'confiance': 0.0, 'travail': 0.005378652872456286, 'basent': 0.005378652872456286, 'ACCEPT': 0.0, 'matique': 0.0, 'coherent': 0.0, 'formalismes': 0.0, 'supplementaires': 0.0, 'requete': 0.0, 'fort': 0.005378652872456286, 'analyse': -0.0, 'ameliorations': 0.0, 'voyellation': 0.0, 'Recursion': 0.0, 'defi': 0.0, 'largement': 0.0, 'europeen': 0.0, 'importante': 0.0, 'avocat': 0.0, 'intensifie': 0.0, 'identite': 0.0, 'considerees': 0.0, 'operation': 0.0, 'traiter': 0.0, 'indiquent': 0.0, 'semantique': 0.0, 'plusieurs': 0.0, 'paraphrases': 0.0, 'Les': 0.0, 'Deux': 0.0, 'seulement': -0.0, 'tient': 0.0, 'paraissent': 0.0, 'deuxieme': 0.0, 'existant': 0.0, 'quantifions': 0.0, 'portable': 0.0, 'ex': 0.0, 'PE': 0.0, 'grandement': 0.0, 'disposer': 0.0, 'comparables': 0.0, 'production': 0.0, 'differentes': 0.0, 'croyances': 0.0, 'occurrence': 0.0, 'evaluer': -0.0, 'concernent': 0.0, 'traductionnelles': 0.0, 'primaire': 0.0, 'actuels': 0.0, 'stricte': 0.0, 'pertinent': 0.0, 'decrit': 0.0, 'predication': 0.0, 'lexicales': 0.0, 'rechercher': 0.0, 'heterogenes': 0.0, 'permis': 0.0, 'suggere': 0.0, 'co': 0.0, 'vue': 0.0, 'annotations': 0.0, 'distinguer': 0.0, 'moderne': 0.0, 'dependances': 0.0, 'implique': 0.0, 'phrastique': 0.0, 'Lepage': 0.0, 'dialogue': 0.0, 'nouvel': 0.0, 'art': 0.0, 'continus': 0.0, 'temoin': 0.0, 'montrant': 0.0, 'domaines': 0.0, 'montrons': 0.0, 'similarite': 0.0, 'distinguent': 0.0, 'coherente': 0.0, 'concept': 0.0, 'generee': 0.0, 'inferieur': 0.0, 'approche': -0.0, 'comportant': 0.0, 'servir': 0.0, 'oracles': 0.0, 'edites': 0.0, 'textes': 0.010757305744912573, 'existante': 0.0, 'pourcentages': 0.0, 'consister': 0.0, 'possibles': 0.0, 'taux': 0.0, 'cycle': 0.0, 'limite': 0.0, 'notre': 0.0, 'avoir': -0.0, 'EDGAR': 0.0, 'assez': 0.0, 'genre': 0.0, 'extraits': 0.0, 'elle': 0.0, 'compte': -0.0, 'Principes': 0.0, 'instances': 0.0, 'IPTC': 0.0, 'Moses': 0.0, 'Aucune': 0.0, 'decrits': 0.0, 'place': 0.0, 'individualiser': 0.0, 'passons': 0.0, 'pre': 0.0, 'scores': 0.0, 'Parliament': 0.0, 'superieur': 0.0, 'mesurons': 0.0, 'beaucoup': 0.0, 'menees': 0.0, 'Powers': 0.0, 'cependant': 0.0, 'fin': 0.0, 'complet': 0.0, 'XMU': 0.0, 'seules': 0.0, 'electroniques': 0.0, 'obtenue': 0.0, 'aguacate': 0.0, 'envisager': 0.0, 'principales': 0.0, 'sequences': 0.0, 'comment': 0.0, 'erreurs': 0.0, 'avancees': 0.0, 'effort': 0.0, 'profondement': 0.0, 'transfert': -0.0, 'detaillons': 0.0, 'Apres': 0.0, 'mots': 0.0, 'inspiree': 0.0, 'teuses': 0.0, 'WMT': 0.0, 'contexte': 0.0, 'Technolangue': 0.0, 'Babelfish': 0.0, 'repandue': 0.0, 'jargon': 0.0, 'reliant': 0.0, 'documents': 0.0, 'generiques': 0.0, 'forums': 0.0, 'etend': 0.0, 'perspectives': 0.0, 'vaste': 0.0, 'modifier': 0.0, 'artificielle': 0.0, 'obtenues': 0.0, 'De': 0.0, 'Web': 0.0, 'processus': 0.0, 'Parametres': 0.0, 'incluent': 0.0, 'L': -0.0, 'gr': 0.0, 'aper': 0.0, 'ches': 0.0, 'objectifs': 0.0, 'independante': 0.0, 'premiere': 0.0, 'beneficier': 0.0, 'differences': 0.0, 'constituent': 0.0, 'longues': 0.0, 'originale': 0.0, 'parallele': 0.0, 'premiers': 0.0, 'classification': 0.0, 'meme': 0.0, 'adapter': 0.0, 'tenu': 0.0, 'Talks': 0.0, 'similaires': 0.0, 'prouve': 0.0, 'ench': 0.0, 'extraction': 0.0, 'impliquees': -0.0, 'langage': 0.0, 'taille': 0.0, 'alternance': 0.0, 'fragilite': 0.0, 'disponible': 0.0, 'al': 0.0, 'plus': -3.1454384635628924e-05, 'utilisees': 0.0, 'repondu': 0.0, 'anglaise': 0.0, 'TAP': 0.0, 'contextuelles': 0.0, 'cible': 0.0, 'correctement': 0.0, 'test': 0.0, 'TALN': 0.0, 'faisant': 0.005378652872456286, 'ideale': 0.0, 'filtre': 0.0, 'association': 0.0, 'presentees': 0.0, 'attire': 0.0, 'deja': 0.0, 'valuation': 0.0, 'representees': 0.0, 'reseaux': 0.0, 'annees': 0.0, 'generales': 0.005378652872456286, 'malgre': 0.0, 'directement': 0.0, 'notion': 0.0, 'aussi': 0.0, 'universite': 0.0, 'paragraphe': 0.005378652872456286, 'auteur': 0.0, 'modeles': 0.0, 'semantiques': 0.005378652872456286, 'leur': 0.0, 'R': 0.0, 'jugees': 0.0, 'services': 0.0, 'provenant': 0.0, 'dispose': 0.0, 'stylistiques': 0.0, 'ner': 0.0, 'sembler': 0.0, 'reponse': 0.0, 'rendre': 0.0, 'automatiser': 0.0, 'realises': 0.0, 'Ainsi': 0.0, 'fournissent': 0.0, 'font': -0.0, 'multi': 0.005378652872456286, 'mettons': 0.0, 'adequate': 0.0, 'bonne': 0.0, 'generique': 0.0, 'transcriptions': 0.0, 'Emea': 0.0, 'Texte': 0.0, 'admettant': 0.0, 'une': -0.005146275421668746, 'vues': 0.0, 'creer': 0.0, 'precise': 0.0, 'exemple': 0.0, 'graphes': 0.0, 'Confidence': 0.0, 'Ce': 0.0, 'souvent': 0.0, 'meilleures': 0.0, 'atlas': 0.0, 'amelioration': 0.0, 'generateur': 0.0, 'etc': 0.0, 'internationales': 0.0, 'experimentations': 0.0, 'evaluation': 0.0, 'decrivons': 0.0, 'langages': 0.0, 'mentionnent': 0.0, 'parce': 0.0, 'sensible': 0.0, 'theorie': 0.0, 'tester': 0.0, 'devenu': 0.0, 'verificateur': 0.0, 'developpees': 0.0, 'qualitatif': 0.0, 'surface': 0.0, 'mene': 0.0, 'utilisateurs': 0.0, 'parties': 0.0, 'uniquement': 0.0, 'Unites': 0.0, 'parametres': -0.0, 'requetes': 0.0, 'syntaxique': 0.0, 'acquerir': 0.0, 'demontraient': 0.0, 'applications': 0.0, 'oeuvre': 0.0, 'entieres': 0.0, 'OCRisation': 0.0, 'hypotheses': 0.0, 'possible': -1.5727192317814462e-05, 'fondee': 0.0, 'naturelle': 0.0, 'action': 0.0, 'litteraire': 0.0, 'toutes': 0.0, 'traductions': 0.0, 'flexibles': 0.0, 'source': 0.0, 'orales': 0.0, 'grandissant': 0.0, 'hoc': 0.0, 'surfacique': 0.0, 'consequent': 0.0, 'reference': 0.0, 'hybrides': 0.0, 'multicodage': 0.0, 'adaptee': 0.0, 'Contextes': 0.0, 'normes': 0.005378652872456286, 'intervention': 0.0, 'l': 0.0, 'nombreuses': 0.0, 'transitivite': 0.0, 'conference': 0.0, 'trisee': 0.0, 'ordre': 0.0, 'discriminant': 0.0, 'envisagees': 0.0, 'frames': 0.0, 'composite': 0.0, 'hauteur': 0.0, 'lorsque': -0.0, 'loin': 0.0, 'trancher': -0.0, 'situation': 0.0, 'validite': 0.0, 'appliquent': 0.0, 'configurations': 0.0, 'classique': -0.0, 'aide': 0.0, 'etudions': 0.0, 'disparate': 0.0, 'tel': 0.0, 'campagne': 0.0, 'participants': 0.0, 'personnels': 0.0, 'donc': 0.0, 'entree': 0.0, 'interessons': 0.0, 'campagnes': 0.0, 'enrichir': 0.0, 'accessible': 0.0, 'modelisation': 0.0, 'plateforme': 0.0, 'efficacite': 0.0, 'parole': 0.0, 'collecte': 0.0, 'discours': 0.0, 'texte': 0.005378652872456286, 'definitoire': 0.0, 'compromis': 0.0, 'du': 0.010757305744912573, 'programmation': 0.0, 'adaptant': 0.0, 'observe': 0.0, 'respectueuse': 0.0, 'conduites': 0.0, 'suivre': 0.0, 'notamment': 0.0, 'implementation': 0.0, 'formee': 0.0, 'ecriture': 0.0, 'D': 0.0, 'zones': 0.0, 'equivalents': 0.0, 'eme': 0.0, 'combinant': 0.0, 'Theorie': 0.0, 'TransSearch': 0.0, 'procedes': 0.0, 'selection': 0.0, 'nouvelles': 0.0, 'permettant': 0.005378652872456286, 'variante': 0.0, 'codification': 0.0, 'proposer': -0.0, 'partie': 0.0, 'idee': 0.0, 'premier': 0.0, 'presque': 0.0, 'classees': 0.0, 'ici': 0.005378652872456286, 'travaux': 0.0, 'faibles': 0.0, 'cette': -0.0, 'reste': 0.0, 'seconde': 0.0, 'utilise': 0.0, 'examine': 0.0, 'de': -0.05068513708219844, 'proposons': -1.5727192317814462e-05, 'parsage': 0.0, 'LATL': 0.0, 'donne': 0.005378652872456286, 'moteur': 0.0, 'facilement': 0.0, 'nominaux': 0.0, 'reviseurs': 0.0, 'article': -0.0, 'introduit': 0.0, 'fa': 0.0, 'Bien': 0.0, 'contraire': 0.0, 'trop': 0.0, 'verification': 0.005378652872456286, 'applicatif': 0.0, 'lorsqu': 0.0, 'sous': 0.005378652872456286, 'construits': 0.0, 'nous': -0.0, 'avocado': 0.0, 'focalisant': 0.0, 'familiere': 0.0, 'porter': 0.0, 'volume': -0.0, 'incertitudes': 0.0, 'utilisation': 0.0, 'lemmatisation': 0.0, 'exterieures': 0.0, 'chercheurs': 0.0, 'Lardilleux': 0.0, 'style': 0.010757305744912573, 'alignes': 0.0, 'brievement': 0.0, 'p': 0.0, 'longueur': 0.0, 'finis': 0.0, 'operant': 0.0, 'vise': 0.0, 'architectures': 0.0, 'generees': 0.0, 'independantes': 0.0, 'naturels': 0.0, 'termes': 0.0, 'analysees': 0.0, 'outre': 0.0, 'precedentes': 0.0, 'automatique': -0.0, 'chacun': 0.0, 'essai': 0.0, 'remplacement': 0.0, 'alors': 0.0, 'evalue': 0.0, 'generalisation': 0.0, 'Fips': 0.0, 'anbn': 0.0, 'certains': 0.0, 'certaines': 0.0, 'donnant': 0.0, 'table': 0.0, 'rapport': 0.0, 'Traduction': 0.0, 'masses': 0.0, 'computationnelles': 0.0, 'adapte': 0.0, 'resultant': 0.0, 'obligatoires': 0.0, 'sa': 0.0, 'utiliser': 0.0, 'forces': 0.0, 'presenter': 0.0, 'Il': 0.0, 'potentiel': 0.0, 'hors': 0.0, 'principalement': 0.0, 'degrade': 0.0, 'restructuration': 0.0, 'contigu': 0.0, 'domaine': 0.0, 'besoin': 0.0, 'cours': 0.0, 'particulierement': 0.0, 'echappe': 0.0, 'offrirons': 0.0, 'Notre': 0.0, 'succes': 0.0, 'reduire': 0.0, 'proposee': 0.0, 'reecriture': 0.0, 'Nasiruddin': 0.0, 'recherchee': 0.0, 'Comme': 0.0, 'numerises': 0.0, 'existe': 0.0, 'module': 0.0, 'necessite': 0.0, 'essentielles': 0.0, 'concerne': 0.0, 'premieres': 0.0, 'proprietes': 0.0, 'produits': 0.0, 'celles': 0.0, 'con': 0.0, 'verrou': 0.0, 'comportement': 0.0, 'concordancier': 0.0, 'categorisation': 0.0, 'japonais': 0.0, 'methodes': 0.005378652872456286, 'paire': 0.0, 'critere': 0.0, 'methodologies': 0.0, 'attention': 0.0, 'locale': 0.0, 'engendre': 0.0, 'Je': 0.0, 'Nos': 0.0, 'exprimees': 0.0, 'collaborative': 0.0, 'calcul': 0.0, 'aujourde': 0.0, 'mais': -0.0, 'tolerance': 0.005378652872456286, 'TAO': 0.0, 'CRC': 0.0, 'destinees': 0.0, 'extension': 0.0, 'profils': 0.0, 'pertinence': 0.0, 'memoires': 0.0, 'LIG': 0.0, 'Estimation': 0.0, 'correctes': 0.0, 'lien': 0.0, 'connaissances': 0.0, 'prendre': 0.0, 'plan': 0.0, 'particularisation': 0.0, 'tes': 0.0, 'difficultes': 0.0, 'unites': 0.0, 'emblee': 0.0, 'series': 0.0, 'hypothese': 0.0, 'homme': 0.0, 'methode': -1.5727192317814462e-05, 'entretenant': 0.0, 'memoire': 0.0, 'visant': 0.0, 'different': 0.0, 'concentree': 0.0, 'Connaissances': 0.0, 'egalement': -0.0, 'plate': 0.0, 'celui': -0.0, 'outils': 0.0, 'connues': 0.0, 'centrale': 0.0, 'prefixe': 0.0, 'quantite': -0.0, 'cas': 0.0, 'allant': 0.0, 'consideree': 0.0, 'completes': 0.0, 'panel': 0.0, 'discutons': 0.0, 'suggerant': 0.0, 'questions': 0.0, 'qualite': 0.0, 'etude': 0.0, 'etablir': 0.0, 'rendue': 0.0, 'intermediaires': 0.0, 'relatives': 0.0, 'ajustements': 0.0, 'Ils': 0.0, 'proximite': -0.0, 'offre': 0.0, 'pluriculturels': 0.0, 'Enfin': -0.0, 'nommees': 0.0, 'contrainte': 0.0, 'minimal': 0.0, 'reel': 0.0, 'simple': 0.0, 'synonymie': 0.0, 'ont': 0.0, 'compenser': 0.0, 'Anymalign': 0.0, 'exact': 0.0, 'rarete': 0.0, 'etroit': 0.0, 'augmentation': 0.0, 'pronominales': 0.0, 'prometteuse': 0.0, 'extensive': 0.0, 'pistes': 0.0, 'inconnus': 0.0, 'complexite': 0.0, 'mecanisme': 0.0, 'puis': 0.0, 'passages': 0.0, 'Google': 0.0, 'issus': 0.0, 'SemCor': 0.0, 'considere': 0.0, 'context': 0.0, 'plupart': 0.0, 'petit': 0.0, 'prefixees': 0.0, 'litterale': 0.0, 'experience': 0.0, 'performances': 0.0, 'editions': 0.0, 'allemand': 0.0, 'recycler': 0.0, 'gains': 0.0, 'caracteres': 0.0, 'selectionnes': 0.0, 'idiomatique': 0.0, 'ANR': 0.0, 'biunivoques': 0.0, 'utilisee': 0.0, 'associees': 0.0, 'focalisons': 0.0, 'preferee': 0.0, 'precautions': 0.0, 'granularite': 0.0, 'Content': 0.0, 'complement': 0.0, 'modaux': 0.0, 'probleme': -0.0, 'librement': 0.0, 'train': 0.0, 'La': 0.0, 'phenomenes': 0.0, 'cesse': 0.0, 'textuels': 0.0, 'specialites': 0.0, 'gros': 0.0, 'decompte': 0.0, 'correspondant': 0.0, 'ameliorer': 0.0, 'original': 0.0, 'binaire': 0.0, 'invariablement': 0.0, 'objets': 0.0, 'significatif': 0.0, 'variables': 0.0, 'polysemiques': 0.0, 'proche': 0.0, 'redacteur': 0.0, 'que': 0.0, 'ensuite': 0.0, 'relativement': 0.0, 'presence': 0.0, 'forme': 0.005378652872456286, 'au': -1.5727192317814462e-05, 's': -0.0, 'objectif': 0.0, 'robuste': 0.0, 'logiciel': 0.0, 'consideres': 0.0, 'explicitement': 0.0, 'edition': 0.0, 'seul': 0.0, 'decennie': 0.0, 'dediees': 0.0, 'abstraite': 0.0, 'decodage': 0.0, 'prise': 0.0, 'evaluons': 0.0, 'NIST': 0.0, 'Compte': 0.0, 'representatifs': 0.0, 'Sur': 0.0, 'larges': 0.0, 'dans': 0.021514611489825145, 'integrer': 0.0, 'connue': 0.0, 'interferences': 0.0, 'enquete': 0.0, 'reformulons': 0.0, 'notable': 0.0, 'transmettent': 0.0, 'chaque': 0.0, 'hierarchiques': 0.0, 'mettent': 0.0, 'meilleur': -0.0, 'linguistique': 0.0, 'erronees': 0.0, 'lire': 0.0, 'systematique': 0.0, 'Certains': 0.0, 'general': 0.0, 'montrent': 0.0, 'clustering': 0.0, 'apprendre': 0.0, 'accro': 0.0, 'explorer': 0.0, 'son': 0.0, 'detaille': 0.0, 'pouvoir': 0.0, 'translitteration': 0.0, 'represente': 0.0, 'atelier': 0.0, 'faites': 0.0, 'soit': 0.0, 'aptitude': 0.0, 'estimation': 0.0, 'enonces': 0.0, 'volumes': 0.0, 'grammaires': 0.0, 'auteurs': 0.0, 'Technologie': 0.0, 'faire': 0.0, 'influence': 0.0, 'a': -3.1454384635628924e-05, 'Dans': -0.0, 'Recemment': 0.0, 'contr': 0.0, 'constituants': 0.0, 'necessitant': 0.0, 'sein': 0.0, 'pretent': 0.0, 'riche': 0.0, 'produire': 0.0, 'favori': 0.0, 'decris': 0.0, 'grain': 0.0, 't': -0.0, 'metriques': 0.0, 'totalement': 0.0, 'comparaison': 0.005378652872456286, 'recente': 0.0, 'ses': 0.0, 'isotopies': 0.005378652872456286, 'avant': 0.0, 'pourra': 0.0, 'preferences': 0.0, 'relation': 0.0, 'ilite': 0.0, 'contenus': 0.0, 'resultats': 0.0, 'courriers': 0.0, 'lies': 0.0, 'specifiques': 0.0, 'systemes': -0.0, 'occupent': 0.0, 'interlingua': 0.0, 'utilisant': 0.0, 'Stroppa': 0.0, 'litteralite': 0.005378652872456286, 'developpons': 0.0, 'Pak': 0.0, 'utilisables': 0.0, 'litterature': 0.0, 'rapidement': 0.0, 'transcription': 0.0, 'assistee': 0.0, 'outil': 0.0, 'architecture': 0.0, 'propose': 0.0, 'recentes': 0.0, 'traduits': 0.0, 'ne': -0.0, 'inspection': 0.0, 'Agency': 0.0, 'Se': 0.0, 'lexiques': 0.0, 'definissons': 0.0, 'metrique': 0.0, 'lexique': 0.0, 'types': 0.0, 'ceux': 0.0, 'constructions': 0.0, 'derniers': 0.0, 'latentes': 0.0, 'necessairement': 0.0, 'presentation': 0.0, 'significatives': 0.0, 'groupes': 0.0, 'application': 0.0, 'classiques': 0.0, 'sources': 0.0, 'sites': 0.0, 'regroupement': 0.0, 'encore': 0.0, 'modulation': 0.0, 'nature': 0.0, 'machine': 0.0, 'lexico': 0.0, 'traducteurs': 0.0, 'extra': 0.0, 'optique': 0.0, 'donnait': 0.0, 'utilisons': 0.0, 'Anglais': 0.0, 'participation': 0.0, 'principe': 0.0, 'unite': 0.0, 'information': 0.0, 'jamais': 0.0, 'aient': 0.0, 'RAP': 0.0, 'important': 0.0, 'issu': 0.0, 'Neufs': 0.0, 'sujet': 0.0, 'ailleurs': 0.0, 'encourageants': 0.0, 'artificiel': 0.0, 'agissant': 0.0, 'par': -0.0, 'verifie': 0.0, 'expliquons': 0.0, 'exploitation': 0.0, 'programmes': 0.0, 'ces': -0.0, 'universelles': 0.0, 'verbe': 0.0, 'categories': 0.0, 'proposes': 0.0, 'comparee': 0.0, 'prometteurs': 0.0, 'consacres': 0.0, 'Richard': 0.0, 'posteriori': 0.0, 'dresse': 0.0, 'engin': 0.0, 'Etant': 0.0, 'interface': 0.0, 'donnons': 0.0, 'Maps': 0.0, 'complexe': 0.0, 'ayant': 0.0, 'etrangere': 0.0, 'dependance': 0.0, 'eloignee': 0.0, 'TS': 0.0, 'aligner': 0.0, 'renforcer': 0.0, 'multiple': 0.0, 'definir': 0.0, 'extrayons': 0.0, 'trois': 0.0, 'pointer': 0.0, 'systeme': 0.0, 'construisons': 0.0, 'elles': 0.005378652872456286, 'compositionnalite': 0.0, 'baisse': 0.0, 'initialement': 0.0, 'sachant': 0.0, 'TransCheck': 0.0, 'Ces': 0.0, 'contenant': 0.0, 'permettent': 0.0, 'aune': 0.0, 'pleinement': 0.0, 'verbes': 0.0, 'portera': 0.0, 'professionnel': 0.0, 'restent': 0.0, 'Cet': 0.0, 'moyenne': 0.0, 'multiples': 0.0, 'Par': 0.0, 'existent': 0.0, 'phrases': 0.0, 'deployes': 0.0, 'solution': -0.0, 'gain': 0.0, 'Ensuite': 0.0, 'libre': 0.0, 'relative': 0.0, 'demonstration': 0.0}\n"
          ],
          "name": "stdout"
        }
      ]
    },
    {
      "cell_type": "code",
      "metadata": {
        "id": "uT_LBiVVpOwu"
      },
      "source": [
        "def score_sentences(doc):\n",
        "    total_score = []\n",
        "    for index in range(0,len(doc)):\n",
        "        tfidf = TFIDF(TF(list_numOfWords[index], sentences[index]), idf)\n",
        "        score = 0\n",
        "        by_word = sentences[index].split(\" \")\n",
        "        for mot in by_word:\n",
        "            score = score + tfidf[mot]\n",
        "        dic = {'sentence': sentence, 'score': score}\n",
        "        total_score.append(dic)\n",
        "    return total_score"
      ],
      "execution_count": 38,
      "outputs": []
    },
    {
      "cell_type": "code",
      "metadata": {
        "id": "kKqNhJQfpBqI"
      },
      "source": [
        "def resume(sentence_score):\n",
        "    count = 0\n",
        "    resume = []\n",
        "    for dico in sentence_score:\n",
        "        count += dico['score']\n",
        "    moyenne = count / len(sentence_score)\n",
        "    for dico in sentence_score:\n",
        "        if dico['score']>= 0.9*moyenne:\n",
        "            resume.append(dico['sentence']) \n",
        "    resume = \". \".join(resume)\n",
        "    return resume"
      ],
      "execution_count": 39,
      "outputs": []
    },
    {
      "cell_type": "code",
      "metadata": {
        "colab": {
          "base_uri": "https://localhost:8080/",
          "height": 120
        },
        "id": "otK09ihM0zt9",
        "outputId": "14c301ae-c2d7-45b6-ccf6-ecbe7400ce47"
      },
      "source": [
        "score = score_sentences(text)\n",
        "resume(score)"
      ],
      "execution_count": 40,
      "outputs": [
        {
          "output_type": "execute_result",
          "data": {
            "application/vnd.google.colaboratory.intrinsic+json": {
              "type": "string"
            },
            "text/plain": [
              "'   L apprentissage par transfert est une solution au probleme de le apprentissage de systemes de traduction automatique neuronaux pour des paires de langues peu dotees     Dans cet article  nous proposons une analyse de cette methode     Nous souhaitons evaluer le impact de la quantite de donnees et celui de la proximite des langues impliquees pour obtenir le meilleur transfert possible     Nous prenons en compte ces deux parametres non seulement pour une t che de traduction  quot classique quot  mais egalement lorsque les corpus de donnees font defaut     Enfin  il s agit de proposer une approche ou volume de donnees et proximite des langues sont combinees afin de ne plus avoir a trancher entre ces deux elements       .    L apprentissage par transfert est une solution au probleme de le apprentissage de systemes de traduction automatique neuronaux pour des paires de langues peu dotees     Dans cet article  nous proposons une analyse de cette methode     Nous souhaitons evaluer le impact de la quantite de donnees et celui de la proximite des langues impliquees pour obtenir le meilleur transfert possible     Nous prenons en compte ces deux parametres non seulement pour une t che de traduction  quot classique quot  mais egalement lorsque les corpus de donnees font defaut     Enfin  il s agit de proposer une approche ou volume de donnees et proximite des langues sont combinees afin de ne plus avoir a trancher entre ces deux elements       .    L apprentissage par transfert est une solution au probleme de le apprentissage de systemes de traduction automatique neuronaux pour des paires de langues peu dotees     Dans cet article  nous proposons une analyse de cette methode     Nous souhaitons evaluer le impact de la quantite de donnees et celui de la proximite des langues impliquees pour obtenir le meilleur transfert possible     Nous prenons en compte ces deux parametres non seulement pour une t che de traduction  quot classique quot  mais egalement lorsque les corpus de donnees font defaut     Enfin  il s agit de proposer une approche ou volume de donnees et proximite des langues sont combinees afin de ne plus avoir a trancher entre ces deux elements       .    L apprentissage par transfert est une solution au probleme de le apprentissage de systemes de traduction automatique neuronaux pour des paires de langues peu dotees     Dans cet article  nous proposons une analyse de cette methode     Nous souhaitons evaluer le impact de la quantite de donnees et celui de la proximite des langues impliquees pour obtenir le meilleur transfert possible     Nous prenons en compte ces deux parametres non seulement pour une t che de traduction  quot classique quot  mais egalement lorsque les corpus de donnees font defaut     Enfin  il s agit de proposer une approche ou volume de donnees et proximite des langues sont combinees afin de ne plus avoir a trancher entre ces deux elements       .    L apprentissage par transfert est une solution au probleme de le apprentissage de systemes de traduction automatique neuronaux pour des paires de langues peu dotees     Dans cet article  nous proposons une analyse de cette methode     Nous souhaitons evaluer le impact de la quantite de donnees et celui de la proximite des langues impliquees pour obtenir le meilleur transfert possible     Nous prenons en compte ces deux parametres non seulement pour une t che de traduction  quot classique quot  mais egalement lorsque les corpus de donnees font defaut     Enfin  il s agit de proposer une approche ou volume de donnees et proximite des langues sont combinees afin de ne plus avoir a trancher entre ces deux elements       .    L apprentissage par transfert est une solution au probleme de le apprentissage de systemes de traduction automatique neuronaux pour des paires de langues peu dotees     Dans cet article  nous proposons une analyse de cette methode     Nous souhaitons evaluer le impact de la quantite de donnees et celui de la proximite des langues impliquees pour obtenir le meilleur transfert possible     Nous prenons en compte ces deux parametres non seulement pour une t che de traduction  quot classique quot  mais egalement lorsque les corpus de donnees font defaut     Enfin  il s agit de proposer une approche ou volume de donnees et proximite des langues sont combinees afin de ne plus avoir a trancher entre ces deux elements       .    L apprentissage par transfert est une solution au probleme de le apprentissage de systemes de traduction automatique neuronaux pour des paires de langues peu dotees     Dans cet article  nous proposons une analyse de cette methode     Nous souhaitons evaluer le impact de la quantite de donnees et celui de la proximite des langues impliquees pour obtenir le meilleur transfert possible     Nous prenons en compte ces deux parametres non seulement pour une t che de traduction  quot classique quot  mais egalement lorsque les corpus de donnees font defaut     Enfin  il s agit de proposer une approche ou volume de donnees et proximite des langues sont combinees afin de ne plus avoir a trancher entre ces deux elements       .    L apprentissage par transfert est une solution au probleme de le apprentissage de systemes de traduction automatique neuronaux pour des paires de langues peu dotees     Dans cet article  nous proposons une analyse de cette methode     Nous souhaitons evaluer le impact de la quantite de donnees et celui de la proximite des langues impliquees pour obtenir le meilleur transfert possible     Nous prenons en compte ces deux parametres non seulement pour une t che de traduction  quot classique quot  mais egalement lorsque les corpus de donnees font defaut     Enfin  il s agit de proposer une approche ou volume de donnees et proximite des langues sont combinees afin de ne plus avoir a trancher entre ces deux elements       .    L apprentissage par transfert est une solution au probleme de le apprentissage de systemes de traduction automatique neuronaux pour des paires de langues peu dotees     Dans cet article  nous proposons une analyse de cette methode     Nous souhaitons evaluer le impact de la quantite de donnees et celui de la proximite des langues impliquees pour obtenir le meilleur transfert possible     Nous prenons en compte ces deux parametres non seulement pour une t che de traduction  quot classique quot  mais egalement lorsque les corpus de donnees font defaut     Enfin  il s agit de proposer une approche ou volume de donnees et proximite des langues sont combinees afin de ne plus avoir a trancher entre ces deux elements       .    L apprentissage par transfert est une solution au probleme de le apprentissage de systemes de traduction automatique neuronaux pour des paires de langues peu dotees     Dans cet article  nous proposons une analyse de cette methode     Nous souhaitons evaluer le impact de la quantite de donnees et celui de la proximite des langues impliquees pour obtenir le meilleur transfert possible     Nous prenons en compte ces deux parametres non seulement pour une t che de traduction  quot classique quot  mais egalement lorsque les corpus de donnees font defaut     Enfin  il s agit de proposer une approche ou volume de donnees et proximite des langues sont combinees afin de ne plus avoir a trancher entre ces deux elements       .    L apprentissage par transfert est une solution au probleme de le apprentissage de systemes de traduction automatique neuronaux pour des paires de langues peu dotees     Dans cet article  nous proposons une analyse de cette methode     Nous souhaitons evaluer le impact de la quantite de donnees et celui de la proximite des langues impliquees pour obtenir le meilleur transfert possible     Nous prenons en compte ces deux parametres non seulement pour une t che de traduction  quot classique quot  mais egalement lorsque les corpus de donnees font defaut     Enfin  il s agit de proposer une approche ou volume de donnees et proximite des langues sont combinees afin de ne plus avoir a trancher entre ces deux elements       .    L apprentissage par transfert est une solution au probleme de le apprentissage de systemes de traduction automatique neuronaux pour des paires de langues peu dotees     Dans cet article  nous proposons une analyse de cette methode     Nous souhaitons evaluer le impact de la quantite de donnees et celui de la proximite des langues impliquees pour obtenir le meilleur transfert possible     Nous prenons en compte ces deux parametres non seulement pour une t che de traduction  quot classique quot  mais egalement lorsque les corpus de donnees font defaut     Enfin  il s agit de proposer une approche ou volume de donnees et proximite des langues sont combinees afin de ne plus avoir a trancher entre ces deux elements       .    L apprentissage par transfert est une solution au probleme de le apprentissage de systemes de traduction automatique neuronaux pour des paires de langues peu dotees     Dans cet article  nous proposons une analyse de cette methode     Nous souhaitons evaluer le impact de la quantite de donnees et celui de la proximite des langues impliquees pour obtenir le meilleur transfert possible     Nous prenons en compte ces deux parametres non seulement pour une t che de traduction  quot classique quot  mais egalement lorsque les corpus de donnees font defaut     Enfin  il s agit de proposer une approche ou volume de donnees et proximite des langues sont combinees afin de ne plus avoir a trancher entre ces deux elements       .    L apprentissage par transfert est une solution au probleme de le apprentissage de systemes de traduction automatique neuronaux pour des paires de langues peu dotees     Dans cet article  nous proposons une analyse de cette methode     Nous souhaitons evaluer le impact de la quantite de donnees et celui de la proximite des langues impliquees pour obtenir le meilleur transfert possible     Nous prenons en compte ces deux parametres non seulement pour une t che de traduction  quot classique quot  mais egalement lorsque les corpus de donnees font defaut     Enfin  il s agit de proposer une approche ou volume de donnees et proximite des langues sont combinees afin de ne plus avoir a trancher entre ces deux elements       .    L apprentissage par transfert est une solution au probleme de le apprentissage de systemes de traduction automatique neuronaux pour des paires de langues peu dotees     Dans cet article  nous proposons une analyse de cette methode     Nous souhaitons evaluer le impact de la quantite de donnees et celui de la proximite des langues impliquees pour obtenir le meilleur transfert possible     Nous prenons en compte ces deux parametres non seulement pour une t che de traduction  quot classique quot  mais egalement lorsque les corpus de donnees font defaut     Enfin  il s agit de proposer une approche ou volume de donnees et proximite des langues sont combinees afin de ne plus avoir a trancher entre ces deux elements       .    L apprentissage par transfert est une solution au probleme de le apprentissage de systemes de traduction automatique neuronaux pour des paires de langues peu dotees     Dans cet article  nous proposons une analyse de cette methode     Nous souhaitons evaluer le impact de la quantite de donnees et celui de la proximite des langues impliquees pour obtenir le meilleur transfert possible     Nous prenons en compte ces deux parametres non seulement pour une t che de traduction  quot classique quot  mais egalement lorsque les corpus de donnees font defaut     Enfin  il s agit de proposer une approche ou volume de donnees et proximite des langues sont combinees afin de ne plus avoir a trancher entre ces deux elements       .    L apprentissage par transfert est une solution au probleme de le apprentissage de systemes de traduction automatique neuronaux pour des paires de langues peu dotees     Dans cet article  nous proposons une analyse de cette methode     Nous souhaitons evaluer le impact de la quantite de donnees et celui de la proximite des langues impliquees pour obtenir le meilleur transfert possible     Nous prenons en compte ces deux parametres non seulement pour une t che de traduction  quot classique quot  mais egalement lorsque les corpus de donnees font defaut     Enfin  il s agit de proposer une approche ou volume de donnees et proximite des langues sont combinees afin de ne plus avoir a trancher entre ces deux elements       .    L apprentissage par transfert est une solution au probleme de le apprentissage de systemes de traduction automatique neuronaux pour des paires de langues peu dotees     Dans cet article  nous proposons une analyse de cette methode     Nous souhaitons evaluer le impact de la quantite de donnees et celui de la proximite des langues impliquees pour obtenir le meilleur transfert possible     Nous prenons en compte ces deux parametres non seulement pour une t che de traduction  quot classique quot  mais egalement lorsque les corpus de donnees font defaut     Enfin  il s agit de proposer une approche ou volume de donnees et proximite des langues sont combinees afin de ne plus avoir a trancher entre ces deux elements       .    L apprentissage par transfert est une solution au probleme de le apprentissage de systemes de traduction automatique neuronaux pour des paires de langues peu dotees     Dans cet article  nous proposons une analyse de cette methode     Nous souhaitons evaluer le impact de la quantite de donnees et celui de la proximite des langues impliquees pour obtenir le meilleur transfert possible     Nous prenons en compte ces deux parametres non seulement pour une t che de traduction  quot classique quot  mais egalement lorsque les corpus de donnees font defaut     Enfin  il s agit de proposer une approche ou volume de donnees et proximite des langues sont combinees afin de ne plus avoir a trancher entre ces deux elements       .    L apprentissage par transfert est une solution au probleme de le apprentissage de systemes de traduction automatique neuronaux pour des paires de langues peu dotees     Dans cet article  nous proposons une analyse de cette methode     Nous souhaitons evaluer le impact de la quantite de donnees et celui de la proximite des langues impliquees pour obtenir le meilleur transfert possible     Nous prenons en compte ces deux parametres non seulement pour une t che de traduction  quot classique quot  mais egalement lorsque les corpus de donnees font defaut     Enfin  il s agit de proposer une approche ou volume de donnees et proximite des langues sont combinees afin de ne plus avoir a trancher entre ces deux elements       .    L apprentissage par transfert est une solution au probleme de le apprentissage de systemes de traduction automatique neuronaux pour des paires de langues peu dotees     Dans cet article  nous proposons une analyse de cette methode     Nous souhaitons evaluer le impact de la quantite de donnees et celui de la proximite des langues impliquees pour obtenir le meilleur transfert possible     Nous prenons en compte ces deux parametres non seulement pour une t che de traduction  quot classique quot  mais egalement lorsque les corpus de donnees font defaut     Enfin  il s agit de proposer une approche ou volume de donnees et proximite des langues sont combinees afin de ne plus avoir a trancher entre ces deux elements       .    L apprentissage par transfert est une solution au probleme de le apprentissage de systemes de traduction automatique neuronaux pour des paires de langues peu dotees     Dans cet article  nous proposons une analyse de cette methode     Nous souhaitons evaluer le impact de la quantite de donnees et celui de la proximite des langues impliquees pour obtenir le meilleur transfert possible     Nous prenons en compte ces deux parametres non seulement pour une t che de traduction  quot classique quot  mais egalement lorsque les corpus de donnees font defaut     Enfin  il s agit de proposer une approche ou volume de donnees et proximite des langues sont combinees afin de ne plus avoir a trancher entre ces deux elements       .    L apprentissage par transfert est une solution au probleme de le apprentissage de systemes de traduction automatique neuronaux pour des paires de langues peu dotees     Dans cet article  nous proposons une analyse de cette methode     Nous souhaitons evaluer le impact de la quantite de donnees et celui de la proximite des langues impliquees pour obtenir le meilleur transfert possible     Nous prenons en compte ces deux parametres non seulement pour une t che de traduction  quot classique quot  mais egalement lorsque les corpus de donnees font defaut     Enfin  il s agit de proposer une approche ou volume de donnees et proximite des langues sont combinees afin de ne plus avoir a trancher entre ces deux elements       .    L apprentissage par transfert est une solution au probleme de le apprentissage de systemes de traduction automatique neuronaux pour des paires de langues peu dotees     Dans cet article  nous proposons une analyse de cette methode     Nous souhaitons evaluer le impact de la quantite de donnees et celui de la proximite des langues impliquees pour obtenir le meilleur transfert possible     Nous prenons en compte ces deux parametres non seulement pour une t che de traduction  quot classique quot  mais egalement lorsque les corpus de donnees font defaut     Enfin  il s agit de proposer une approche ou volume de donnees et proximite des langues sont combinees afin de ne plus avoir a trancher entre ces deux elements       .    L apprentissage par transfert est une solution au probleme de le apprentissage de systemes de traduction automatique neuronaux pour des paires de langues peu dotees     Dans cet article  nous proposons une analyse de cette methode     Nous souhaitons evaluer le impact de la quantite de donnees et celui de la proximite des langues impliquees pour obtenir le meilleur transfert possible     Nous prenons en compte ces deux parametres non seulement pour une t che de traduction  quot classique quot  mais egalement lorsque les corpus de donnees font defaut     Enfin  il s agit de proposer une approche ou volume de donnees et proximite des langues sont combinees afin de ne plus avoir a trancher entre ces deux elements       .    L apprentissage par transfert est une solution au probleme de le apprentissage de systemes de traduction automatique neuronaux pour des paires de langues peu dotees     Dans cet article  nous proposons une analyse de cette methode     Nous souhaitons evaluer le impact de la quantite de donnees et celui de la proximite des langues impliquees pour obtenir le meilleur transfert possible     Nous prenons en compte ces deux parametres non seulement pour une t che de traduction  quot classique quot  mais egalement lorsque les corpus de donnees font defaut     Enfin  il s agit de proposer une approche ou volume de donnees et proximite des langues sont combinees afin de ne plus avoir a trancher entre ces deux elements       .    L apprentissage par transfert est une solution au probleme de le apprentissage de systemes de traduction automatique neuronaux pour des paires de langues peu dotees     Dans cet article  nous proposons une analyse de cette methode     Nous souhaitons evaluer le impact de la quantite de donnees et celui de la proximite des langues impliquees pour obtenir le meilleur transfert possible     Nous prenons en compte ces deux parametres non seulement pour une t che de traduction  quot classique quot  mais egalement lorsque les corpus de donnees font defaut     Enfin  il s agit de proposer une approche ou volume de donnees et proximite des langues sont combinees afin de ne plus avoir a trancher entre ces deux elements       .    L apprentissage par transfert est une solution au probleme de le apprentissage de systemes de traduction automatique neuronaux pour des paires de langues peu dotees     Dans cet article  nous proposons une analyse de cette methode     Nous souhaitons evaluer le impact de la quantite de donnees et celui de la proximite des langues impliquees pour obtenir le meilleur transfert possible     Nous prenons en compte ces deux parametres non seulement pour une t che de traduction  quot classique quot  mais egalement lorsque les corpus de donnees font defaut     Enfin  il s agit de proposer une approche ou volume de donnees et proximite des langues sont combinees afin de ne plus avoir a trancher entre ces deux elements       .    L apprentissage par transfert est une solution au probleme de le apprentissage de systemes de traduction automatique neuronaux pour des paires de langues peu dotees     Dans cet article  nous proposons une analyse de cette methode     Nous souhaitons evaluer le impact de la quantite de donnees et celui de la proximite des langues impliquees pour obtenir le meilleur transfert possible     Nous prenons en compte ces deux parametres non seulement pour une t che de traduction  quot classique quot  mais egalement lorsque les corpus de donnees font defaut     Enfin  il s agit de proposer une approche ou volume de donnees et proximite des langues sont combinees afin de ne plus avoir a trancher entre ces deux elements       .    L apprentissage par transfert est une solution au probleme de le apprentissage de systemes de traduction automatique neuronaux pour des paires de langues peu dotees     Dans cet article  nous proposons une analyse de cette methode     Nous souhaitons evaluer le impact de la quantite de donnees et celui de la proximite des langues impliquees pour obtenir le meilleur transfert possible     Nous prenons en compte ces deux parametres non seulement pour une t che de traduction  quot classique quot  mais egalement lorsque les corpus de donnees font defaut     Enfin  il s agit de proposer une approche ou volume de donnees et proximite des langues sont combinees afin de ne plus avoir a trancher entre ces deux elements       .    L apprentissage par transfert est une solution au probleme de le apprentissage de systemes de traduction automatique neuronaux pour des paires de langues peu dotees     Dans cet article  nous proposons une analyse de cette methode     Nous souhaitons evaluer le impact de la quantite de donnees et celui de la proximite des langues impliquees pour obtenir le meilleur transfert possible     Nous prenons en compte ces deux parametres non seulement pour une t che de traduction  quot classique quot  mais egalement lorsque les corpus de donnees font defaut     Enfin  il s agit de proposer une approche ou volume de donnees et proximite des langues sont combinees afin de ne plus avoir a trancher entre ces deux elements       .    L apprentissage par transfert est une solution au probleme de le apprentissage de systemes de traduction automatique neuronaux pour des paires de langues peu dotees     Dans cet article  nous proposons une analyse de cette methode     Nous souhaitons evaluer le impact de la quantite de donnees et celui de la proximite des langues impliquees pour obtenir le meilleur transfert possible     Nous prenons en compte ces deux parametres non seulement pour une t che de traduction  quot classique quot  mais egalement lorsque les corpus de donnees font defaut     Enfin  il s agit de proposer une approche ou volume de donnees et proximite des langues sont combinees afin de ne plus avoir a trancher entre ces deux elements       .    L apprentissage par transfert est une solution au probleme de le apprentissage de systemes de traduction automatique neuronaux pour des paires de langues peu dotees     Dans cet article  nous proposons une analyse de cette methode     Nous souhaitons evaluer le impact de la quantite de donnees et celui de la proximite des langues impliquees pour obtenir le meilleur transfert possible     Nous prenons en compte ces deux parametres non seulement pour une t che de traduction  quot classique quot  mais egalement lorsque les corpus de donnees font defaut     Enfin  il s agit de proposer une approche ou volume de donnees et proximite des langues sont combinees afin de ne plus avoir a trancher entre ces deux elements       .    L apprentissage par transfert est une solution au probleme de le apprentissage de systemes de traduction automatique neuronaux pour des paires de langues peu dotees     Dans cet article  nous proposons une analyse de cette methode     Nous souhaitons evaluer le impact de la quantite de donnees et celui de la proximite des langues impliquees pour obtenir le meilleur transfert possible     Nous prenons en compte ces deux parametres non seulement pour une t che de traduction  quot classique quot  mais egalement lorsque les corpus de donnees font defaut     Enfin  il s agit de proposer une approche ou volume de donnees et proximite des langues sont combinees afin de ne plus avoir a trancher entre ces deux elements       .    L apprentissage par transfert est une solution au probleme de le apprentissage de systemes de traduction automatique neuronaux pour des paires de langues peu dotees     Dans cet article  nous proposons une analyse de cette methode     Nous souhaitons evaluer le impact de la quantite de donnees et celui de la proximite des langues impliquees pour obtenir le meilleur transfert possible     Nous prenons en compte ces deux parametres non seulement pour une t che de traduction  quot classique quot  mais egalement lorsque les corpus de donnees font defaut     Enfin  il s agit de proposer une approche ou volume de donnees et proximite des langues sont combinees afin de ne plus avoir a trancher entre ces deux elements       .    L apprentissage par transfert est une solution au probleme de le apprentissage de systemes de traduction automatique neuronaux pour des paires de langues peu dotees     Dans cet article  nous proposons une analyse de cette methode     Nous souhaitons evaluer le impact de la quantite de donnees et celui de la proximite des langues impliquees pour obtenir le meilleur transfert possible     Nous prenons en compte ces deux parametres non seulement pour une t che de traduction  quot classique quot  mais egalement lorsque les corpus de donnees font defaut     Enfin  il s agit de proposer une approche ou volume de donnees et proximite des langues sont combinees afin de ne plus avoir a trancher entre ces deux elements       .    L apprentissage par transfert est une solution au probleme de le apprentissage de systemes de traduction automatique neuronaux pour des paires de langues peu dotees     Dans cet article  nous proposons une analyse de cette methode     Nous souhaitons evaluer le impact de la quantite de donnees et celui de la proximite des langues impliquees pour obtenir le meilleur transfert possible     Nous prenons en compte ces deux parametres non seulement pour une t che de traduction  quot classique quot  mais egalement lorsque les corpus de donnees font defaut     Enfin  il s agit de proposer une approche ou volume de donnees et proximite des langues sont combinees afin de ne plus avoir a trancher entre ces deux elements       .    L apprentissage par transfert est une solution au probleme de le apprentissage de systemes de traduction automatique neuronaux pour des paires de langues peu dotees     Dans cet article  nous proposons une analyse de cette methode     Nous souhaitons evaluer le impact de la quantite de donnees et celui de la proximite des langues impliquees pour obtenir le meilleur transfert possible     Nous prenons en compte ces deux parametres non seulement pour une t che de traduction  quot classique quot  mais egalement lorsque les corpus de donnees font defaut     Enfin  il s agit de proposer une approche ou volume de donnees et proximite des langues sont combinees afin de ne plus avoir a trancher entre ces deux elements       .    L apprentissage par transfert est une solution au probleme de le apprentissage de systemes de traduction automatique neuronaux pour des paires de langues peu dotees     Dans cet article  nous proposons une analyse de cette methode     Nous souhaitons evaluer le impact de la quantite de donnees et celui de la proximite des langues impliquees pour obtenir le meilleur transfert possible     Nous prenons en compte ces deux parametres non seulement pour une t che de traduction  quot classique quot  mais egalement lorsque les corpus de donnees font defaut     Enfin  il s agit de proposer une approche ou volume de donnees et proximite des langues sont combinees afin de ne plus avoir a trancher entre ces deux elements       .    L apprentissage par transfert est une solution au probleme de le apprentissage de systemes de traduction automatique neuronaux pour des paires de langues peu dotees     Dans cet article  nous proposons une analyse de cette methode     Nous souhaitons evaluer le impact de la quantite de donnees et celui de la proximite des langues impliquees pour obtenir le meilleur transfert possible     Nous prenons en compte ces deux parametres non seulement pour une t che de traduction  quot classique quot  mais egalement lorsque les corpus de donnees font defaut     Enfin  il s agit de proposer une approche ou volume de donnees et proximite des langues sont combinees afin de ne plus avoir a trancher entre ces deux elements       .    L apprentissage par transfert est une solution au probleme de le apprentissage de systemes de traduction automatique neuronaux pour des paires de langues peu dotees     Dans cet article  nous proposons une analyse de cette methode     Nous souhaitons evaluer le impact de la quantite de donnees et celui de la proximite des langues impliquees pour obtenir le meilleur transfert possible     Nous prenons en compte ces deux parametres non seulement pour une t che de traduction  quot classique quot  mais egalement lorsque les corpus de donnees font defaut     Enfin  il s agit de proposer une approche ou volume de donnees et proximite des langues sont combinees afin de ne plus avoir a trancher entre ces deux elements       '"
            ]
          },
          "metadata": {
            "tags": []
          },
          "execution_count": 40
        }
      ]
    }
  ]
}